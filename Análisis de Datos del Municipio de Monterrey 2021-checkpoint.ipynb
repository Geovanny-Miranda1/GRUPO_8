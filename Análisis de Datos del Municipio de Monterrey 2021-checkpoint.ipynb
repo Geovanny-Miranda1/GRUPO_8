{
 "cells": [
  {
   "cell_type": "markdown",
   "id": "8e603d79-f047-4b59-81f3-69000ace0898",
   "metadata": {},
   "source": [
    "## GRUPO 8 "
   ]
  },
  {
   "cell_type": "markdown",
   "id": "f7ac6ad0-02b3-495f-8747-1b86ea93e924",
   "metadata": {},
   "source": [
    "## Integrantes: Geovanny Miranda y Robinson Guanotoa"
   ]
  },
  {
   "cell_type": "markdown",
   "id": "6f48f4d8-4fbe-4255-9ed5-2cb395366a86",
   "metadata": {},
   "source": [
    "# Carga de datos "
   ]
  },
  {
   "cell_type": "code",
   "execution_count": 448,
   "id": "2cfa95e3-c2f7-46fc-8d32-8a8a4a74c81c",
   "metadata": {},
   "outputs": [],
   "source": [
    "#Importar libreria pandas\n",
    "import pandas as pd"
   ]
  },
  {
   "cell_type": "code",
   "execution_count": 450,
   "id": "485978fa-2188-4851-b5d5-e063bd307b73",
   "metadata": {},
   "outputs": [],
   "source": [
    "#importar la libreria del sistema operativo\n",
    "import os"
   ]
  },
  {
   "cell_type": "code",
   "execution_count": 451,
   "id": "935b2cf3-204a-44ec-ba31-89f1c03940cf",
   "metadata": {},
   "outputs": [
    {
     "name": "stdout",
     "output_type": "stream",
     "text": [
      " El volumen de la unidad C es WIN\n",
      " El número de serie del volumen es: A61F-E67C\n",
      "\n",
      " Directorio de C:\\Users\\ASUS TUF\\Documents\\Maestria\\INTELIGENCIA ARTIFICIAL\\trabajo grupal 1\n",
      "\n",
      "20/10/2024  15:29    <DIR>          .\n",
      "14/10/2024  23:45    <DIR>          ..\n",
      "20/10/2024  11:11    <DIR>          .ipynb_checkpoints\n",
      "12/10/2024  19:59            33.091 01_ENERO_2021.xlsx\n",
      "12/10/2024  19:59            78.126 02_FEBRERO_2021.xlsx\n",
      "12/10/2024  19:59           241.713 03_MARZO_2021.xlsx\n",
      "12/10/2024  19:59           184.893 04_ABRIL_2021.xlsx\n",
      "13/10/2024  15:06           202.027 05_MAYO_2021.xlsx\n",
      "12/10/2024  19:59           186.094 06_JUNIO_2021.xlsx\n",
      "12/10/2024  19:59           264.402 07_JULIO_2021.xlsx\n",
      "12/10/2024  19:59           166.116 08_AGOSTO_2021.xlsx\n",
      "13/10/2024  21:27           203.834 09_SEPTIEMBRE_2021.xlsx\n",
      "20/10/2024  15:29           949.846 1_Limpieza.ipynb\n",
      "13/10/2024  21:34         1.240.623 base.xlsx\n",
      "20/10/2024  14:53         3.355.601 base_procesada.csv\n",
      "20/10/2024  15:00         4.117.266 clean_enriquecer.csv\n",
      "20/10/2024  10:14         3.355.601 clean_final_2021.csv\n",
      "12/10/2024  20:00           204.032 DICIEMBRE_2021.xlsx\n",
      "12/10/2024  20:00           146.749 NOVIEMBRE_2021.xlsx\n",
      "12/10/2024  20:00            43.101 OCTUBRE_2021.xlsx\n",
      "20/10/2024  14:47            55.962 proyecto de Monterey-Copy1-checkpoint.ipynb\n",
      "              18 archivos     15.029.077 bytes\n",
      "               3 dirs  406.688.133.120 bytes libres\n"
     ]
    }
   ],
   "source": [
    "!dir"
   ]
  },
  {
   "cell_type": "code",
   "execution_count": 452,
   "id": "841dc2b3-6984-401f-993b-80650c9ce00a",
   "metadata": {},
   "outputs": [],
   "source": [
    "#Para dirigirse atras\n",
    "#os.chdir('InteligenciaArtificial/TAREA-Sem2')"
   ]
  },
  {
   "cell_type": "markdown",
   "id": "abd4f3f5-1407-4878-86f1-e01ca865a30d",
   "metadata": {},
   "source": [
    "### ENERO"
   ]
  },
  {
   "cell_type": "code",
   "execution_count": 454,
   "id": "7793e25f-c9aa-4a4f-b0db-26242fa070f6",
   "metadata": {},
   "outputs": [
    {
     "name": "stdout",
     "output_type": "stream",
     "text": [
      "['Inicio', 'CONTRATISTAS Y FDO FED', 'GASTOS VARIOS', 'SERV. PERS.']\n"
     ]
    }
   ],
   "source": [
    "# Obtener todos los nombres de las hojas en el archivo\n",
    "file_path = '01_ENERO_2021.xlsx'\n",
    "xls = pd.ExcelFile(file_path)\n",
    "print(xls.sheet_names)"
   ]
  },
  {
   "cell_type": "code",
   "execution_count": 9,
   "id": "0ea84e34-89eb-4da6-8cff-51e8aa6a4464",
   "metadata": {},
   "outputs": [],
   "source": [
    "#CONTRATISTA\n",
    "df_ener_contratista= pd.read_excel('01_ENERO_2021.xlsx', sheet_name='CONTRATISTAS Y FDO FED', skiprows=5)\n",
    "df_ener_contratista['SHEET']='CONTRATISTA'\n",
    "df_ener_contratista['MES']='ENERO'\n",
    "#GASTOS VARIOS\n",
    "df_ener_gastos_varios= pd.read_excel('01_ENERO_2021.xlsx', sheet_name='GASTOS VARIOS', skiprows=5)\n",
    "df_ener_gastos_varios['SHEET']='GASTOS VARIOS'\n",
    "df_ener_gastos_varios['MES']='ENERO'\n",
    "#PERSONALES\n",
    "df_ener_serv_personales= pd.read_excel('01_ENERO_2021.xlsx', sheet_name='SERV. PERS.', skiprows=5)\n",
    "df_ener_serv_personales['SHEET']='SERV PERSONALES'\n",
    "df_ener_serv_personales['MES']='ENERO'"
   ]
  },
  {
   "cell_type": "code",
   "execution_count": 10,
   "id": "408ceac9-6b7c-47d4-81ca-b6d2835b42a6",
   "metadata": {},
   "outputs": [
    {
     "name": "stdout",
     "output_type": "stream",
     "text": [
      "ENERO\n",
      "Antes de limpieza:  126\n",
      "Despues de limpieza:  103\n"
     ]
    }
   ],
   "source": [
    "###### TOTAL DE DATOS #######\n",
    "df_total_enero=pd.concat([df_ener_contratista,df_ener_gastos_varios,df_ener_serv_personales])\n",
    "df_total_enero.head(5)\n",
    "ene_antes=len(df_total_enero)\n",
    "#Eliminar filas que tengan algun valor Nulo en sus columnas\n",
    "df_total_enero= df_total_enero.dropna(how='any')\n",
    "ene_despues=len(df_total_enero)\n",
    "print('ENERO')\n",
    "print('Antes de limpieza: ',ene_antes)\n",
    "print('Despues de limpieza: ',ene_despues)"
   ]
  },
  {
   "cell_type": "markdown",
   "id": "825ce77e-23f2-484a-a883-25721e68c321",
   "metadata": {},
   "source": [
    "### FEBRERO"
   ]
  },
  {
   "cell_type": "code",
   "execution_count": 12,
   "id": "c5ebf87e-837f-4b49-bb10-36687cb7f87f",
   "metadata": {},
   "outputs": [
    {
     "name": "stdout",
     "output_type": "stream",
     "text": [
      "['Inicio', 'CONTRATISTAS Y FDO FED', 'GASTOS VARIOS', 'SERV PPROF', 'GTS REPRESENTACION', 'SERV. PERS.']\n"
     ]
    }
   ],
   "source": [
    "# Obtener todos los nombres de las hojas en el archivo\n",
    "file_path = '02_FEBRERO_2021.xlsx'\n",
    "xls = pd.ExcelFile(file_path)\n",
    "print(xls.sheet_names)"
   ]
  },
  {
   "cell_type": "code",
   "execution_count": 13,
   "id": "f9fb9176-32e7-4d71-b053-46bfaa9958b1",
   "metadata": {},
   "outputs": [],
   "source": [
    "#CONTRATISTA\n",
    "df_febr_contratista= pd.read_excel('02_FEBRERO_2021.xlsx', sheet_name='CONTRATISTAS Y FDO FED', skiprows=5)\n",
    "df_febr_contratista['SHEET']='CONTRATISTA'\n",
    "df_febr_contratista['MES']='FEBRERO'\n",
    "#GASTOS VARIOS\n",
    "df_febr_gastos_varios= pd.read_excel('02_FEBRERO_2021.xlsx', sheet_name='GASTOS VARIOS', skiprows=5)\n",
    "df_febr_gastos_varios['SHEET']='GASTOS VARIOS'\n",
    "df_febr_gastos_varios['MES']='FEBRERO'\n",
    "#PERSONALES\n",
    "df_febr_serv_personales= pd.read_excel('02_FEBRERO_2021.xlsx', sheet_name='SERV. PERS.', skiprows=5)\n",
    "df_febr_serv_personales['SHEET']='SERV PERSONALES'\n",
    "df_febr_serv_personales['MES']='FEBRERO'\n",
    "#PROFESIONALES\n",
    "df_febr_serv_profesionales= pd.read_excel('02_FEBRERO_2021.xlsx', sheet_name='SERV PPROF', skiprows=5)\n",
    "df_febr_serv_profesionales['SHEET']='SERV PROFESIONALES'\n",
    "df_febr_serv_profesionales['MES']='FEBRERO'\n",
    "#GASTOS REPRESENTACION\n",
    "df_febr_gastos_representacion= pd.read_excel('02_FEBRERO_2021.xlsx', sheet_name='GTS REPRESENTACION', skiprows=5)\n",
    "df_febr_gastos_representacion['SHEET']='REPRESENTACION'\n",
    "df_febr_gastos_representacion['MES']='FEBRERO'"
   ]
  },
  {
   "cell_type": "code",
   "execution_count": 14,
   "id": "52f4374f-3f16-4a9c-b78b-6694d7b4b080",
   "metadata": {},
   "outputs": [
    {
     "name": "stdout",
     "output_type": "stream",
     "text": [
      "FEBRERO\n",
      "Antes de limpieza:  637\n",
      "Despues de limpieza:  531\n"
     ]
    }
   ],
   "source": [
    "###### TOTAL DE DATOS #######\n",
    "df_total_febrero=pd.concat([df_febr_contratista,df_febr_gastos_varios,df_febr_serv_personales,df_febr_serv_profesionales,df_febr_gastos_representacion])\n",
    "df_total_febrero.head(5)\n",
    "febr_antes=len(df_total_febrero)\n",
    "#Eliminar filas que tengan algun valor Nulo en sus columnas\n",
    "df_total_febrero= df_total_febrero.dropna(how='any')\n",
    "febr_despues=len(df_total_febrero)\n",
    "print('FEBRERO')\n",
    "print('Antes de limpieza: ',febr_antes)\n",
    "print('Despues de limpieza: ',febr_despues)"
   ]
  },
  {
   "cell_type": "markdown",
   "id": "9b0827c6-b370-4fb6-b18b-fde0557b8b49",
   "metadata": {},
   "source": [
    "### MARZO"
   ]
  },
  {
   "cell_type": "code",
   "execution_count": 16,
   "id": "b60d4387-683c-456f-af6c-c68081e4dcc6",
   "metadata": {},
   "outputs": [
    {
     "name": "stdout",
     "output_type": "stream",
     "text": [
      "['Inicio', 'CONTRATISTAS Y FDO FED', 'GASTOS VARIOS', 'SERV PPROF', 'COMUNICACION', 'GTS REPRE', 'SERV. PERS.']\n"
     ]
    }
   ],
   "source": [
    "# Obtener todos los nombres de las hojas en el archivo\n",
    "file_path = '03_MARZO_2021.xlsx'\n",
    "xls = pd.ExcelFile(file_path)\n",
    "print(xls.sheet_names)"
   ]
  },
  {
   "cell_type": "code",
   "execution_count": 17,
   "id": "7ecb021a-c278-49ef-96e2-4c95eba7ef6c",
   "metadata": {},
   "outputs": [],
   "source": [
    "#CONTRATISTA\n",
    "df_marz_contratista= pd.read_excel('03_MARZO_2021.xlsx', sheet_name='CONTRATISTAS Y FDO FED', skiprows=5)\n",
    "df_marz_contratista['SHEET']='CONTRATISTA'\n",
    "df_marz_contratista['MES']='MARZO'\n",
    "#GASTOS VARIOS\n",
    "df_marz_gastos_varios= pd.read_excel('03_MARZO_2021.xlsx', sheet_name='GASTOS VARIOS', skiprows=5)\n",
    "df_marz_gastos_varios['SHEET']='GASTOS VARIOS'\n",
    "df_marz_gastos_varios['MES']='MARZO'\n",
    "#PERSONALES\n",
    "df_marz_serv_personales= pd.read_excel('03_MARZO_2021.xlsx', sheet_name='SERV. PERS.', skiprows=5)\n",
    "df_marz_serv_personales['SHEET']='SERV PERSONALES'\n",
    "df_marz_serv_personales['MES']='MARZO'\n",
    "#PROFESIONALES\n",
    "df_marz_serv_profesionales= pd.read_excel('03_MARZO_2021.xlsx', sheet_name='SERV PPROF', skiprows=5)\n",
    "df_marz_serv_profesionales['SHEET']='SERV PROFESIONALES'\n",
    "df_marz_serv_profesionales['MES']='MARZO'\n",
    "#GASTOS REPRESENTACION\n",
    "df_marz_gastos_representacion= pd.read_excel('03_MARZO_2021.xlsx', sheet_name='GTS REPRE', skiprows=5)\n",
    "df_marz_gastos_representacion['SHEET']='REPRESENTACION'\n",
    "df_marz_gastos_representacion['MES']='MARZO'\n",
    "#COMUNICACION\n",
    "df_marz_gastos_comunicacion= pd.read_excel('03_MARZO_2021.xlsx', sheet_name='COMUNICACION', skiprows=5)\n",
    "df_marz_gastos_comunicacion['SHEET']='COMUNICACION'\n",
    "df_marz_gastos_comunicacion['MES']='MARZO'"
   ]
  },
  {
   "cell_type": "code",
   "execution_count": 18,
   "id": "66fe387c-a1fd-45d5-add8-061bd1e6c01a",
   "metadata": {},
   "outputs": [
    {
     "name": "stdout",
     "output_type": "stream",
     "text": [
      "MARZO\n",
      "Antes de limpieza:  2508\n",
      "Despues de limpieza:  2212\n"
     ]
    }
   ],
   "source": [
    "###### TOTAL DE DATOS #######\n",
    "df_total_marzo=pd.concat([df_marz_contratista,df_marz_gastos_varios,df_marz_serv_personales,df_marz_serv_profesionales,df_marz_gastos_representacion,df_marz_gastos_comunicacion])\n",
    "df_total_marzo.head(5)\n",
    "marz_antes=len(df_total_marzo)\n",
    "#Eliminar filas que tengan algun valor Nulo en sus columnas\n",
    "df_total_marzo= df_total_marzo.dropna(how='any')\n",
    "marz_despues=len(df_total_marzo)\n",
    "print('MARZO')\n",
    "print('Antes de limpieza: ',marz_antes)\n",
    "print('Despues de limpieza: ',marz_despues)"
   ]
  },
  {
   "cell_type": "markdown",
   "id": "35df3627-2295-460b-b7e9-b51af02fdc7f",
   "metadata": {},
   "source": [
    "### ABRIL"
   ]
  },
  {
   "cell_type": "code",
   "execution_count": 20,
   "id": "f3bddaf2-0e6c-4061-83fe-64a5cbaa6d1e",
   "metadata": {},
   "outputs": [
    {
     "name": "stdout",
     "output_type": "stream",
     "text": [
      "['Inicio', 'CONTRATISTAS Y FDO FED', 'GASTOS VARIOS', 'SERV PPROF', 'COMUNICACION', 'GTS REPRE', 'SERV. PERS.']\n"
     ]
    }
   ],
   "source": [
    "# Obtener todos los nombres de las hojas en el archivo\n",
    "file_path = '04_ABRIL_2021.xlsx'\n",
    "xls = pd.ExcelFile(file_path)\n",
    "print(xls.sheet_names)"
   ]
  },
  {
   "cell_type": "code",
   "execution_count": 21,
   "id": "72c54008-82e1-444f-93d6-131caab0c0db",
   "metadata": {},
   "outputs": [],
   "source": [
    "#CONTRATISTA\n",
    "df_abr_contratista= pd.read_excel('04_ABRIL_2021.xlsx', sheet_name='CONTRATISTAS Y FDO FED', skiprows=5)\n",
    "df_abr_contratista['SHEET']='CONTRATISTA'\n",
    "df_abr_contratista['MES']='ABRIL'\n",
    "#GASTOS VARIOS\n",
    "df_abr_gastos_varios= pd.read_excel('04_ABRIL_2021.xlsx', sheet_name='GASTOS VARIOS', skiprows=5)\n",
    "df_abr_gastos_varios['SHEET']='GASTOS VARIOS'\n",
    "df_abr_gastos_varios['MES']='ABRIL'\n",
    "#PERSONALES\n",
    "df_abr_serv_personales= pd.read_excel('04_ABRIL_2021.xlsx', sheet_name='SERV. PERS.', skiprows=5)\n",
    "df_abr_serv_personales['SHEET']='SERV PERSONALES'\n",
    "df_abr_serv_personales['MES']='ABRIL'\n",
    "#PROFESIONALES\n",
    "df_abr_serv_profesionales= pd.read_excel('04_ABRIL_2021.xlsx', sheet_name='SERV PPROF', skiprows=5)\n",
    "df_abr_serv_profesionales['SHEET']='SERV PROFESIONALES'\n",
    "df_abr_serv_profesionales['MES']='ABRIL'\n",
    "#GASTOS REPRESENTACION\n",
    "df_abr_gastos_representacion= pd.read_excel('04_ABRIL_2021.xlsx', sheet_name='GTS REPRE', skiprows=5)\n",
    "df_abr_gastos_representacion['SHEET']='REPRESENTACION'\n",
    "df_abr_gastos_representacion['MES']='ABRIL'\n",
    "#COMUNICACION\n",
    "df_abr_gastos_comunicacion= pd.read_excel('04_ABRIL_2021.xlsx', sheet_name='COMUNICACION', skiprows=5)\n",
    "df_abr_gastos_comunicacion['SHEET']='COMUNICACION'\n",
    "df_abr_gastos_comunicacion['MES']='ABRIL'"
   ]
  },
  {
   "cell_type": "code",
   "execution_count": 22,
   "id": "047c6c94-9dac-4c9b-a2fb-ed922ed9ed3a",
   "metadata": {},
   "outputs": [
    {
     "name": "stdout",
     "output_type": "stream",
     "text": [
      "ABRIL\n",
      "Antes de limpieza:  1703\n",
      "Despues de limpieza:  1476\n"
     ]
    }
   ],
   "source": [
    "###### TOTAL DE DATOS #######\n",
    "df_total_abril=pd.concat([df_abr_contratista,df_abr_gastos_varios,df_abr_serv_personales,df_abr_serv_profesionales,df_abr_gastos_representacion,df_abr_gastos_comunicacion])\n",
    "df_total_abril.head(5)\n",
    "abr_antes=len(df_total_abril)\n",
    "#Eliminar filas que tengan algun valor Nulo en sus columnas\n",
    "df_total_abril= df_total_abril.dropna(how='any')\n",
    "abr_despues=len(df_total_abril)\n",
    "print('ABRIL')\n",
    "print('Antes de limpieza: ',abr_antes)\n",
    "print('Despues de limpieza: ',abr_despues)"
   ]
  },
  {
   "cell_type": "markdown",
   "id": "df76cd27-705a-4450-857d-d0393f0bb681",
   "metadata": {},
   "source": [
    "### MAYO"
   ]
  },
  {
   "cell_type": "code",
   "execution_count": 24,
   "id": "529f79ec-0f7c-4f4f-9ef8-895c27db8115",
   "metadata": {},
   "outputs": [
    {
     "name": "stdout",
     "output_type": "stream",
     "text": [
      "['Inicio', 'CONTRATISTAS Y FDO FED', 'GASTOS VARIOS', 'SERV PPROF', 'COMUNICACION', 'SERV. PERS.']\n"
     ]
    }
   ],
   "source": [
    "# Obtener todos los nombres de las hojas en el archivo\n",
    "file_path = '05_MAYO_2021.xlsx'\n",
    "xls = pd.ExcelFile(file_path)\n",
    "print(xls.sheet_names)"
   ]
  },
  {
   "cell_type": "code",
   "execution_count": 25,
   "id": "14f47f5b-32af-45be-984d-17e559492262",
   "metadata": {},
   "outputs": [],
   "source": [
    "#CONTRATISTA\n",
    "df_mayo_contratista= pd.read_excel('05_MAYO_2021.xlsx', sheet_name='CONTRATISTAS Y FDO FED', skiprows=5)\n",
    "df_mayo_contratista['SHEET']='CONTRATISTA'\n",
    "df_mayo_contratista['MES']='MAYO'\n",
    "#GASTOS VARIOS\n",
    "df_mayo_gastos_varios= pd.read_excel('05_MAYO_2021.xlsx', sheet_name='GASTOS VARIOS', skiprows=5)\n",
    "df_mayo_gastos_varios['SHEET']='GASTOS VARIOS'\n",
    "df_mayo_gastos_varios['MES']='MAYO'\n",
    "#PERSONALES\n",
    "df_mayo_serv_personales= pd.read_excel('05_MAYO_2021.xlsx', sheet_name='SERV. PERS.', skiprows=5)\n",
    "df_mayo_serv_personales['SHEET']='SERV PERSONALES'\n",
    "df_mayo_serv_personales['MES']='MAYO'\n",
    "#PROFESIONALES\n",
    "df_mayo_serv_profesionales= pd.read_excel('05_MAYO_2021.xlsx', sheet_name='SERV PPROF', skiprows=5)\n",
    "df_mayo_serv_profesionales['SHEET']='SERV PROFESIONALES'\n",
    "df_mayo_serv_profesionales['MES']='MAYO'\n",
    "#COMUNICACION\n",
    "df_mayo_gastos_comunicacion= pd.read_excel('05_MAYO_2021.xlsx', sheet_name='COMUNICACION', skiprows=5)\n",
    "df_mayo_gastos_comunicacion['SHEET']='COMUNICACION'\n",
    "df_mayo_gastos_comunicacion['MES']='MAYO'"
   ]
  },
  {
   "cell_type": "code",
   "execution_count": 26,
   "id": "771860e7-cf2e-4d44-90dd-e3d300b5e515",
   "metadata": {},
   "outputs": [
    {
     "name": "stdout",
     "output_type": "stream",
     "text": [
      "MAYO\n",
      "Antes de limpieza:  1955\n",
      "Despues de limpieza:  1682\n"
     ]
    }
   ],
   "source": [
    "###### TOTAL DE DATOS #######\n",
    "df_total_mayo=pd.concat([df_mayo_contratista,df_mayo_gastos_varios,df_mayo_serv_personales,df_mayo_serv_profesionales,df_mayo_gastos_comunicacion])\n",
    "mayo_antes=len(df_total_mayo)\n",
    "#Eliminar filas que tengan algun valor Nulo en sus columnas\n",
    "df_total_mayo= df_total_mayo.dropna(how='any')\n",
    "mayo_despues=len(df_total_mayo)\n",
    "print('MAYO')\n",
    "print('Antes de limpieza: ',mayo_antes)\n",
    "print('Despues de limpieza: ',mayo_despues)\n"
   ]
  },
  {
   "cell_type": "markdown",
   "id": "210adc5b-81c4-4bb2-9249-b13ffeca5576",
   "metadata": {},
   "source": [
    "### JUNIO"
   ]
  },
  {
   "cell_type": "code",
   "execution_count": 28,
   "id": "2b6e7c2a",
   "metadata": {},
   "outputs": [
    {
     "name": "stdout",
     "output_type": "stream",
     "text": [
      "['Inicio', 'CONTRATISTAS Y FDO FED', 'GASTOS VARIOS', 'SERV PPROF', 'COMUNICACION', 'GTS REPRE', 'SERV. PERS.']\n"
     ]
    }
   ],
   "source": [
    "# Obtener todos los nombres de las hojas en el archivo\n",
    "file_path = '06_JUNIO_2021.xlsx'\n",
    "xls = pd.ExcelFile(file_path)\n",
    "print(xls.sheet_names)"
   ]
  },
  {
   "cell_type": "code",
   "execution_count": 29,
   "id": "b5309990",
   "metadata": {},
   "outputs": [],
   "source": [
    "#CONTRATISTA\n",
    "df_juni_contratista= pd.read_excel('06_JUNIO_2021.xlsx', sheet_name='CONTRATISTAS Y FDO FED', skiprows=5)\n",
    "df_juni_contratista['SHEET']='CONTRATISTA'\n",
    "df_juni_contratista['MES']='JUNIO'\n",
    "#GASTOS VARIOS\n",
    "df_juni_gastos_varios= pd.read_excel('06_JUNIO_2021.xlsx', sheet_name='GASTOS VARIOS', skiprows=5)\n",
    "df_juni_gastos_varios['SHEET']='GASTOS VARIOS'\n",
    "df_juni_gastos_varios['MES']='JUNIO'\n",
    "#PERSONALES\n",
    "df_juni_serv_personales= pd.read_excel('06_JUNIO_2021.xlsx', sheet_name='SERV. PERS.', skiprows=5)\n",
    "df_juni_serv_personales['SHEET']='SERV PERSONALES'\n",
    "df_juni_serv_personales['MES']='JUNIO'\n",
    "#PROFESIONALES\n",
    "df_juni_serv_profesionales= pd.read_excel('06_JUNIO_2021.xlsx', sheet_name='SERV PPROF', skiprows=5)\n",
    "df_juni_serv_profesionales['SHEET']='SERV PROFESIONALES'\n",
    "df_juni_serv_profesionales['MES']='JUNIO'\n",
    "#GASTOS REPRESENTACION\n",
    "df_juni_gastos_representacion= pd.read_excel('06_JUNIO_2021.xlsx', sheet_name='GTS REPRE', skiprows=5)\n",
    "df_juni_gastos_representacion['SHEET']='REPRESENTACION'\n",
    "df_juni_gastos_representacion['MES']='JUNIO'\n",
    "#COMUNICACION\n",
    "df_juni_gastos_comunicacion= pd.read_excel('06_JUNIO_2021.xlsx', sheet_name='COMUNICACION', skiprows=5)\n",
    "df_juni_gastos_comunicacion['SHEET']='COMUNICACION'\n",
    "df_juni_gastos_comunicacion['MES']='JUNIO'"
   ]
  },
  {
   "cell_type": "code",
   "execution_count": 30,
   "id": "0238e42a",
   "metadata": {},
   "outputs": [
    {
     "name": "stdout",
     "output_type": "stream",
     "text": [
      "JUNIO\n",
      "Antes de limpieza:  1668\n",
      "Despues de limpieza:  0\n"
     ]
    },
    {
     "data": {
      "text/html": [
       "<div>\n",
       "<style scoped>\n",
       "    .dataframe tbody tr th:only-of-type {\n",
       "        vertical-align: middle;\n",
       "    }\n",
       "\n",
       "    .dataframe tbody tr th {\n",
       "        vertical-align: top;\n",
       "    }\n",
       "\n",
       "    .dataframe thead th {\n",
       "        text-align: right;\n",
       "    }\n",
       "</style>\n",
       "<table border=\"1\" class=\"dataframe\">\n",
       "  <thead>\n",
       "    <tr style=\"text-align: right;\">\n",
       "      <th></th>\n",
       "      <th>NUM BEN</th>\n",
       "      <th>BENEFICIARIO</th>\n",
       "      <th>RFC</th>\n",
       "      <th>FACT-NUE-FO</th>\n",
       "      <th>CONTRATO</th>\n",
       "      <th>CONCEPTO</th>\n",
       "      <th>TIPO</th>\n",
       "      <th># OP</th>\n",
       "      <th>FECHA</th>\n",
       "      <th>IMPORTE</th>\n",
       "      <th>SHEET</th>\n",
       "      <th>MES</th>\n",
       "      <th>FACT</th>\n",
       "      <th>TP OP</th>\n",
       "      <th>NUM OP</th>\n",
       "    </tr>\n",
       "  </thead>\n",
       "  <tbody>\n",
       "  </tbody>\n",
       "</table>\n",
       "</div>"
      ],
      "text/plain": [
       "Empty DataFrame\n",
       "Columns: [NUM BEN, BENEFICIARIO, RFC, FACT-NUE-FO, CONTRATO, CONCEPTO, TIPO, # OP, FECHA, IMPORTE, SHEET, MES, FACT, TP OP, NUM OP]\n",
       "Index: []"
      ]
     },
     "execution_count": 30,
     "metadata": {},
     "output_type": "execute_result"
    }
   ],
   "source": [
    "###### TOTAL DE DATOS #######\n",
    "df_total_junio=pd.concat([df_juni_contratista,df_juni_gastos_varios,df_juni_serv_personales,df_juni_serv_profesionales,df_juni_gastos_representacion,df_juni_gastos_comunicacion])\n",
    "df_total_junio.head(10)\n",
    "juni_antes=len(df_total_junio)\n",
    "#Eliminar filas que tengan algun valor Nulo en sus columnas\n",
    "df_total_junio= df_total_junio.dropna(how='any')\n",
    "juni_despues=len(df_total_junio)\n",
    "print('JUNIO')\n",
    "print('Antes de limpieza: ',juni_antes)\n",
    "print('Despues de limpieza: ',juni_despues)\n",
    "df_total_junio.head(10)"
   ]
  },
  {
   "cell_type": "markdown",
   "id": "32a83ff7-33a0-4852-a25c-0f809c7573ec",
   "metadata": {},
   "source": [
    "### JULIO"
   ]
  },
  {
   "cell_type": "code",
   "execution_count": 32,
   "id": "e7d7a28e",
   "metadata": {},
   "outputs": [
    {
     "name": "stdout",
     "output_type": "stream",
     "text": [
      "['Inicio', 'CONTRATISTAS Y FDO FED', 'GASTOS VARIOS', 'SERV PPROF', 'COMUNICACION', 'GTS REPRE', 'SERV. PERS.']\n"
     ]
    }
   ],
   "source": [
    "# Obtener todos los nombres de las hojas en el archivo\n",
    "file_path = '07_JULIO_2021.xlsx'\n",
    "xls = pd.ExcelFile(file_path)\n",
    "print(xls.sheet_names)"
   ]
  },
  {
   "cell_type": "code",
   "execution_count": 33,
   "id": "4c4289d8",
   "metadata": {},
   "outputs": [],
   "source": [
    "#CONTRATISTA\n",
    "df_juli_contratista= pd.read_excel('07_JULIO_2021.xlsx', sheet_name='CONTRATISTAS Y FDO FED', skiprows=5)\n",
    "df_juli_contratista['SHEET']='CONTRATISTA'\n",
    "df_juli_contratista['MES']='JULIO'\n",
    "#GASTOS VARIOS\n",
    "df_juli_gastos_varios= pd.read_excel('07_JULIO_2021.xlsx', sheet_name='GASTOS VARIOS', skiprows=5)\n",
    "df_juli_gastos_varios['SHEET']='GASTOS VARIOS'\n",
    "df_juli_gastos_varios['MES']='JULIO'\n",
    "#PERSONALES\n",
    "df_juli_serv_personales= pd.read_excel('07_JULIO_2021.xlsx', sheet_name='SERV. PERS.', skiprows=5)\n",
    "df_juli_serv_personales['SHEET']='SERV PERSONALES'\n",
    "df_juli_serv_personales['MES']='JULIO'\n",
    "#PROFESIONALES\n",
    "df_juli_serv_profesionales= pd.read_excel('07_JULIO_2021.xlsx', sheet_name='SERV PPROF', skiprows=5)\n",
    "df_juli_serv_profesionales['SHEET']='SERV PROFESIONALES'\n",
    "df_juli_serv_profesionales['MES']='JULIO'\n",
    "#GASTOS REPRESENTACION\n",
    "df_juli_gastos_representacion= pd.read_excel('07_JULIO_2021.xlsx', sheet_name='GTS REPRE', skiprows=5)\n",
    "df_juli_gastos_representacion['SHEET']='REPRESENTACION'\n",
    "df_juli_gastos_representacion['MES']='JULIO'\n",
    "#COMUNICACION\n",
    "df_juli_gastos_comunicacion= pd.read_excel('07_JULIO_2021.xlsx', sheet_name='COMUNICACION', skiprows=5)\n",
    "df_juli_gastos_comunicacion['SHEET']='COMUNICACION'\n",
    "df_juli_gastos_comunicacion['MES']='JULIO'"
   ]
  },
  {
   "cell_type": "code",
   "execution_count": 34,
   "id": "37b635d5",
   "metadata": {},
   "outputs": [
    {
     "name": "stdout",
     "output_type": "stream",
     "text": [
      "JULIO\n",
      "Antes de limpieza:  2531\n",
      "Despues de limpieza:  0\n"
     ]
    }
   ],
   "source": [
    "###### TOTAL DE DATOS #######\n",
    "df_total_julio=pd.concat([df_juli_contratista,df_juli_gastos_varios,df_juli_serv_personales,df_juli_serv_profesionales,df_juli_gastos_representacion,df_juli_gastos_comunicacion])\n",
    "df_total_julio.head(10)\n",
    "juli_antes=len(df_total_julio)\n",
    "#Eliminar filas que tengan algun valor Nulo en sus columnas\n",
    "df_total_julio= df_total_julio.dropna(how='any')\n",
    "juli_despues=len(df_total_julio)\n",
    "print('JULIO')\n",
    "print('Antes de limpieza: ',juli_antes)\n",
    "print('Despues de limpieza: ',juli_despues)"
   ]
  },
  {
   "cell_type": "markdown",
   "id": "19963ca2-3fa2-4810-b41a-ccd78d860669",
   "metadata": {},
   "source": [
    "### AGOSTO"
   ]
  },
  {
   "cell_type": "code",
   "execution_count": 36,
   "id": "112a88dc",
   "metadata": {},
   "outputs": [
    {
     "name": "stdout",
     "output_type": "stream",
     "text": [
      "['Inicio', 'CONTRATISTAS Y FDO FED', 'GASTOS VARIOS', 'SERV PPROF', 'COMUNICACION', 'GTS REPRE', 'SERV. PERS.']\n"
     ]
    }
   ],
   "source": [
    "# Obtener todos los nombres de las hojas en el archivo\n",
    "file_path = '08_AGOSTO_2021.xlsx'\n",
    "xls = pd.ExcelFile(file_path)\n",
    "print(xls.sheet_names)"
   ]
  },
  {
   "cell_type": "code",
   "execution_count": 37,
   "id": "7c8b2868",
   "metadata": {},
   "outputs": [],
   "source": [
    "#CONTRATISTA\n",
    "df_agos_contratista= pd.read_excel('08_AGOSTO_2021.xlsx', sheet_name='CONTRATISTAS Y FDO FED', skiprows=5)\n",
    "df_agos_contratista['SHEET']='CONTRATISTA'\n",
    "df_agos_contratista['MES']='AGOSTO'\n",
    "#GASTOS VARIOS\n",
    "df_agos_gastos_varios= pd.read_excel('08_AGOSTO_2021.xlsx', sheet_name='GASTOS VARIOS', skiprows=5)\n",
    "df_agos_gastos_varios['SHEET']='GASTOS VARIOS'\n",
    "df_agos_gastos_varios['MES']='AGOSTO'\n",
    "#PERSONALES\n",
    "df_agos_serv_personales= pd.read_excel('08_AGOSTO_2021.xlsx', sheet_name='SERV. PERS.', skiprows=5)\n",
    "df_agos_serv_personales['SHEET']='SERV PERSONALES'\n",
    "df_agos_serv_personales['MES']='AGOSTO'\n",
    "#PROFESIONALES\n",
    "df_agos_serv_profesionales= pd.read_excel('08_AGOSTO_2021.xlsx', sheet_name='SERV PPROF', skiprows=5)\n",
    "df_agos_serv_profesionales['SHEET']='SERV PROFESIONALES'\n",
    "df_agos_serv_profesionales['MES']='AGOSTO'\n",
    "#GASTOS REPRESENTACION\n",
    "df_agos_gastos_representacion= pd.read_excel('08_AGOSTO_2021.xlsx', sheet_name='GTS REPRE', skiprows=5)\n",
    "df_agos_gastos_representacion['SHEET']='REPRESENTACION'\n",
    "df_agos_gastos_representacion['MES']='AGOSTO'\n",
    "#COMUNICACION\n",
    "df_agos_gastos_comunicacion= pd.read_excel('08_AGOSTO_2021.xlsx', sheet_name='COMUNICACION', skiprows=5)\n",
    "df_agos_gastos_comunicacion['SHEET']='COMUNICACION'\n",
    "df_agos_gastos_comunicacion['MES']='AGOSTO'"
   ]
  },
  {
   "cell_type": "code",
   "execution_count": 38,
   "id": "ff667c01",
   "metadata": {},
   "outputs": [
    {
     "name": "stdout",
     "output_type": "stream",
     "text": [
      "AGOSTO\n",
      "Antes de limpieza:  1494\n",
      "Despues de limpieza:  1286\n"
     ]
    }
   ],
   "source": [
    "###### TOTAL DE DATOS #######\n",
    "df_total_agosto=pd.concat([df_agos_contratista,df_agos_gastos_varios,df_agos_serv_personales,df_agos_serv_profesionales,df_agos_gastos_representacion,df_agos_gastos_comunicacion])\n",
    "df_total_agosto.head(10)\n",
    "agos_antes=len(df_total_agosto)\n",
    "#Eliminar filas que tengan algun valor Nulo en sus columnas\n",
    "df_total_agosto= df_total_agosto.dropna(how='any')\n",
    "agos_despues=len(df_total_agosto)\n",
    "print('AGOSTO')\n",
    "print('Antes de limpieza: ',agos_antes)\n",
    "print('Despues de limpieza: ',agos_despues)"
   ]
  },
  {
   "cell_type": "markdown",
   "id": "c6704300-1965-49b0-96f0-fe74dfa94437",
   "metadata": {},
   "source": [
    "### SEPTIEMBRE"
   ]
  },
  {
   "cell_type": "code",
   "execution_count": 40,
   "id": "35382b41",
   "metadata": {},
   "outputs": [
    {
     "name": "stdout",
     "output_type": "stream",
     "text": [
      "['Inicio', 'CONTRATISTAS Y FDO FED', 'GASTOS VARIOS', 'SERV PROF', 'COMUNICACION', 'GTS REPRE', 'SERV PERS']\n"
     ]
    }
   ],
   "source": [
    "# Obtener todos los nombres de las hojas en el archivo\n",
    "file_path = '09_SEPTIEMBRE_2021.xlsx'\n",
    "xls = pd.ExcelFile(file_path)\n",
    "print(xls.sheet_names)"
   ]
  },
  {
   "cell_type": "code",
   "execution_count": 41,
   "id": "801132ea",
   "metadata": {},
   "outputs": [],
   "source": [
    "#CONTRATISTA\n",
    "df_sept_contratista= pd.read_excel('09_SEPTIEMBRE_2021.xlsx', sheet_name='CONTRATISTAS Y FDO FED', skiprows=5)\n",
    "df_sept_contratista['SHEET']='CONTRATISTA'\n",
    "df_sept_contratista['MES']='SEPTIEMBRE'\n",
    "#GASTOS VARIOS\n",
    "df_sept_gastos_varios= pd.read_excel('09_SEPTIEMBRE_2021.xlsx', sheet_name='GASTOS VARIOS', skiprows=5)\n",
    "df_sept_gastos_varios['SHEET']='GASTOS VARIOS'\n",
    "df_sept_gastos_varios['MES']='SEPTIEMBRE'\n",
    "#PERSONALES\n",
    "df_sept_serv_personales= pd.read_excel('09_SEPTIEMBRE_2021.xlsx', sheet_name='SERV PERS', skiprows=5)\n",
    "df_sept_serv_personales['SHEET']='SERV PERSONALES'\n",
    "df_sept_serv_personales['MES']='SEPTIEMBRE'\n",
    "#PROFESIONALES\n",
    "df_sept_serv_profesionales= pd.read_excel('09_SEPTIEMBRE_2021.xlsx', sheet_name='SERV PROF', skiprows=5)\n",
    "df_sept_serv_profesionales['SHEET']='SERV PROFESIONALES'\n",
    "df_sept_serv_profesionales['MES']='SEPTIEMBRE'\n",
    "#GASTOS REPRESENTACION\n",
    "df_sept_gastos_representacion= pd.read_excel('09_SEPTIEMBRE_2021.xlsx', sheet_name='GTS REPRE', skiprows=5)\n",
    "df_sept_gastos_representacion['SHEET']='REPRESENTACION'\n",
    "df_sept_gastos_representacion['MES']='SEPTIEMBRE'\n",
    "#COMUNICACION\n",
    "df_sept_gastos_comunicacion= pd.read_excel('09_SEPTIEMBRE_2021.xlsx', sheet_name='COMUNICACION', skiprows=5)\n",
    "df_sept_gastos_comunicacion['SHEET']='COMUNICACION'\n",
    "df_sept_gastos_comunicacion['MES']='SEPTIEMBRE'"
   ]
  },
  {
   "cell_type": "code",
   "execution_count": 42,
   "id": "dcf12545",
   "metadata": {},
   "outputs": [
    {
     "name": "stdout",
     "output_type": "stream",
     "text": [
      "SEPTIEMBRE\n",
      "Antes de limpieza:  2020\n",
      "Despues de limpieza:  1794\n"
     ]
    }
   ],
   "source": [
    "###### TOTAL DE DATOS #######\n",
    "df_total_septiembre=pd.concat([df_sept_contratista,df_sept_gastos_varios,df_sept_serv_personales,df_sept_serv_profesionales,df_sept_gastos_representacion,df_sept_gastos_comunicacion])\n",
    "#df_total_septiembre.head(10)\n",
    "sept_antes=len(df_total_septiembre)\n",
    "#Eliminar filas que tengan algun valor Nulo en sus columnas\n",
    "df_total_septiembre= df_total_septiembre.dropna(how='any')\n",
    "sept_despues=len(df_total_septiembre)\n",
    "print('SEPTIEMBRE')\n",
    "print('Antes de limpieza: ',sept_antes)\n",
    "print('Despues de limpieza: ',sept_despues)"
   ]
  },
  {
   "cell_type": "markdown",
   "id": "c40c192b-acb7-44b3-9030-b31f878350fb",
   "metadata": {},
   "source": [
    "### OCTUBRE"
   ]
  },
  {
   "cell_type": "code",
   "execution_count": 44,
   "id": "9cdfae36",
   "metadata": {},
   "outputs": [
    {
     "name": "stdout",
     "output_type": "stream",
     "text": [
      "['OBRA PUBLICA GTS VARIOS FDOS ES', 'GTS VARIOS', 'SERVICIOS PERSONALES']\n"
     ]
    }
   ],
   "source": [
    "# Obtener todos los nombres de las hojas en el archivo\n",
    "file_path = 'OCTUBRE_2021.xlsx'\n",
    "xls = pd.ExcelFile(file_path)\n",
    "print(xls.sheet_names)"
   ]
  },
  {
   "cell_type": "code",
   "execution_count": 45,
   "id": "3f7d79d7",
   "metadata": {},
   "outputs": [],
   "source": [
    "#PUBLICA\n",
    "df_octu_publica= pd.read_excel('OCTUBRE_2021.xlsx', sheet_name='OBRA PUBLICA GTS VARIOS FDOS ES', skiprows=5)\n",
    "df_octu_publica['SHEET']='OBRA PUBLICA'\n",
    "df_octu_publica['MES']='OCTUBRE'\n",
    "#GASTOS VARIOS\n",
    "df_octu_gastos_varios= pd.read_excel('OCTUBRE_2021.xlsx', sheet_name='GTS VARIOS', skiprows=5)\n",
    "df_octu_gastos_varios['SHEET']='GASTOS VARIOS'\n",
    "df_octu_gastos_varios['MES']='OCTUBRE'\n",
    "#PERSONALES\n",
    "df_octu_serv_personales= pd.read_excel('OCTUBRE_2021.xlsx', sheet_name='SERVICIOS PERSONALES', skiprows=5)\n",
    "df_octu_serv_personales['SHEET']='SERV PERSONALES'\n",
    "df_octu_serv_personales['MES']='OCTUBRE'"
   ]
  },
  {
   "cell_type": "code",
   "execution_count": 46,
   "id": "2a7dbc28",
   "metadata": {},
   "outputs": [
    {
     "name": "stdout",
     "output_type": "stream",
     "text": [
      "OCTUBRE\n",
      "Antes de limpieza:  382\n",
      "Despues de limpieza:  326\n"
     ]
    }
   ],
   "source": [
    "###### TOTAL DE DATOS #######\n",
    "df_total_octubre=pd.concat([df_octu_publica,df_octu_gastos_varios,df_octu_serv_personales])\n",
    "#df_total_septiembre.head(10)\n",
    "octu_antes=len(df_total_octubre)\n",
    "#Eliminar filas que tengan algun valor Nulo en sus columnas\n",
    "df_total_octubre= df_total_octubre.dropna(how='any')\n",
    "octu_despues=len(df_total_octubre)\n",
    "print('OCTUBRE')\n",
    "print('Antes de limpieza: ',octu_antes)\n",
    "print('Despues de limpieza: ',octu_despues)"
   ]
  },
  {
   "cell_type": "markdown",
   "id": "215b12da-3734-426f-a36b-d4685a74345c",
   "metadata": {},
   "source": [
    "### NOVIEMBRE"
   ]
  },
  {
   "cell_type": "code",
   "execution_count": 48,
   "id": "5f7fb17b",
   "metadata": {},
   "outputs": [
    {
     "name": "stdout",
     "output_type": "stream",
     "text": [
      "['OB.PUBLICA-GTS VARIOS (FDO ESP)', 'GTOS VARIOS', 'SERV PROF', 'COMUNICACION', 'GTS REPRESENT', 'SERV PERS']\n"
     ]
    }
   ],
   "source": [
    "# Obtener todos los nombres de las hojas en el archivo\n",
    "file_path = 'NOVIEMBRE_2021.xlsx'\n",
    "xls = pd.ExcelFile(file_path)\n",
    "print(xls.sheet_names)"
   ]
  },
  {
   "cell_type": "code",
   "execution_count": 49,
   "id": "3c676ee0",
   "metadata": {},
   "outputs": [],
   "source": [
    "#PUBLICA\n",
    "df_novi_publica= pd.read_excel('NOVIEMBRE_2021.xlsx', sheet_name='OB.PUBLICA-GTS VARIOS (FDO ESP)', skiprows=5)\n",
    "df_novi_publica['SHEET']='OBRA PUBLICA'\n",
    "df_novi_publica['MES']='NOVIEMBRE'\n",
    "#GASTOS VARIOS\n",
    "df_novi_gastos_varios= pd.read_excel('NOVIEMBRE_2021.xlsx', sheet_name='GTOS VARIOS', skiprows=5)\n",
    "df_novi_gastos_varios['SHEET']='GASTOS VARIOS'\n",
    "df_novi_gastos_varios['MES']='NOVIEMBRE'\n",
    "#PERSONALES\n",
    "df_novi_serv_personales= pd.read_excel('NOVIEMBRE_2021.xlsx', sheet_name='SERV PERS', skiprows=5)\n",
    "df_novi_serv_personales['SHEET']='SERV PERSONALES'\n",
    "df_novi_serv_personales['MES']='NOVIEMBRE'\n",
    "#PROFESIONALES\n",
    "df_novi_serv_profesionales= pd.read_excel('NOVIEMBRE_2021.xlsx', sheet_name='SERV PROF', skiprows=5)\n",
    "df_novi_serv_profesionales['SHEET']='SERV PROFESIONALES'\n",
    "df_novi_serv_profesionales['MES']='NOVIEMBRE'\n",
    "#GASTOS REPRESENTACION\n",
    "df_novi_gastos_representacion= pd.read_excel('NOVIEMBRE_2021.xlsx', sheet_name='GTS REPRESENT', skiprows=5)\n",
    "df_novi_gastos_representacion['SHEET']='REPRESENTACION'\n",
    "df_novi_gastos_representacion['MES']='NOVIEMBRE'\n",
    "#COMUNICACION\n",
    "df_novi_gastos_comunicacion= pd.read_excel('NOVIEMBRE_2021.xlsx', sheet_name='COMUNICACION', skiprows=5)\n",
    "df_novi_gastos_comunicacion['SHEET']='COMUNICACION'\n",
    "df_novi_gastos_comunicacion['MES']='NOVIEMBRE'"
   ]
  },
  {
   "cell_type": "code",
   "execution_count": 50,
   "id": "cf68bfe9",
   "metadata": {},
   "outputs": [
    {
     "name": "stdout",
     "output_type": "stream",
     "text": [
      "NOVIEMBRE\n",
      "Antes de limpieza:  1397\n",
      "Despues de limpieza:  1261\n"
     ]
    }
   ],
   "source": [
    "###### TOTAL DE DATOS #######\n",
    "df_total_noviembre=pd.concat([df_novi_publica,df_novi_gastos_varios,df_novi_serv_personales,df_novi_serv_profesionales,df_novi_gastos_representacion,df_novi_gastos_comunicacion])\n",
    "#df_total_septiembre.head(10)\n",
    "novi_antes=len(df_total_noviembre)\n",
    "#Eliminar filas que tengan algun valor Nulo en sus columnas\n",
    "df_total_noviembre= df_total_noviembre.dropna(how='any')\n",
    "novi_despues=len(df_total_noviembre)\n",
    "print('NOVIEMBRE')\n",
    "print('Antes de limpieza: ',novi_antes)\n",
    "print('Despues de limpieza: ',novi_despues)"
   ]
  },
  {
   "cell_type": "markdown",
   "id": "b6d7c1c3-112b-4cdc-81b8-bd85c3f060cd",
   "metadata": {},
   "source": [
    "### DICIEMBRE"
   ]
  },
  {
   "cell_type": "code",
   "execution_count": 52,
   "id": "a8e92db0-7375-44f6-882a-f8252660b604",
   "metadata": {},
   "outputs": [
    {
     "name": "stdout",
     "output_type": "stream",
     "text": [
      "['OB.PUBLICA-GTS VARIOS (FDO ESP)', 'GTOS VARIOS', 'SERV PROF', 'COMUNIC', 'GTOS REPRESENT', 'SERV PERS']\n"
     ]
    }
   ],
   "source": [
    "# Obtener todos los nombres de las hojas en el archivo\n",
    "file_path = 'DICIEMBRE_2021.xlsx'\n",
    "xls = pd.ExcelFile(file_path)\n",
    "print(xls.sheet_names)"
   ]
  },
  {
   "cell_type": "code",
   "execution_count": 53,
   "id": "dba1424a-41a4-4e85-9eb8-174701102f9e",
   "metadata": {},
   "outputs": [],
   "source": [
    "#PUBLICA\n",
    "df_dici_publica= pd.read_excel('DICIEMBRE_2021.xlsx', sheet_name='OB.PUBLICA-GTS VARIOS (FDO ESP)', skiprows=5)\n",
    "df_dici_publica['SHEET']='OBRA PUBLICA'\n",
    "df_dici_publica['MES']='DICIEMBRE'\n",
    "#GASTOS VARIOS\n",
    "df_dici_gastos_varios= pd.read_excel('DICIEMBRE_2021.xlsx', sheet_name='GTOS VARIOS', skiprows=5)\n",
    "df_dici_gastos_varios['SHEET']='GASTOS VARIOS'\n",
    "df_dici_gastos_varios['MES']='DICIEMBRE'\n",
    "#PERSONALES\n",
    "df_dici_serv_personales= pd.read_excel('DICIEMBRE_2021.xlsx', sheet_name='SERV PERS', skiprows=5)\n",
    "df_dici_serv_personales['SHEET']='SERV PERSONALES'\n",
    "df_dici_serv_personales['MES']='NOVDICIEMBREIEMBRE'\n",
    "#PROFESIONALES\n",
    "df_dici_serv_profesionales= pd.read_excel('DICIEMBRE_2021.xlsx', sheet_name='SERV PROF', skiprows=5)\n",
    "df_dici_serv_profesionales['SHEET']='SERV PROFESIONALES'\n",
    "df_dici_serv_profesionales['MES']='DICIEMBRE'\n",
    "#GASTOS REPRESENTACION\n",
    "df_dici_gastos_representacion= pd.read_excel('DICIEMBRE_2021.xlsx', sheet_name='GTOS REPRESENT', skiprows=5)\n",
    "df_dici_gastos_representacion['SHEET']='REPRESENTACION'\n",
    "df_dici_gastos_representacion['MES']='DICIEMBRE'\n",
    "#COMUNICACION\n",
    "df_dici_gastos_comunicacion= pd.read_excel('DICIEMBRE_2021.xlsx', sheet_name='COMUNIC', skiprows=5)\n",
    "df_dici_gastos_comunicacion['SHEET']='COMUNICACION'\n",
    "df_dici_gastos_comunicacion['MES']='DICIEMBRE'"
   ]
  },
  {
   "cell_type": "code",
   "execution_count": 54,
   "id": "05af8c62-2dd6-4602-8473-bae52df2ead4",
   "metadata": {},
   "outputs": [
    {
     "name": "stdout",
     "output_type": "stream",
     "text": [
      "DICIEMBRE\n",
      "Antes de limpieza:  2002\n",
      "Despues de limpieza:  1747\n"
     ]
    }
   ],
   "source": [
    "###### TOTAL DE DATOS #######\n",
    "df_total_diciembre=pd.concat([df_dici_publica,df_dici_gastos_varios,df_dici_serv_personales,df_dici_serv_profesionales,df_dici_gastos_representacion,df_dici_gastos_comunicacion])\n",
    "#df_total_septiembre.head(10)\n",
    "dici_antes=len(df_total_diciembre)\n",
    "#Eliminar filas que tengan algun valor Nulo en sus columnas\n",
    "df_total_diciembre= df_total_diciembre.dropna(how='any')\n",
    "dici_despues=len(df_total_diciembre)\n",
    "print('DICIEMBRE')\n",
    "print('Antes de limpieza: ',dici_antes)\n",
    "print('Despues de limpieza: ',dici_despues)"
   ]
  },
  {
   "cell_type": "code",
   "execution_count": null,
   "id": "95a9e5f1-eb1b-4dd3-8f33-be43eef92111",
   "metadata": {},
   "outputs": [],
   "source": []
  },
  {
   "cell_type": "code",
   "execution_count": 55,
   "id": "261c3a7b-a3d8-41ad-8e42-28b1c3bd5722",
   "metadata": {},
   "outputs": [
    {
     "data": {
      "text/html": [
       "<div>\n",
       "<style scoped>\n",
       "    .dataframe tbody tr th:only-of-type {\n",
       "        vertical-align: middle;\n",
       "    }\n",
       "\n",
       "    .dataframe tbody tr th {\n",
       "        vertical-align: top;\n",
       "    }\n",
       "\n",
       "    .dataframe thead th {\n",
       "        text-align: right;\n",
       "    }\n",
       "</style>\n",
       "<table border=\"1\" class=\"dataframe\">\n",
       "  <thead>\n",
       "    <tr style=\"text-align: right;\">\n",
       "      <th></th>\n",
       "      <th>NUM BEN</th>\n",
       "      <th>BENEFICIARIO</th>\n",
       "      <th>RFC</th>\n",
       "      <th>FACT-NUE-FO</th>\n",
       "      <th>CONTRATO</th>\n",
       "      <th>CONCEPTO</th>\n",
       "      <th>TIPO</th>\n",
       "      <th># OP</th>\n",
       "      <th>FECHA</th>\n",
       "      <th>IMPORTE</th>\n",
       "      <th>SHEET</th>\n",
       "      <th>MES</th>\n",
       "      <th>FACT</th>\n",
       "      <th>NUM OP</th>\n",
       "      <th>FDO-#OP</th>\n",
       "    </tr>\n",
       "  </thead>\n",
       "  <tbody>\n",
       "    <tr>\n",
       "      <th>0</th>\n",
       "      <td>206273</td>\n",
       "      <td>TESORERIA DE LA FEDERACION</td>\n",
       "      <td>SAT970701NN3</td>\n",
       "      <td>122020-153002-1</td>\n",
       "      <td>NO APLICA</td>\n",
       "      <td>REINTEGRO DE INTERESES DEL MES DE DICIEMBRE FO...</td>\n",
       "      <td>TR</td>\n",
       "      <td>297000067.0</td>\n",
       "      <td>2021-01-29</td>\n",
       "      <td>18309.00</td>\n",
       "      <td>CONTRATISTA</td>\n",
       "      <td>ENERO</td>\n",
       "      <td>NaN</td>\n",
       "      <td>NaN</td>\n",
       "      <td>NaN</td>\n",
       "    </tr>\n",
       "    <tr>\n",
       "      <th>1</th>\n",
       "      <td>206273</td>\n",
       "      <td>TESORERIA DE LA FEDERACION</td>\n",
       "      <td>SAT970701NN3</td>\n",
       "      <td>DASSPVM/5377/2021-158002-1</td>\n",
       "      <td>NO APLICA</td>\n",
       "      <td>REINTEGRO DE RECURSOS NO COMPROMETIDOS NI DEVE...</td>\n",
       "      <td>TR</td>\n",
       "      <td>303000013.0</td>\n",
       "      <td>2021-01-29</td>\n",
       "      <td>1190.70</td>\n",
       "      <td>CONTRATISTA</td>\n",
       "      <td>ENERO</td>\n",
       "      <td>NaN</td>\n",
       "      <td>NaN</td>\n",
       "      <td>NaN</td>\n",
       "    </tr>\n",
       "    <tr>\n",
       "      <th>2</th>\n",
       "      <td>206273</td>\n",
       "      <td>TESORERIA DE LA FEDERACION</td>\n",
       "      <td>SAT970701NN3</td>\n",
       "      <td>DASSPVM/5378/2021-158002-2</td>\n",
       "      <td>NO APLICA</td>\n",
       "      <td>REINTEGRO DE RENDIMIENTOS FINANCIEROS NO UTILI...</td>\n",
       "      <td>TR</td>\n",
       "      <td>303000012.0</td>\n",
       "      <td>2021-01-29</td>\n",
       "      <td>28356.00</td>\n",
       "      <td>CONTRATISTA</td>\n",
       "      <td>ENERO</td>\n",
       "      <td>NaN</td>\n",
       "      <td>NaN</td>\n",
       "      <td>NaN</td>\n",
       "    </tr>\n",
       "    <tr>\n",
       "      <th>3</th>\n",
       "      <td>206273</td>\n",
       "      <td>TESORERIA DE LA FEDERACION</td>\n",
       "      <td>SAT970701NN3</td>\n",
       "      <td>NO COMP-R33-2020-155002-1</td>\n",
       "      <td>NO APLICA</td>\n",
       "      <td>REINTEGRO DE IMPORTE NO COMPROMETIDO AL 31 DE ...</td>\n",
       "      <td>TR</td>\n",
       "      <td>298000071.0</td>\n",
       "      <td>2021-01-29</td>\n",
       "      <td>4294281.76</td>\n",
       "      <td>CONTRATISTA</td>\n",
       "      <td>ENERO</td>\n",
       "      <td>NaN</td>\n",
       "      <td>NaN</td>\n",
       "      <td>NaN</td>\n",
       "    </tr>\n",
       "    <tr>\n",
       "      <th>4</th>\n",
       "      <td>206273</td>\n",
       "      <td>TESORERIA DE LA FEDERACION</td>\n",
       "      <td>SAT970701NN3</td>\n",
       "      <td>PROD-FIN-PROAGUA-2020-155002-3</td>\n",
       "      <td>NO APLICA</td>\n",
       "      <td>REINTEGRO DE PRODUCTOS FINANCIEROS GENERADOS D...</td>\n",
       "      <td>TR</td>\n",
       "      <td>310000026.0</td>\n",
       "      <td>2021-01-29</td>\n",
       "      <td>59267.00</td>\n",
       "      <td>CONTRATISTA</td>\n",
       "      <td>ENERO</td>\n",
       "      <td>NaN</td>\n",
       "      <td>NaN</td>\n",
       "      <td>NaN</td>\n",
       "    </tr>\n",
       "    <tr>\n",
       "      <th>...</th>\n",
       "      <td>...</td>\n",
       "      <td>...</td>\n",
       "      <td>...</td>\n",
       "      <td>...</td>\n",
       "      <td>...</td>\n",
       "      <td>...</td>\n",
       "      <td>...</td>\n",
       "      <td>...</td>\n",
       "      <td>...</td>\n",
       "      <td>...</td>\n",
       "      <td>...</td>\n",
       "      <td>...</td>\n",
       "      <td>...</td>\n",
       "      <td>...</td>\n",
       "      <td>...</td>\n",
       "    </tr>\n",
       "    <tr>\n",
       "      <th>24</th>\n",
       "      <td>116161</td>\n",
       "      <td>PUBLICACIONES METROPOLITANAS, S.A. DE C.V.</td>\n",
       "      <td>PME051206NG5</td>\n",
       "      <td>M 2309-158003-3471</td>\n",
       "      <td>OEP-302-2021</td>\n",
       "      <td>DESPLEGADO (1/2 PLANA HORIZONTAL) EN EL PERIOD...</td>\n",
       "      <td>TR</td>\n",
       "      <td>NaN</td>\n",
       "      <td>2021-12-03</td>\n",
       "      <td>215579.04</td>\n",
       "      <td>COMUNICACION</td>\n",
       "      <td>DICIEMBRE</td>\n",
       "      <td>NaN</td>\n",
       "      <td>NaN</td>\n",
       "      <td>1021431.0</td>\n",
       "    </tr>\n",
       "    <tr>\n",
       "      <th>25</th>\n",
       "      <td>116161</td>\n",
       "      <td>PUBLICACIONES METROPOLITANAS, S.A. DE C.V.</td>\n",
       "      <td>PME051206NG5</td>\n",
       "      <td>O 3410-158003-4447</td>\n",
       "      <td>OEP-302-2021</td>\n",
       "      <td>BOX BANNER EN LA PAGINA WWW.PUBLIMETRO.COM.MX ...</td>\n",
       "      <td>TR</td>\n",
       "      <td>NaN</td>\n",
       "      <td>2021-12-03</td>\n",
       "      <td>206231.76</td>\n",
       "      <td>COMUNICACION</td>\n",
       "      <td>DICIEMBRE</td>\n",
       "      <td>NaN</td>\n",
       "      <td>NaN</td>\n",
       "      <td>1021431.0</td>\n",
       "    </tr>\n",
       "    <tr>\n",
       "      <th>27</th>\n",
       "      <td>116271</td>\n",
       "      <td>QUINTERO PEREZ SOCORRO GUADALUPE</td>\n",
       "      <td>QUPS670627MR1</td>\n",
       "      <td>1268-158003-4358</td>\n",
       "      <td>SADA/CC/261.3/2020</td>\n",
       "      <td>PUBLICIDAD EN LA REVISTA PERSONAJES (PLANA) CO...</td>\n",
       "      <td>TR</td>\n",
       "      <td>NaN</td>\n",
       "      <td>2021-12-03</td>\n",
       "      <td>15000.00</td>\n",
       "      <td>COMUNICACION</td>\n",
       "      <td>DICIEMBRE</td>\n",
       "      <td>NaN</td>\n",
       "      <td>NaN</td>\n",
       "      <td>1021435.0</td>\n",
       "    </tr>\n",
       "    <tr>\n",
       "      <th>28</th>\n",
       "      <td>116271</td>\n",
       "      <td>QUINTERO PEREZ SOCORRO GUADALUPE</td>\n",
       "      <td>QUPS670627MR1</td>\n",
       "      <td>1269-158003-4359</td>\n",
       "      <td>SADA/CC/261.3/2020</td>\n",
       "      <td>PUBLICIDAD EN LA REVISTA PERSONAJES (PLANA) CO...</td>\n",
       "      <td>TR</td>\n",
       "      <td>NaN</td>\n",
       "      <td>2021-12-03</td>\n",
       "      <td>15000.00</td>\n",
       "      <td>COMUNICACION</td>\n",
       "      <td>DICIEMBRE</td>\n",
       "      <td>NaN</td>\n",
       "      <td>NaN</td>\n",
       "      <td>1021435.0</td>\n",
       "    </tr>\n",
       "    <tr>\n",
       "      <th>30</th>\n",
       "      <td>116439</td>\n",
       "      <td>MULTIMEDIOS, S.A. DE C.V.</td>\n",
       "      <td>MUL0711147NA</td>\n",
       "      <td>MYA 93692-158003-4724</td>\n",
       "      <td>OEP-293-2021</td>\n",
       "      <td>TRANSMISION DE SPOT DE 30SEG, DEL DIA 08 AL 28...</td>\n",
       "      <td>TR</td>\n",
       "      <td>NaN</td>\n",
       "      <td>2021-12-03</td>\n",
       "      <td>434137.66</td>\n",
       "      <td>COMUNICACION</td>\n",
       "      <td>DICIEMBRE</td>\n",
       "      <td>NaN</td>\n",
       "      <td>NaN</td>\n",
       "      <td>1021441.0</td>\n",
       "    </tr>\n",
       "  </tbody>\n",
       "</table>\n",
       "<p>12418 rows × 15 columns</p>\n",
       "</div>"
      ],
      "text/plain": [
       "   NUM BEN                                BENEFICIARIO            RFC  \\\n",
       "0   206273                  TESORERIA DE LA FEDERACION   SAT970701NN3   \n",
       "1   206273                  TESORERIA DE LA FEDERACION   SAT970701NN3   \n",
       "2   206273                  TESORERIA DE LA FEDERACION   SAT970701NN3   \n",
       "3   206273                  TESORERIA DE LA FEDERACION   SAT970701NN3   \n",
       "4   206273                  TESORERIA DE LA FEDERACION   SAT970701NN3   \n",
       "..     ...                                         ...            ...   \n",
       "24  116161  PUBLICACIONES METROPOLITANAS, S.A. DE C.V.   PME051206NG5   \n",
       "25  116161  PUBLICACIONES METROPOLITANAS, S.A. DE C.V.   PME051206NG5   \n",
       "27  116271            QUINTERO PEREZ SOCORRO GUADALUPE  QUPS670627MR1   \n",
       "28  116271            QUINTERO PEREZ SOCORRO GUADALUPE  QUPS670627MR1   \n",
       "30  116439                   MULTIMEDIOS, S.A. DE C.V.   MUL0711147NA   \n",
       "\n",
       "                       FACT-NUE-FO            CONTRATO  \\\n",
       "0                  122020-153002-1           NO APLICA   \n",
       "1       DASSPVM/5377/2021-158002-1           NO APLICA   \n",
       "2       DASSPVM/5378/2021-158002-2           NO APLICA   \n",
       "3        NO COMP-R33-2020-155002-1           NO APLICA   \n",
       "4   PROD-FIN-PROAGUA-2020-155002-3           NO APLICA   \n",
       "..                             ...                 ...   \n",
       "24              M 2309-158003-3471        OEP-302-2021   \n",
       "25              O 3410-158003-4447        OEP-302-2021   \n",
       "27                1268-158003-4358  SADA/CC/261.3/2020   \n",
       "28                1269-158003-4359  SADA/CC/261.3/2020   \n",
       "30           MYA 93692-158003-4724        OEP-293-2021   \n",
       "\n",
       "                                             CONCEPTO TIPO         # OP  \\\n",
       "0   REINTEGRO DE INTERESES DEL MES DE DICIEMBRE FO...   TR  297000067.0   \n",
       "1   REINTEGRO DE RECURSOS NO COMPROMETIDOS NI DEVE...   TR  303000013.0   \n",
       "2   REINTEGRO DE RENDIMIENTOS FINANCIEROS NO UTILI...   TR  303000012.0   \n",
       "3   REINTEGRO DE IMPORTE NO COMPROMETIDO AL 31 DE ...   TR  298000071.0   \n",
       "4   REINTEGRO DE PRODUCTOS FINANCIEROS GENERADOS D...   TR  310000026.0   \n",
       "..                                                ...  ...          ...   \n",
       "24  DESPLEGADO (1/2 PLANA HORIZONTAL) EN EL PERIOD...   TR          NaN   \n",
       "25  BOX BANNER EN LA PAGINA WWW.PUBLIMETRO.COM.MX ...   TR          NaN   \n",
       "27  PUBLICIDAD EN LA REVISTA PERSONAJES (PLANA) CO...   TR          NaN   \n",
       "28  PUBLICIDAD EN LA REVISTA PERSONAJES (PLANA) CO...   TR          NaN   \n",
       "30  TRANSMISION DE SPOT DE 30SEG, DEL DIA 08 AL 28...   TR          NaN   \n",
       "\n",
       "        FECHA     IMPORTE         SHEET        MES FACT  NUM OP    FDO-#OP  \n",
       "0  2021-01-29    18309.00   CONTRATISTA      ENERO  NaN     NaN        NaN  \n",
       "1  2021-01-29     1190.70   CONTRATISTA      ENERO  NaN     NaN        NaN  \n",
       "2  2021-01-29    28356.00   CONTRATISTA      ENERO  NaN     NaN        NaN  \n",
       "3  2021-01-29  4294281.76   CONTRATISTA      ENERO  NaN     NaN        NaN  \n",
       "4  2021-01-29    59267.00   CONTRATISTA      ENERO  NaN     NaN        NaN  \n",
       "..        ...         ...           ...        ...  ...     ...        ...  \n",
       "24 2021-12-03   215579.04  COMUNICACION  DICIEMBRE  NaN     NaN  1021431.0  \n",
       "25 2021-12-03   206231.76  COMUNICACION  DICIEMBRE  NaN     NaN  1021431.0  \n",
       "27 2021-12-03    15000.00  COMUNICACION  DICIEMBRE  NaN     NaN  1021435.0  \n",
       "28 2021-12-03    15000.00  COMUNICACION  DICIEMBRE  NaN     NaN  1021435.0  \n",
       "30 2021-12-03   434137.66  COMUNICACION  DICIEMBRE  NaN     NaN  1021441.0  \n",
       "\n",
       "[12418 rows x 15 columns]"
      ]
     },
     "execution_count": 55,
     "metadata": {},
     "output_type": "execute_result"
    }
   ],
   "source": [
    "df_compras_2021=pd.concat([df_total_enero,df_total_febrero,df_total_marzo,df_total_abril,df_total_mayo,\n",
    "                          df_total_junio,df_total_julio,df_total_agosto,df_total_septiembre,df_total_octubre,\n",
    "                          df_total_noviembre,df_total_diciembre])\n",
    "df_compras_2021.head(4)\n",
    "#Eliminamos columnas con valores nulos\n",
    "df=df_compras_2021\n",
    "df_final_2021 = df.dropna(axis=1, how='all')\n",
    "df_final_2021"
   ]
  },
  {
   "cell_type": "code",
   "execution_count": 56,
   "id": "ad098cd4-938c-4caf-9c03-f3b11f8c609d",
   "metadata": {},
   "outputs": [
    {
     "data": {
      "text/plain": [
       "12418"
      ]
     },
     "execution_count": 56,
     "metadata": {},
     "output_type": "execute_result"
    }
   ],
   "source": [
    "len(df_compras_2021)\n",
    "len(df)"
   ]
  },
  {
   "cell_type": "code",
   "execution_count": 57,
   "id": "ff180387-4891-43df-b59e-ff9815553ec7",
   "metadata": {},
   "outputs": [],
   "source": [
    "#Eliminar filas que tengan algun valor Nulo en sus columnas\n",
    "#df= df.dropna(how='any')\n",
    "#len(df)"
   ]
  },
  {
   "cell_type": "code",
   "execution_count": 243,
   "id": "68263e96-435b-4c45-b1d6-f5de81af637e",
   "metadata": {},
   "outputs": [
    {
     "data": {
      "text/plain": [
       "NUM BEN                 object\n",
       "BENEFICIARIO            object\n",
       "RFC                     object\n",
       "FACT-NUE-FO             object\n",
       "CONTRATO                object\n",
       "CONCEPTO                object\n",
       "TIPO                    object\n",
       "# OP                   float64\n",
       "FECHA           datetime64[ns]\n",
       "IMPORTE                float64\n",
       "SHEET                   object\n",
       "MES                     object\n",
       "FACT                    object\n",
       "NUM OP                 float64\n",
       "FDO-#OP                float64\n",
       "dtype: object"
      ]
     },
     "execution_count": 243,
     "metadata": {},
     "output_type": "execute_result"
    }
   ],
   "source": [
    "df_final_2021.dtypes"
   ]
  },
  {
   "cell_type": "code",
   "execution_count": 245,
   "id": "9731cc2b-2a30-4ac2-90c5-5a5fab707992",
   "metadata": {},
   "outputs": [
    {
     "data": {
      "text/plain": [
       "FECHA\n",
       "3     2212\n",
       "9     1794\n",
       "12    1747\n",
       "5     1682\n",
       "4     1476\n",
       "8     1286\n",
       "11    1261\n",
       "2      531\n",
       "10     326\n",
       "1      103\n",
       "Name: count, dtype: int64"
      ]
     },
     "execution_count": 245,
     "metadata": {},
     "output_type": "execute_result"
    }
   ],
   "source": [
    "#Comprobar que ls datos correspondan a la fecha seleccionada\n",
    "df_final_2021['FECHA'].apply(lambda x: x.month).value_counts()"
   ]
  },
  {
   "cell_type": "code",
   "execution_count": 247,
   "id": "78df018e-283f-48e8-8881-f5e1e0e8c9b1",
   "metadata": {},
   "outputs": [
    {
     "data": {
      "text/html": [
       "<div>\n",
       "<style scoped>\n",
       "    .dataframe tbody tr th:only-of-type {\n",
       "        vertical-align: middle;\n",
       "    }\n",
       "\n",
       "    .dataframe tbody tr th {\n",
       "        vertical-align: top;\n",
       "    }\n",
       "\n",
       "    .dataframe thead th {\n",
       "        text-align: right;\n",
       "    }\n",
       "</style>\n",
       "<table border=\"1\" class=\"dataframe\">\n",
       "  <thead>\n",
       "    <tr style=\"text-align: right;\">\n",
       "      <th></th>\n",
       "      <th>NUM BEN</th>\n",
       "      <th>BENEFICIARIO</th>\n",
       "      <th>RFC</th>\n",
       "      <th>FACT-NUE-FO</th>\n",
       "      <th>CONTRATO</th>\n",
       "      <th>CONCEPTO</th>\n",
       "      <th>TIPO</th>\n",
       "      <th># OP</th>\n",
       "      <th>FECHA</th>\n",
       "      <th>IMPORTE</th>\n",
       "      <th>SHEET</th>\n",
       "      <th>MES</th>\n",
       "      <th>FACT</th>\n",
       "      <th>NUM OP</th>\n",
       "      <th>FDO-#OP</th>\n",
       "    </tr>\n",
       "  </thead>\n",
       "  <tbody>\n",
       "    <tr>\n",
       "      <th>0</th>\n",
       "      <td>206273</td>\n",
       "      <td>TESORERIA DE LA FEDERACION</td>\n",
       "      <td>SAT970701NN3</td>\n",
       "      <td>122020-153002-1</td>\n",
       "      <td>NO APLICA</td>\n",
       "      <td>REINTEGRO DE INTERESES DEL MES DE DICIEMBRE FO...</td>\n",
       "      <td>TR</td>\n",
       "      <td>297000067.0</td>\n",
       "      <td>2021-01-29</td>\n",
       "      <td>18309.0</td>\n",
       "      <td>CONTRATISTA</td>\n",
       "      <td>ENERO</td>\n",
       "      <td>NaN</td>\n",
       "      <td>NaN</td>\n",
       "      <td>NaN</td>\n",
       "    </tr>\n",
       "    <tr>\n",
       "      <th>1</th>\n",
       "      <td>206273</td>\n",
       "      <td>TESORERIA DE LA FEDERACION</td>\n",
       "      <td>SAT970701NN3</td>\n",
       "      <td>DASSPVM/5377/2021-158002-1</td>\n",
       "      <td>NO APLICA</td>\n",
       "      <td>REINTEGRO DE RECURSOS NO COMPROMETIDOS NI DEVE...</td>\n",
       "      <td>TR</td>\n",
       "      <td>303000013.0</td>\n",
       "      <td>2021-01-29</td>\n",
       "      <td>1190.7</td>\n",
       "      <td>CONTRATISTA</td>\n",
       "      <td>ENERO</td>\n",
       "      <td>NaN</td>\n",
       "      <td>NaN</td>\n",
       "      <td>NaN</td>\n",
       "    </tr>\n",
       "    <tr>\n",
       "      <th>2</th>\n",
       "      <td>206273</td>\n",
       "      <td>TESORERIA DE LA FEDERACION</td>\n",
       "      <td>SAT970701NN3</td>\n",
       "      <td>DASSPVM/5378/2021-158002-2</td>\n",
       "      <td>NO APLICA</td>\n",
       "      <td>REINTEGRO DE RENDIMIENTOS FINANCIEROS NO UTILI...</td>\n",
       "      <td>TR</td>\n",
       "      <td>303000012.0</td>\n",
       "      <td>2021-01-29</td>\n",
       "      <td>28356.0</td>\n",
       "      <td>CONTRATISTA</td>\n",
       "      <td>ENERO</td>\n",
       "      <td>NaN</td>\n",
       "      <td>NaN</td>\n",
       "      <td>NaN</td>\n",
       "    </tr>\n",
       "  </tbody>\n",
       "</table>\n",
       "</div>"
      ],
      "text/plain": [
       "  NUM BEN                BENEFICIARIO           RFC  \\\n",
       "0  206273  TESORERIA DE LA FEDERACION  SAT970701NN3   \n",
       "1  206273  TESORERIA DE LA FEDERACION  SAT970701NN3   \n",
       "2  206273  TESORERIA DE LA FEDERACION  SAT970701NN3   \n",
       "\n",
       "                  FACT-NUE-FO   CONTRATO  \\\n",
       "0             122020-153002-1  NO APLICA   \n",
       "1  DASSPVM/5377/2021-158002-1  NO APLICA   \n",
       "2  DASSPVM/5378/2021-158002-2  NO APLICA   \n",
       "\n",
       "                                            CONCEPTO TIPO         # OP  \\\n",
       "0  REINTEGRO DE INTERESES DEL MES DE DICIEMBRE FO...   TR  297000067.0   \n",
       "1  REINTEGRO DE RECURSOS NO COMPROMETIDOS NI DEVE...   TR  303000013.0   \n",
       "2  REINTEGRO DE RENDIMIENTOS FINANCIEROS NO UTILI...   TR  303000012.0   \n",
       "\n",
       "       FECHA  IMPORTE        SHEET    MES FACT  NUM OP  FDO-#OP  \n",
       "0 2021-01-29  18309.0  CONTRATISTA  ENERO  NaN     NaN      NaN  \n",
       "1 2021-01-29   1190.7  CONTRATISTA  ENERO  NaN     NaN      NaN  \n",
       "2 2021-01-29  28356.0  CONTRATISTA  ENERO  NaN     NaN      NaN  "
      ]
     },
     "execution_count": 247,
     "metadata": {},
     "output_type": "execute_result"
    }
   ],
   "source": [
    "df_final_2021.head(3)"
   ]
  },
  {
   "cell_type": "code",
   "execution_count": 249,
   "id": "fc36d291-8ceb-4cad-a423-16983cf5ce4d",
   "metadata": {},
   "outputs": [],
   "source": [
    "### exportar base de datos \n",
    "df_final_2021.to_csv('C:/Users/ASUS TUF/Documents/Maestria/INTELIGENCIA ARTIFICIAL/trabajo grupal 1/base_procesada.csv', index=False)\n"
   ]
  },
  {
   "cell_type": "markdown",
   "id": "b4d73495-7ae3-4b39-99d4-7700244fbb07",
   "metadata": {},
   "source": [
    "# Lectura de datos para el análisis - base de todos los meses del año 2021"
   ]
  },
  {
   "cell_type": "code",
   "execution_count": 252,
   "id": "a3b832ca-3851-488b-a2aa-8ac904886939",
   "metadata": {},
   "outputs": [
    {
     "data": {
      "text/html": [
       "<div>\n",
       "<style scoped>\n",
       "    .dataframe tbody tr th:only-of-type {\n",
       "        vertical-align: middle;\n",
       "    }\n",
       "\n",
       "    .dataframe tbody tr th {\n",
       "        vertical-align: top;\n",
       "    }\n",
       "\n",
       "    .dataframe thead th {\n",
       "        text-align: right;\n",
       "    }\n",
       "</style>\n",
       "<table border=\"1\" class=\"dataframe\">\n",
       "  <thead>\n",
       "    <tr style=\"text-align: right;\">\n",
       "      <th></th>\n",
       "      <th>NUM BEN</th>\n",
       "      <th>BENEFICIARIO</th>\n",
       "      <th>RFC</th>\n",
       "      <th>FACT-NUE-FO</th>\n",
       "      <th>CONTRATO</th>\n",
       "      <th>CONCEPTO</th>\n",
       "      <th>TIPO</th>\n",
       "      <th># OP</th>\n",
       "      <th>FECHA</th>\n",
       "      <th>IMPORTE</th>\n",
       "      <th>SHEET</th>\n",
       "      <th>MES</th>\n",
       "      <th>FACT</th>\n",
       "      <th>NUM OP</th>\n",
       "      <th>FDO-#OP</th>\n",
       "    </tr>\n",
       "  </thead>\n",
       "  <tbody>\n",
       "    <tr>\n",
       "      <th>0</th>\n",
       "      <td>206273</td>\n",
       "      <td>TESORERIA DE LA FEDERACION</td>\n",
       "      <td>SAT970701NN3</td>\n",
       "      <td>122020-153002-1</td>\n",
       "      <td>NO APLICA</td>\n",
       "      <td>REINTEGRO DE INTERESES DEL MES DE DICIEMBRE FO...</td>\n",
       "      <td>TR</td>\n",
       "      <td>297000067.0</td>\n",
       "      <td>2021-01-29</td>\n",
       "      <td>18309.00</td>\n",
       "      <td>CONTRATISTA</td>\n",
       "      <td>ENERO</td>\n",
       "      <td>NaN</td>\n",
       "      <td>NaN</td>\n",
       "      <td>NaN</td>\n",
       "    </tr>\n",
       "    <tr>\n",
       "      <th>1</th>\n",
       "      <td>206273</td>\n",
       "      <td>TESORERIA DE LA FEDERACION</td>\n",
       "      <td>SAT970701NN3</td>\n",
       "      <td>DASSPVM/5377/2021-158002-1</td>\n",
       "      <td>NO APLICA</td>\n",
       "      <td>REINTEGRO DE RECURSOS NO COMPROMETIDOS NI DEVE...</td>\n",
       "      <td>TR</td>\n",
       "      <td>303000013.0</td>\n",
       "      <td>2021-01-29</td>\n",
       "      <td>1190.70</td>\n",
       "      <td>CONTRATISTA</td>\n",
       "      <td>ENERO</td>\n",
       "      <td>NaN</td>\n",
       "      <td>NaN</td>\n",
       "      <td>NaN</td>\n",
       "    </tr>\n",
       "    <tr>\n",
       "      <th>2</th>\n",
       "      <td>206273</td>\n",
       "      <td>TESORERIA DE LA FEDERACION</td>\n",
       "      <td>SAT970701NN3</td>\n",
       "      <td>DASSPVM/5378/2021-158002-2</td>\n",
       "      <td>NO APLICA</td>\n",
       "      <td>REINTEGRO DE RENDIMIENTOS FINANCIEROS NO UTILI...</td>\n",
       "      <td>TR</td>\n",
       "      <td>303000012.0</td>\n",
       "      <td>2021-01-29</td>\n",
       "      <td>28356.00</td>\n",
       "      <td>CONTRATISTA</td>\n",
       "      <td>ENERO</td>\n",
       "      <td>NaN</td>\n",
       "      <td>NaN</td>\n",
       "      <td>NaN</td>\n",
       "    </tr>\n",
       "    <tr>\n",
       "      <th>3</th>\n",
       "      <td>206273</td>\n",
       "      <td>TESORERIA DE LA FEDERACION</td>\n",
       "      <td>SAT970701NN3</td>\n",
       "      <td>NO COMP-R33-2020-155002-1</td>\n",
       "      <td>NO APLICA</td>\n",
       "      <td>REINTEGRO DE IMPORTE NO COMPROMETIDO AL 31 DE ...</td>\n",
       "      <td>TR</td>\n",
       "      <td>298000071.0</td>\n",
       "      <td>2021-01-29</td>\n",
       "      <td>4294281.76</td>\n",
       "      <td>CONTRATISTA</td>\n",
       "      <td>ENERO</td>\n",
       "      <td>NaN</td>\n",
       "      <td>NaN</td>\n",
       "      <td>NaN</td>\n",
       "    </tr>\n",
       "    <tr>\n",
       "      <th>4</th>\n",
       "      <td>206273</td>\n",
       "      <td>TESORERIA DE LA FEDERACION</td>\n",
       "      <td>SAT970701NN3</td>\n",
       "      <td>PROD-FIN-PROAGUA-2020-155002-3</td>\n",
       "      <td>NO APLICA</td>\n",
       "      <td>REINTEGRO DE PRODUCTOS FINANCIEROS GENERADOS D...</td>\n",
       "      <td>TR</td>\n",
       "      <td>310000026.0</td>\n",
       "      <td>2021-01-29</td>\n",
       "      <td>59267.00</td>\n",
       "      <td>CONTRATISTA</td>\n",
       "      <td>ENERO</td>\n",
       "      <td>NaN</td>\n",
       "      <td>NaN</td>\n",
       "      <td>NaN</td>\n",
       "    </tr>\n",
       "    <tr>\n",
       "      <th>...</th>\n",
       "      <td>...</td>\n",
       "      <td>...</td>\n",
       "      <td>...</td>\n",
       "      <td>...</td>\n",
       "      <td>...</td>\n",
       "      <td>...</td>\n",
       "      <td>...</td>\n",
       "      <td>...</td>\n",
       "      <td>...</td>\n",
       "      <td>...</td>\n",
       "      <td>...</td>\n",
       "      <td>...</td>\n",
       "      <td>...</td>\n",
       "      <td>...</td>\n",
       "      <td>...</td>\n",
       "    </tr>\n",
       "    <tr>\n",
       "      <th>12413</th>\n",
       "      <td>116161</td>\n",
       "      <td>PUBLICACIONES METROPOLITANAS, S.A. DE C.V.</td>\n",
       "      <td>PME051206NG5</td>\n",
       "      <td>M 2309-158003-3471</td>\n",
       "      <td>OEP-302-2021</td>\n",
       "      <td>DESPLEGADO (1/2 PLANA HORIZONTAL) EN EL PERIOD...</td>\n",
       "      <td>TR</td>\n",
       "      <td>NaN</td>\n",
       "      <td>2021-12-03</td>\n",
       "      <td>215579.04</td>\n",
       "      <td>COMUNICACION</td>\n",
       "      <td>DICIEMBRE</td>\n",
       "      <td>NaN</td>\n",
       "      <td>NaN</td>\n",
       "      <td>1021431.0</td>\n",
       "    </tr>\n",
       "    <tr>\n",
       "      <th>12414</th>\n",
       "      <td>116161</td>\n",
       "      <td>PUBLICACIONES METROPOLITANAS, S.A. DE C.V.</td>\n",
       "      <td>PME051206NG5</td>\n",
       "      <td>O 3410-158003-4447</td>\n",
       "      <td>OEP-302-2021</td>\n",
       "      <td>BOX BANNER EN LA PAGINA WWW.PUBLIMETRO.COM.MX ...</td>\n",
       "      <td>TR</td>\n",
       "      <td>NaN</td>\n",
       "      <td>2021-12-03</td>\n",
       "      <td>206231.76</td>\n",
       "      <td>COMUNICACION</td>\n",
       "      <td>DICIEMBRE</td>\n",
       "      <td>NaN</td>\n",
       "      <td>NaN</td>\n",
       "      <td>1021431.0</td>\n",
       "    </tr>\n",
       "    <tr>\n",
       "      <th>12415</th>\n",
       "      <td>116271</td>\n",
       "      <td>QUINTERO PEREZ SOCORRO GUADALUPE</td>\n",
       "      <td>QUPS670627MR1</td>\n",
       "      <td>1268-158003-4358</td>\n",
       "      <td>SADA/CC/261.3/2020</td>\n",
       "      <td>PUBLICIDAD EN LA REVISTA PERSONAJES (PLANA) CO...</td>\n",
       "      <td>TR</td>\n",
       "      <td>NaN</td>\n",
       "      <td>2021-12-03</td>\n",
       "      <td>15000.00</td>\n",
       "      <td>COMUNICACION</td>\n",
       "      <td>DICIEMBRE</td>\n",
       "      <td>NaN</td>\n",
       "      <td>NaN</td>\n",
       "      <td>1021435.0</td>\n",
       "    </tr>\n",
       "    <tr>\n",
       "      <th>12416</th>\n",
       "      <td>116271</td>\n",
       "      <td>QUINTERO PEREZ SOCORRO GUADALUPE</td>\n",
       "      <td>QUPS670627MR1</td>\n",
       "      <td>1269-158003-4359</td>\n",
       "      <td>SADA/CC/261.3/2020</td>\n",
       "      <td>PUBLICIDAD EN LA REVISTA PERSONAJES (PLANA) CO...</td>\n",
       "      <td>TR</td>\n",
       "      <td>NaN</td>\n",
       "      <td>2021-12-03</td>\n",
       "      <td>15000.00</td>\n",
       "      <td>COMUNICACION</td>\n",
       "      <td>DICIEMBRE</td>\n",
       "      <td>NaN</td>\n",
       "      <td>NaN</td>\n",
       "      <td>1021435.0</td>\n",
       "    </tr>\n",
       "    <tr>\n",
       "      <th>12417</th>\n",
       "      <td>116439</td>\n",
       "      <td>MULTIMEDIOS, S.A. DE C.V.</td>\n",
       "      <td>MUL0711147NA</td>\n",
       "      <td>MYA 93692-158003-4724</td>\n",
       "      <td>OEP-293-2021</td>\n",
       "      <td>TRANSMISION DE SPOT DE 30SEG, DEL DIA 08 AL 28...</td>\n",
       "      <td>TR</td>\n",
       "      <td>NaN</td>\n",
       "      <td>2021-12-03</td>\n",
       "      <td>434137.66</td>\n",
       "      <td>COMUNICACION</td>\n",
       "      <td>DICIEMBRE</td>\n",
       "      <td>NaN</td>\n",
       "      <td>NaN</td>\n",
       "      <td>1021441.0</td>\n",
       "    </tr>\n",
       "  </tbody>\n",
       "</table>\n",
       "<p>12418 rows × 15 columns</p>\n",
       "</div>"
      ],
      "text/plain": [
       "       NUM BEN                                BENEFICIARIO            RFC  \\\n",
       "0       206273                  TESORERIA DE LA FEDERACION   SAT970701NN3   \n",
       "1       206273                  TESORERIA DE LA FEDERACION   SAT970701NN3   \n",
       "2       206273                  TESORERIA DE LA FEDERACION   SAT970701NN3   \n",
       "3       206273                  TESORERIA DE LA FEDERACION   SAT970701NN3   \n",
       "4       206273                  TESORERIA DE LA FEDERACION   SAT970701NN3   \n",
       "...        ...                                         ...            ...   \n",
       "12413   116161  PUBLICACIONES METROPOLITANAS, S.A. DE C.V.   PME051206NG5   \n",
       "12414   116161  PUBLICACIONES METROPOLITANAS, S.A. DE C.V.   PME051206NG5   \n",
       "12415   116271            QUINTERO PEREZ SOCORRO GUADALUPE  QUPS670627MR1   \n",
       "12416   116271            QUINTERO PEREZ SOCORRO GUADALUPE  QUPS670627MR1   \n",
       "12417   116439                   MULTIMEDIOS, S.A. DE C.V.   MUL0711147NA   \n",
       "\n",
       "                          FACT-NUE-FO            CONTRATO  \\\n",
       "0                     122020-153002-1           NO APLICA   \n",
       "1          DASSPVM/5377/2021-158002-1           NO APLICA   \n",
       "2          DASSPVM/5378/2021-158002-2           NO APLICA   \n",
       "3           NO COMP-R33-2020-155002-1           NO APLICA   \n",
       "4      PROD-FIN-PROAGUA-2020-155002-3           NO APLICA   \n",
       "...                               ...                 ...   \n",
       "12413              M 2309-158003-3471        OEP-302-2021   \n",
       "12414              O 3410-158003-4447        OEP-302-2021   \n",
       "12415                1268-158003-4358  SADA/CC/261.3/2020   \n",
       "12416                1269-158003-4359  SADA/CC/261.3/2020   \n",
       "12417           MYA 93692-158003-4724        OEP-293-2021   \n",
       "\n",
       "                                                CONCEPTO TIPO         # OP  \\\n",
       "0      REINTEGRO DE INTERESES DEL MES DE DICIEMBRE FO...   TR  297000067.0   \n",
       "1      REINTEGRO DE RECURSOS NO COMPROMETIDOS NI DEVE...   TR  303000013.0   \n",
       "2      REINTEGRO DE RENDIMIENTOS FINANCIEROS NO UTILI...   TR  303000012.0   \n",
       "3      REINTEGRO DE IMPORTE NO COMPROMETIDO AL 31 DE ...   TR  298000071.0   \n",
       "4      REINTEGRO DE PRODUCTOS FINANCIEROS GENERADOS D...   TR  310000026.0   \n",
       "...                                                  ...  ...          ...   \n",
       "12413  DESPLEGADO (1/2 PLANA HORIZONTAL) EN EL PERIOD...   TR          NaN   \n",
       "12414  BOX BANNER EN LA PAGINA WWW.PUBLIMETRO.COM.MX ...   TR          NaN   \n",
       "12415  PUBLICIDAD EN LA REVISTA PERSONAJES (PLANA) CO...   TR          NaN   \n",
       "12416  PUBLICIDAD EN LA REVISTA PERSONAJES (PLANA) CO...   TR          NaN   \n",
       "12417  TRANSMISION DE SPOT DE 30SEG, DEL DIA 08 AL 28...   TR          NaN   \n",
       "\n",
       "            FECHA     IMPORTE         SHEET        MES FACT  NUM OP    FDO-#OP  \n",
       "0      2021-01-29    18309.00   CONTRATISTA      ENERO  NaN     NaN        NaN  \n",
       "1      2021-01-29     1190.70   CONTRATISTA      ENERO  NaN     NaN        NaN  \n",
       "2      2021-01-29    28356.00   CONTRATISTA      ENERO  NaN     NaN        NaN  \n",
       "3      2021-01-29  4294281.76   CONTRATISTA      ENERO  NaN     NaN        NaN  \n",
       "4      2021-01-29    59267.00   CONTRATISTA      ENERO  NaN     NaN        NaN  \n",
       "...           ...         ...           ...        ...  ...     ...        ...  \n",
       "12413  2021-12-03   215579.04  COMUNICACION  DICIEMBRE  NaN     NaN  1021431.0  \n",
       "12414  2021-12-03   206231.76  COMUNICACION  DICIEMBRE  NaN     NaN  1021431.0  \n",
       "12415  2021-12-03    15000.00  COMUNICACION  DICIEMBRE  NaN     NaN  1021435.0  \n",
       "12416  2021-12-03    15000.00  COMUNICACION  DICIEMBRE  NaN     NaN  1021435.0  \n",
       "12417  2021-12-03   434137.66  COMUNICACION  DICIEMBRE  NaN     NaN  1021441.0  \n",
       "\n",
       "[12418 rows x 15 columns]"
      ]
     },
     "execution_count": 252,
     "metadata": {},
     "output_type": "execute_result"
    }
   ],
   "source": [
    "analisis=pd.read_csv(\"C:/Users/ASUS TUF/Documents/Maestria/INTELIGENCIA ARTIFICIAL/trabajo grupal 1/base_procesada.csv\")\n",
    "analisis"
   ]
  },
  {
   "cell_type": "code",
   "execution_count": 254,
   "id": "54f400f9-1ec9-4566-8f82-14914ff54517",
   "metadata": {},
   "outputs": [
    {
     "data": {
      "text/plain": [
       "Index(['NUM BEN', 'BENEFICIARIO', 'RFC', 'FACT-NUE-FO', 'CONTRATO', 'CONCEPTO',\n",
       "       'TIPO', '# OP', 'FECHA', 'IMPORTE', 'SHEET', 'MES', 'FACT', 'NUM OP',\n",
       "       'FDO-#OP'],\n",
       "      dtype='object')"
      ]
     },
     "execution_count": 254,
     "metadata": {},
     "output_type": "execute_result"
    }
   ],
   "source": [
    "analisis.columns"
   ]
  },
  {
   "cell_type": "markdown",
   "id": "3b63e030-af7c-46c3-9859-b08a5e8f05b5",
   "metadata": {},
   "source": [
    "## 2: Proceso de limpieza y carga de los datos."
   ]
  },
  {
   "cell_type": "code",
   "execution_count": 256,
   "id": "6d2ff043-50ab-4061-bf78-7fa00862ab47",
   "metadata": {},
   "outputs": [
    {
     "name": "stdout",
     "output_type": "stream",
     "text": [
      "Tipos de datos en cada columna:\n",
      "\n",
      "NUM BEN           int64\n",
      "BENEFICIARIO     object\n",
      "RFC              object\n",
      "FACT-NUE-FO      object\n",
      "CONTRATO         object\n",
      "CONCEPTO         object\n",
      "TIPO             object\n",
      "# OP            float64\n",
      "FECHA            object\n",
      "IMPORTE         float64\n",
      "SHEET            object\n",
      "MES              object\n",
      "FACT             object\n",
      "NUM OP          float64\n",
      "FDO-#OP         float64\n",
      "dtype: object\n",
      "\n",
      "Valores faltantes en cada columna:\n",
      "\n",
      "NUM BEN            0\n",
      "BENEFICIARIO       0\n",
      "RFC                0\n",
      "FACT-NUE-FO     4332\n",
      "CONTRATO           0\n",
      "CONCEPTO           0\n",
      "TIPO               0\n",
      "# OP            6414\n",
      "FECHA              0\n",
      "IMPORTE            0\n",
      "SHEET              0\n",
      "MES                0\n",
      "FACT            8086\n",
      "NUM OP          9012\n",
      "FDO-#OP         9410\n",
      "dtype: int64\n"
     ]
    }
   ],
   "source": [
    "# Verificar el tipo de dato de cada columna\n",
    "print(\"Tipos de datos en cada columna:\\n\")\n",
    "print(analisis.dtypes)\n",
    "\n",
    "# Verificar cuántos valores faltantes hay en cada columna\n",
    "print(\"\\nValores faltantes en cada columna:\\n\")\n",
    "print(analisis.isnull().sum())\n"
   ]
  },
  {
   "cell_type": "code",
   "execution_count": 258,
   "id": "f2142577-0dc2-4bbe-ae69-8141c86bf67b",
   "metadata": {},
   "outputs": [],
   "source": [
    "\n",
    "# Metodo de Hot Deck para el relleno de datos\n",
    "def hot_deck_imputation(df, target_col):\n",
    "\n",
    "    # Crear una copia del DataFrame para no modificar el original\n",
    "    df_copy = df.copy()\n",
    "\n",
    "    # Encontrar índices de filas con datos faltantes\n",
    "    missing_indices = df_copy[df_copy[target_col].isnull()].index\n",
    "\n",
    "    for index in missing_indices:\n",
    "        # Seleccionar una fila aleatoria del DataFrame sin valores faltantes en la columna objetivo\n",
    "        donor = df_copy.dropna(subset=[target_col]).sample(1, random_state=1)\n",
    "        df_copy.at[index, target_col] = donor[target_col].values[0]\n",
    "\n",
    "    return df_copy\n",
    "\n",
    "# Imputar valores faltantes en columnas específicas\n",
    "columnas_con_faltantes = ['FACT-NUE-FO', '# OP', 'FACT', 'NUM OP', 'FDO-#OP']\n",
    "\n",
    "for col in columnas_con_faltantes:\n",
    "    analisis = hot_deck_imputation(analisis, col)"
   ]
  },
  {
   "cell_type": "code",
   "execution_count": 259,
   "id": "98c8a8a0-8a8c-46c3-97c9-febe06d07cf4",
   "metadata": {},
   "outputs": [
    {
     "name": "stdout",
     "output_type": "stream",
     "text": [
      "\n",
      "Datos después de imputación Hot Deck:\n",
      "NUM BEN         0\n",
      "BENEFICIARIO    0\n",
      "RFC             0\n",
      "FACT-NUE-FO     0\n",
      "CONTRATO        0\n",
      "CONCEPTO        0\n",
      "TIPO            0\n",
      "# OP            0\n",
      "FECHA           0\n",
      "IMPORTE         0\n",
      "SHEET           0\n",
      "MES             0\n",
      "FACT            0\n",
      "NUM OP          0\n",
      "FDO-#OP         0\n",
      "dtype: int64\n"
     ]
    }
   ],
   "source": [
    "# Mostrar información sobre los datos después de la imputación\n",
    "print(\"\\nDatos después de imputación Hot Deck:\")\n",
    "print(analisis.isnull().sum())"
   ]
  },
  {
   "cell_type": "code",
   "execution_count": 260,
   "id": "c7d5867c-5de9-473a-acaa-83696be806b8",
   "metadata": {},
   "outputs": [
    {
     "data": {
      "text/html": [
       "<div>\n",
       "<style scoped>\n",
       "    .dataframe tbody tr th:only-of-type {\n",
       "        vertical-align: middle;\n",
       "    }\n",
       "\n",
       "    .dataframe tbody tr th {\n",
       "        vertical-align: top;\n",
       "    }\n",
       "\n",
       "    .dataframe thead th {\n",
       "        text-align: right;\n",
       "    }\n",
       "</style>\n",
       "<table border=\"1\" class=\"dataframe\">\n",
       "  <thead>\n",
       "    <tr style=\"text-align: right;\">\n",
       "      <th></th>\n",
       "      <th>NUM BEN</th>\n",
       "      <th>BENEFICIARIO</th>\n",
       "      <th>RFC</th>\n",
       "      <th>FACT-NUE-FO</th>\n",
       "      <th>CONTRATO</th>\n",
       "      <th>CONCEPTO</th>\n",
       "      <th>TIPO</th>\n",
       "      <th># OP</th>\n",
       "      <th>FECHA</th>\n",
       "      <th>IMPORTE</th>\n",
       "      <th>SHEET</th>\n",
       "      <th>MES</th>\n",
       "      <th>FACT</th>\n",
       "      <th>NUM OP</th>\n",
       "      <th>FDO-#OP</th>\n",
       "    </tr>\n",
       "  </thead>\n",
       "  <tbody>\n",
       "    <tr>\n",
       "      <th>0</th>\n",
       "      <td>206273</td>\n",
       "      <td>TESORERIA DE LA FEDERACION</td>\n",
       "      <td>SAT970701NN3</td>\n",
       "      <td>122020-153002-1</td>\n",
       "      <td>NO APLICA</td>\n",
       "      <td>REINTEGRO DE INTERESES DEL MES DE DICIEMBRE FO...</td>\n",
       "      <td>TR</td>\n",
       "      <td>297000067.0</td>\n",
       "      <td>2021-01-29</td>\n",
       "      <td>18309.00</td>\n",
       "      <td>CONTRATISTA</td>\n",
       "      <td>ENERO</td>\n",
       "      <td>CC25551-158008-278</td>\n",
       "      <td>1020984.0</td>\n",
       "      <td>319000731.0</td>\n",
       "    </tr>\n",
       "    <tr>\n",
       "      <th>1</th>\n",
       "      <td>206273</td>\n",
       "      <td>TESORERIA DE LA FEDERACION</td>\n",
       "      <td>SAT970701NN3</td>\n",
       "      <td>DASSPVM/5377/2021-158002-1</td>\n",
       "      <td>NO APLICA</td>\n",
       "      <td>REINTEGRO DE RECURSOS NO COMPROMETIDOS NI DEVE...</td>\n",
       "      <td>TR</td>\n",
       "      <td>303000013.0</td>\n",
       "      <td>2021-01-29</td>\n",
       "      <td>1190.70</td>\n",
       "      <td>CONTRATISTA</td>\n",
       "      <td>ENERO</td>\n",
       "      <td>CC25550-158008-279</td>\n",
       "      <td>1020984.0</td>\n",
       "      <td>319000399.0</td>\n",
       "    </tr>\n",
       "    <tr>\n",
       "      <th>2</th>\n",
       "      <td>206273</td>\n",
       "      <td>TESORERIA DE LA FEDERACION</td>\n",
       "      <td>SAT970701NN3</td>\n",
       "      <td>DASSPVM/5378/2021-158002-2</td>\n",
       "      <td>NO APLICA</td>\n",
       "      <td>REINTEGRO DE RENDIMIENTOS FINANCIEROS NO UTILI...</td>\n",
       "      <td>TR</td>\n",
       "      <td>303000012.0</td>\n",
       "      <td>2021-01-29</td>\n",
       "      <td>28356.00</td>\n",
       "      <td>CONTRATISTA</td>\n",
       "      <td>ENERO</td>\n",
       "      <td>CC25549-158008-287</td>\n",
       "      <td>1021054.0</td>\n",
       "      <td>319000414.0</td>\n",
       "    </tr>\n",
       "    <tr>\n",
       "      <th>3</th>\n",
       "      <td>206273</td>\n",
       "      <td>TESORERIA DE LA FEDERACION</td>\n",
       "      <td>SAT970701NN3</td>\n",
       "      <td>NO COMP-R33-2020-155002-1</td>\n",
       "      <td>NO APLICA</td>\n",
       "      <td>REINTEGRO DE IMPORTE NO COMPROMETIDO AL 31 DE ...</td>\n",
       "      <td>TR</td>\n",
       "      <td>298000071.0</td>\n",
       "      <td>2021-01-29</td>\n",
       "      <td>4294281.76</td>\n",
       "      <td>CONTRATISTA</td>\n",
       "      <td>ENERO</td>\n",
       "      <td>CC25548-158008-284</td>\n",
       "      <td>1020999.0</td>\n",
       "      <td>319000453.0</td>\n",
       "    </tr>\n",
       "    <tr>\n",
       "      <th>4</th>\n",
       "      <td>206273</td>\n",
       "      <td>TESORERIA DE LA FEDERACION</td>\n",
       "      <td>SAT970701NN3</td>\n",
       "      <td>PROD-FIN-PROAGUA-2020-155002-3</td>\n",
       "      <td>NO APLICA</td>\n",
       "      <td>REINTEGRO DE PRODUCTOS FINANCIEROS GENERADOS D...</td>\n",
       "      <td>TR</td>\n",
       "      <td>310000026.0</td>\n",
       "      <td>2021-01-29</td>\n",
       "      <td>59267.00</td>\n",
       "      <td>CONTRATISTA</td>\n",
       "      <td>ENERO</td>\n",
       "      <td>CC25547-158008-285</td>\n",
       "      <td>314000022.0</td>\n",
       "      <td>1106699.0</td>\n",
       "    </tr>\n",
       "    <tr>\n",
       "      <th>...</th>\n",
       "      <td>...</td>\n",
       "      <td>...</td>\n",
       "      <td>...</td>\n",
       "      <td>...</td>\n",
       "      <td>...</td>\n",
       "      <td>...</td>\n",
       "      <td>...</td>\n",
       "      <td>...</td>\n",
       "      <td>...</td>\n",
       "      <td>...</td>\n",
       "      <td>...</td>\n",
       "      <td>...</td>\n",
       "      <td>...</td>\n",
       "      <td>...</td>\n",
       "      <td>...</td>\n",
       "    </tr>\n",
       "    <tr>\n",
       "      <th>12413</th>\n",
       "      <td>116161</td>\n",
       "      <td>PUBLICACIONES METROPOLITANAS, S.A. DE C.V.</td>\n",
       "      <td>PME051206NG5</td>\n",
       "      <td>M 2309-158003-3471</td>\n",
       "      <td>OEP-302-2021</td>\n",
       "      <td>DESPLEGADO (1/2 PLANA HORIZONTAL) EN EL PERIOD...</td>\n",
       "      <td>TR</td>\n",
       "      <td>317000091.0</td>\n",
       "      <td>2021-12-03</td>\n",
       "      <td>215579.04</td>\n",
       "      <td>COMUNICACION</td>\n",
       "      <td>DICIEMBRE</td>\n",
       "      <td>F-196-155002-475</td>\n",
       "      <td>1020978.0</td>\n",
       "      <td>1021431.0</td>\n",
       "    </tr>\n",
       "    <tr>\n",
       "      <th>12414</th>\n",
       "      <td>116161</td>\n",
       "      <td>PUBLICACIONES METROPOLITANAS, S.A. DE C.V.</td>\n",
       "      <td>PME051206NG5</td>\n",
       "      <td>O 3410-158003-4447</td>\n",
       "      <td>OEP-302-2021</td>\n",
       "      <td>BOX BANNER EN LA PAGINA WWW.PUBLIMETRO.COM.MX ...</td>\n",
       "      <td>TR</td>\n",
       "      <td>1019982.0</td>\n",
       "      <td>2021-12-03</td>\n",
       "      <td>206231.76</td>\n",
       "      <td>COMUNICACION</td>\n",
       "      <td>DICIEMBRE</td>\n",
       "      <td>40346-158004-1896</td>\n",
       "      <td>1021143.0</td>\n",
       "      <td>1021431.0</td>\n",
       "    </tr>\n",
       "    <tr>\n",
       "      <th>12415</th>\n",
       "      <td>116271</td>\n",
       "      <td>QUINTERO PEREZ SOCORRO GUADALUPE</td>\n",
       "      <td>QUPS670627MR1</td>\n",
       "      <td>1268-158003-4358</td>\n",
       "      <td>SADA/CC/261.3/2020</td>\n",
       "      <td>PUBLICIDAD EN LA REVISTA PERSONAJES (PLANA) CO...</td>\n",
       "      <td>TR</td>\n",
       "      <td>1019973.0</td>\n",
       "      <td>2021-12-03</td>\n",
       "      <td>15000.00</td>\n",
       "      <td>COMUNICACION</td>\n",
       "      <td>DICIEMBRE</td>\n",
       "      <td>KTM1827-158008-2860</td>\n",
       "      <td>319000610.0</td>\n",
       "      <td>1021435.0</td>\n",
       "    </tr>\n",
       "    <tr>\n",
       "      <th>12416</th>\n",
       "      <td>116271</td>\n",
       "      <td>QUINTERO PEREZ SOCORRO GUADALUPE</td>\n",
       "      <td>QUPS670627MR1</td>\n",
       "      <td>1269-158003-4359</td>\n",
       "      <td>SADA/CC/261.3/2020</td>\n",
       "      <td>PUBLICIDAD EN LA REVISTA PERSONAJES (PLANA) CO...</td>\n",
       "      <td>TR</td>\n",
       "      <td>1019973.0</td>\n",
       "      <td>2021-12-03</td>\n",
       "      <td>15000.00</td>\n",
       "      <td>COMUNICACION</td>\n",
       "      <td>DICIEMBRE</td>\n",
       "      <td>KTM1827-158008-2860</td>\n",
       "      <td>319000610.0</td>\n",
       "      <td>1021435.0</td>\n",
       "    </tr>\n",
       "    <tr>\n",
       "      <th>12417</th>\n",
       "      <td>116439</td>\n",
       "      <td>MULTIMEDIOS, S.A. DE C.V.</td>\n",
       "      <td>MUL0711147NA</td>\n",
       "      <td>MYA 93692-158003-4724</td>\n",
       "      <td>OEP-293-2021</td>\n",
       "      <td>TRANSMISION DE SPOT DE 30SEG, DEL DIA 08 AL 28...</td>\n",
       "      <td>TR</td>\n",
       "      <td>1019590.0</td>\n",
       "      <td>2021-12-03</td>\n",
       "      <td>434137.66</td>\n",
       "      <td>COMUNICACION</td>\n",
       "      <td>DICIEMBRE</td>\n",
       "      <td>OFR2229-158003-4311</td>\n",
       "      <td>319000577.0</td>\n",
       "      <td>1021441.0</td>\n",
       "    </tr>\n",
       "  </tbody>\n",
       "</table>\n",
       "<p>12418 rows × 15 columns</p>\n",
       "</div>"
      ],
      "text/plain": [
       "       NUM BEN                                BENEFICIARIO            RFC  \\\n",
       "0       206273                  TESORERIA DE LA FEDERACION   SAT970701NN3   \n",
       "1       206273                  TESORERIA DE LA FEDERACION   SAT970701NN3   \n",
       "2       206273                  TESORERIA DE LA FEDERACION   SAT970701NN3   \n",
       "3       206273                  TESORERIA DE LA FEDERACION   SAT970701NN3   \n",
       "4       206273                  TESORERIA DE LA FEDERACION   SAT970701NN3   \n",
       "...        ...                                         ...            ...   \n",
       "12413   116161  PUBLICACIONES METROPOLITANAS, S.A. DE C.V.   PME051206NG5   \n",
       "12414   116161  PUBLICACIONES METROPOLITANAS, S.A. DE C.V.   PME051206NG5   \n",
       "12415   116271            QUINTERO PEREZ SOCORRO GUADALUPE  QUPS670627MR1   \n",
       "12416   116271            QUINTERO PEREZ SOCORRO GUADALUPE  QUPS670627MR1   \n",
       "12417   116439                   MULTIMEDIOS, S.A. DE C.V.   MUL0711147NA   \n",
       "\n",
       "                          FACT-NUE-FO            CONTRATO  \\\n",
       "0                     122020-153002-1           NO APLICA   \n",
       "1          DASSPVM/5377/2021-158002-1           NO APLICA   \n",
       "2          DASSPVM/5378/2021-158002-2           NO APLICA   \n",
       "3           NO COMP-R33-2020-155002-1           NO APLICA   \n",
       "4      PROD-FIN-PROAGUA-2020-155002-3           NO APLICA   \n",
       "...                               ...                 ...   \n",
       "12413              M 2309-158003-3471        OEP-302-2021   \n",
       "12414              O 3410-158003-4447        OEP-302-2021   \n",
       "12415                1268-158003-4358  SADA/CC/261.3/2020   \n",
       "12416                1269-158003-4359  SADA/CC/261.3/2020   \n",
       "12417           MYA 93692-158003-4724        OEP-293-2021   \n",
       "\n",
       "                                                CONCEPTO TIPO         # OP  \\\n",
       "0      REINTEGRO DE INTERESES DEL MES DE DICIEMBRE FO...   TR  297000067.0   \n",
       "1      REINTEGRO DE RECURSOS NO COMPROMETIDOS NI DEVE...   TR  303000013.0   \n",
       "2      REINTEGRO DE RENDIMIENTOS FINANCIEROS NO UTILI...   TR  303000012.0   \n",
       "3      REINTEGRO DE IMPORTE NO COMPROMETIDO AL 31 DE ...   TR  298000071.0   \n",
       "4      REINTEGRO DE PRODUCTOS FINANCIEROS GENERADOS D...   TR  310000026.0   \n",
       "...                                                  ...  ...          ...   \n",
       "12413  DESPLEGADO (1/2 PLANA HORIZONTAL) EN EL PERIOD...   TR  317000091.0   \n",
       "12414  BOX BANNER EN LA PAGINA WWW.PUBLIMETRO.COM.MX ...   TR    1019982.0   \n",
       "12415  PUBLICIDAD EN LA REVISTA PERSONAJES (PLANA) CO...   TR    1019973.0   \n",
       "12416  PUBLICIDAD EN LA REVISTA PERSONAJES (PLANA) CO...   TR    1019973.0   \n",
       "12417  TRANSMISION DE SPOT DE 30SEG, DEL DIA 08 AL 28...   TR    1019590.0   \n",
       "\n",
       "            FECHA     IMPORTE         SHEET        MES                 FACT  \\\n",
       "0      2021-01-29    18309.00   CONTRATISTA      ENERO   CC25551-158008-278   \n",
       "1      2021-01-29     1190.70   CONTRATISTA      ENERO   CC25550-158008-279   \n",
       "2      2021-01-29    28356.00   CONTRATISTA      ENERO   CC25549-158008-287   \n",
       "3      2021-01-29  4294281.76   CONTRATISTA      ENERO   CC25548-158008-284   \n",
       "4      2021-01-29    59267.00   CONTRATISTA      ENERO   CC25547-158008-285   \n",
       "...           ...         ...           ...        ...                  ...   \n",
       "12413  2021-12-03   215579.04  COMUNICACION  DICIEMBRE     F-196-155002-475   \n",
       "12414  2021-12-03   206231.76  COMUNICACION  DICIEMBRE    40346-158004-1896   \n",
       "12415  2021-12-03    15000.00  COMUNICACION  DICIEMBRE  KTM1827-158008-2860   \n",
       "12416  2021-12-03    15000.00  COMUNICACION  DICIEMBRE  KTM1827-158008-2860   \n",
       "12417  2021-12-03   434137.66  COMUNICACION  DICIEMBRE  OFR2229-158003-4311   \n",
       "\n",
       "            NUM OP      FDO-#OP  \n",
       "0        1020984.0  319000731.0  \n",
       "1        1020984.0  319000399.0  \n",
       "2        1021054.0  319000414.0  \n",
       "3        1020999.0  319000453.0  \n",
       "4      314000022.0    1106699.0  \n",
       "...            ...          ...  \n",
       "12413    1020978.0    1021431.0  \n",
       "12414    1021143.0    1021431.0  \n",
       "12415  319000610.0    1021435.0  \n",
       "12416  319000610.0    1021435.0  \n",
       "12417  319000577.0    1021441.0  \n",
       "\n",
       "[12418 rows x 15 columns]"
      ]
     },
     "execution_count": 260,
     "metadata": {},
     "output_type": "execute_result"
    }
   ],
   "source": [
    "analisis"
   ]
  },
  {
   "cell_type": "code",
   "execution_count": 261,
   "id": "5bf0bc51-5473-44b7-8890-3449baa142b4",
   "metadata": {},
   "outputs": [
    {
     "data": {
      "text/html": [
       "<div>\n",
       "<style scoped>\n",
       "    .dataframe tbody tr th:only-of-type {\n",
       "        vertical-align: middle;\n",
       "    }\n",
       "\n",
       "    .dataframe tbody tr th {\n",
       "        vertical-align: top;\n",
       "    }\n",
       "\n",
       "    .dataframe thead th {\n",
       "        text-align: right;\n",
       "    }\n",
       "</style>\n",
       "<table border=\"1\" class=\"dataframe\">\n",
       "  <thead>\n",
       "    <tr style=\"text-align: right;\">\n",
       "      <th></th>\n",
       "      <th>NUM BEN</th>\n",
       "      <th># OP</th>\n",
       "      <th>IMPORTE</th>\n",
       "      <th>NUM OP</th>\n",
       "      <th>FDO-#OP</th>\n",
       "    </tr>\n",
       "  </thead>\n",
       "  <tbody>\n",
       "    <tr>\n",
       "      <th>count</th>\n",
       "      <td>12418.000000</td>\n",
       "      <td>1.241800e+04</td>\n",
       "      <td>1.241800e+04</td>\n",
       "      <td>1.241800e+04</td>\n",
       "      <td>1.241800e+04</td>\n",
       "    </tr>\n",
       "    <tr>\n",
       "      <th>mean</th>\n",
       "      <td>203087.707924</td>\n",
       "      <td>1.154310e+08</td>\n",
       "      <td>4.305007e+05</td>\n",
       "      <td>1.218106e+08</td>\n",
       "      <td>1.738460e+08</td>\n",
       "    </tr>\n",
       "    <tr>\n",
       "      <th>std</th>\n",
       "      <td>87836.068698</td>\n",
       "      <td>1.494789e+08</td>\n",
       "      <td>2.243729e+06</td>\n",
       "      <td>1.531999e+08</td>\n",
       "      <td>1.573436e+08</td>\n",
       "    </tr>\n",
       "    <tr>\n",
       "      <th>min</th>\n",
       "      <td>110036.000000</td>\n",
       "      <td>1.019187e+06</td>\n",
       "      <td>1.900000e-01</td>\n",
       "      <td>1.020730e+06</td>\n",
       "      <td>1.021309e+06</td>\n",
       "    </tr>\n",
       "    <tr>\n",
       "      <th>25%</th>\n",
       "      <td>116086.250000</td>\n",
       "      <td>1.019708e+06</td>\n",
       "      <td>3.743412e+03</td>\n",
       "      <td>1.021025e+06</td>\n",
       "      <td>1.021540e+06</td>\n",
       "    </tr>\n",
       "    <tr>\n",
       "      <th>50%</th>\n",
       "      <td>203016.000000</td>\n",
       "      <td>1.104722e+06</td>\n",
       "      <td>1.715071e+04</td>\n",
       "      <td>1.106306e+06</td>\n",
       "      <td>2.990015e+08</td>\n",
       "    </tr>\n",
       "    <tr>\n",
       "      <th>75%</th>\n",
       "      <td>311250.000000</td>\n",
       "      <td>3.070000e+08</td>\n",
       "      <td>1.120887e+05</td>\n",
       "      <td>3.170002e+08</td>\n",
       "      <td>3.190006e+08</td>\n",
       "    </tr>\n",
       "    <tr>\n",
       "      <th>max</th>\n",
       "      <td>370012.000000</td>\n",
       "      <td>6.040001e+08</td>\n",
       "      <td>8.299122e+07</td>\n",
       "      <td>6.040001e+08</td>\n",
       "      <td>6.040001e+08</td>\n",
       "    </tr>\n",
       "  </tbody>\n",
       "</table>\n",
       "</div>"
      ],
      "text/plain": [
       "             NUM BEN          # OP       IMPORTE        NUM OP       FDO-#OP\n",
       "count   12418.000000  1.241800e+04  1.241800e+04  1.241800e+04  1.241800e+04\n",
       "mean   203087.707924  1.154310e+08  4.305007e+05  1.218106e+08  1.738460e+08\n",
       "std     87836.068698  1.494789e+08  2.243729e+06  1.531999e+08  1.573436e+08\n",
       "min    110036.000000  1.019187e+06  1.900000e-01  1.020730e+06  1.021309e+06\n",
       "25%    116086.250000  1.019708e+06  3.743412e+03  1.021025e+06  1.021540e+06\n",
       "50%    203016.000000  1.104722e+06  1.715071e+04  1.106306e+06  2.990015e+08\n",
       "75%    311250.000000  3.070000e+08  1.120887e+05  3.170002e+08  3.190006e+08\n",
       "max    370012.000000  6.040001e+08  8.299122e+07  6.040001e+08  6.040001e+08"
      ]
     },
     "execution_count": 261,
     "metadata": {},
     "output_type": "execute_result"
    }
   ],
   "source": [
    "analisis.describe()"
   ]
  },
  {
   "cell_type": "markdown",
   "id": "d93a692f-9c53-4276-93d0-4ec49b1ff850",
   "metadata": {},
   "source": [
    "# 3: Exploración de los datos"
   ]
  },
  {
   "cell_type": "markdown",
   "id": "dce7e1e9-3255-4c96-b793-35032325a2b3",
   "metadata": {},
   "source": [
    "### A: visión general de la dataset"
   ]
  },
  {
   "cell_type": "code",
   "execution_count": 461,
   "id": "689ec6fd-3bee-465a-8b1b-ec17dad70f8c",
   "metadata": {},
   "outputs": [
    {
     "data": {
      "text/plain": [
       "Index(['NUM BEN', 'BENEFICIARIO', 'RFC', 'FACT-NUE-FO', 'CONTRATO', 'CONCEPTO',\n",
       "       'TIPO', '# OP', 'FECHA', 'IMPORTE', 'SHEET', 'MES', 'FACT', 'NUM OP',\n",
       "       'FDO-#OP', 'DIA', 'AÑO', 'BENEFICIARIO_SALES',\n",
       "       'IMPORTE_GASTO_PROMEDIO'],\n",
       "      dtype='object')"
      ]
     },
     "execution_count": 461,
     "metadata": {},
     "output_type": "execute_result"
    }
   ],
   "source": [
    "analisis.columns"
   ]
  },
  {
   "cell_type": "code",
   "execution_count": 270,
   "id": "4ef159e1-0f15-482b-ad71-a3fd0af7dac8",
   "metadata": {},
   "outputs": [
    {
     "data": {
      "text/plain": [
       "NUM BEN           int64\n",
       "BENEFICIARIO     object\n",
       "RFC              object\n",
       "FACT-NUE-FO      object\n",
       "CONTRATO         object\n",
       "CONCEPTO         object\n",
       "TIPO             object\n",
       "# OP            float64\n",
       "FECHA            object\n",
       "IMPORTE         float64\n",
       "SHEET            object\n",
       "MES              object\n",
       "FACT             object\n",
       "NUM OP          float64\n",
       "FDO-#OP         float64\n",
       "dtype: object"
      ]
     },
     "execution_count": 270,
     "metadata": {},
     "output_type": "execute_result"
    }
   ],
   "source": [
    "analisis.dtypes"
   ]
  },
  {
   "cell_type": "raw",
   "id": "5ab4ea8a-94d4-4833-9696-34a26fa13dae",
   "metadata": {},
   "source": [
    "El conjunto de datos se enfoca en transacciones financieras de beneficiarios, identificados por NUM BEN, y proporciona contexto a través de columnas como BENEFICIARIO, RFC, y CONTRATO. Incluye variables numéricas como # OP e IMPORTE, que son clave para analizar el volumen y monto de las transacciones.La columna FECHA permite análisis temporales"
   ]
  },
  {
   "cell_type": "code",
   "execution_count": 272,
   "id": "7df5328e-25ae-4718-ae44-f2a91ceea50b",
   "metadata": {},
   "outputs": [
    {
     "data": {
      "text/html": [
       "<div>\n",
       "<style scoped>\n",
       "    .dataframe tbody tr th:only-of-type {\n",
       "        vertical-align: middle;\n",
       "    }\n",
       "\n",
       "    .dataframe tbody tr th {\n",
       "        vertical-align: top;\n",
       "    }\n",
       "\n",
       "    .dataframe thead th {\n",
       "        text-align: right;\n",
       "    }\n",
       "</style>\n",
       "<table border=\"1\" class=\"dataframe\">\n",
       "  <thead>\n",
       "    <tr style=\"text-align: right;\">\n",
       "      <th></th>\n",
       "      <th>NUM BEN</th>\n",
       "      <th># OP</th>\n",
       "      <th>IMPORTE</th>\n",
       "      <th>NUM OP</th>\n",
       "      <th>FDO-#OP</th>\n",
       "    </tr>\n",
       "  </thead>\n",
       "  <tbody>\n",
       "    <tr>\n",
       "      <th>count</th>\n",
       "      <td>12418.000000</td>\n",
       "      <td>1.241800e+04</td>\n",
       "      <td>1.241800e+04</td>\n",
       "      <td>1.241800e+04</td>\n",
       "      <td>1.241800e+04</td>\n",
       "    </tr>\n",
       "    <tr>\n",
       "      <th>mean</th>\n",
       "      <td>203087.707924</td>\n",
       "      <td>1.154310e+08</td>\n",
       "      <td>4.305007e+05</td>\n",
       "      <td>1.218106e+08</td>\n",
       "      <td>1.738460e+08</td>\n",
       "    </tr>\n",
       "    <tr>\n",
       "      <th>std</th>\n",
       "      <td>87836.068698</td>\n",
       "      <td>1.494789e+08</td>\n",
       "      <td>2.243729e+06</td>\n",
       "      <td>1.531999e+08</td>\n",
       "      <td>1.573436e+08</td>\n",
       "    </tr>\n",
       "    <tr>\n",
       "      <th>min</th>\n",
       "      <td>110036.000000</td>\n",
       "      <td>1.019187e+06</td>\n",
       "      <td>1.900000e-01</td>\n",
       "      <td>1.020730e+06</td>\n",
       "      <td>1.021309e+06</td>\n",
       "    </tr>\n",
       "    <tr>\n",
       "      <th>25%</th>\n",
       "      <td>116086.250000</td>\n",
       "      <td>1.019708e+06</td>\n",
       "      <td>3.743412e+03</td>\n",
       "      <td>1.021025e+06</td>\n",
       "      <td>1.021540e+06</td>\n",
       "    </tr>\n",
       "    <tr>\n",
       "      <th>50%</th>\n",
       "      <td>203016.000000</td>\n",
       "      <td>1.104722e+06</td>\n",
       "      <td>1.715071e+04</td>\n",
       "      <td>1.106306e+06</td>\n",
       "      <td>2.990015e+08</td>\n",
       "    </tr>\n",
       "    <tr>\n",
       "      <th>75%</th>\n",
       "      <td>311250.000000</td>\n",
       "      <td>3.070000e+08</td>\n",
       "      <td>1.120887e+05</td>\n",
       "      <td>3.170002e+08</td>\n",
       "      <td>3.190006e+08</td>\n",
       "    </tr>\n",
       "    <tr>\n",
       "      <th>max</th>\n",
       "      <td>370012.000000</td>\n",
       "      <td>6.040001e+08</td>\n",
       "      <td>8.299122e+07</td>\n",
       "      <td>6.040001e+08</td>\n",
       "      <td>6.040001e+08</td>\n",
       "    </tr>\n",
       "  </tbody>\n",
       "</table>\n",
       "</div>"
      ],
      "text/plain": [
       "             NUM BEN          # OP       IMPORTE        NUM OP       FDO-#OP\n",
       "count   12418.000000  1.241800e+04  1.241800e+04  1.241800e+04  1.241800e+04\n",
       "mean   203087.707924  1.154310e+08  4.305007e+05  1.218106e+08  1.738460e+08\n",
       "std     87836.068698  1.494789e+08  2.243729e+06  1.531999e+08  1.573436e+08\n",
       "min    110036.000000  1.019187e+06  1.900000e-01  1.020730e+06  1.021309e+06\n",
       "25%    116086.250000  1.019708e+06  3.743412e+03  1.021025e+06  1.021540e+06\n",
       "50%    203016.000000  1.104722e+06  1.715071e+04  1.106306e+06  2.990015e+08\n",
       "75%    311250.000000  3.070000e+08  1.120887e+05  3.170002e+08  3.190006e+08\n",
       "max    370012.000000  6.040001e+08  8.299122e+07  6.040001e+08  6.040001e+08"
      ]
     },
     "execution_count": 272,
     "metadata": {},
     "output_type": "execute_result"
    }
   ],
   "source": [
    "analisis.describe()"
   ]
  },
  {
   "cell_type": "raw",
   "id": "ca60a4e2-5607-46aa-bc18-97f9714a8758",
   "metadata": {},
   "source": [
    "El resumen estadístico del conjunto de datos muestra que hay 12,418 registros, con un valor medio de NUM BEN de aproximadamente 203,088\n",
    "y un rango que varía desde 110,036 hasta 370,012. La columna # OP presenta una media de aproximadamente 115,431,000, con un rango considerable \n",
    "que va desde 1,019,187 hasta 604,000,000, lo que sugiere una alta variabilidad en las operaciones. El IMPORTE tiene un promedio de 430,500, \n",
    "con un valor mínimo de 0.19, lo que indica la existencia de transacciones de bajo monto, y un máximo de aproximadamente 82,991,220. \n",
    "Las cifras del NUM OP y FDO-#OP también presentan promedios elevados y grandes desviaciones estándar, lo que sugiere que algunos registros pueden ser atípicos"
   ]
  },
  {
   "cell_type": "code",
   "execution_count": 274,
   "id": "6cc0f629-091e-4399-9845-563a60b0439e",
   "metadata": {},
   "outputs": [
    {
     "data": {
      "text/plain": [
       "Index(['NUM BEN', 'BENEFICIARIO', 'RFC', 'FACT-NUE-FO', 'CONTRATO', 'CONCEPTO',\n",
       "       'TIPO', '# OP', 'FECHA', 'IMPORTE', 'SHEET', 'MES', 'FACT', 'NUM OP',\n",
       "       'FDO-#OP'],\n",
       "      dtype='object')"
      ]
     },
     "execution_count": 274,
     "metadata": {},
     "output_type": "execute_result"
    }
   ],
   "source": [
    "analisis.columns"
   ]
  },
  {
   "cell_type": "code",
   "execution_count": 276,
   "id": "4e83f59c-50ec-414e-a61e-5d7c3a7456c6",
   "metadata": {},
   "outputs": [
    {
     "data": {
      "text/html": [
       "<div>\n",
       "<style scoped>\n",
       "    .dataframe tbody tr th:only-of-type {\n",
       "        vertical-align: middle;\n",
       "    }\n",
       "\n",
       "    .dataframe tbody tr th {\n",
       "        vertical-align: top;\n",
       "    }\n",
       "\n",
       "    .dataframe thead th {\n",
       "        text-align: right;\n",
       "    }\n",
       "</style>\n",
       "<table border=\"1\" class=\"dataframe\">\n",
       "  <thead>\n",
       "    <tr style=\"text-align: right;\">\n",
       "      <th></th>\n",
       "      <th>BENEFICIARIO</th>\n",
       "      <th>FACT-NUE-FO</th>\n",
       "      <th>CONTRATO</th>\n",
       "      <th>TIPO</th>\n",
       "      <th>FECHA</th>\n",
       "      <th>IMPORTE</th>\n",
       "      <th>SHEET</th>\n",
       "      <th>CONCEPTO</th>\n",
       "    </tr>\n",
       "  </thead>\n",
       "  <tbody>\n",
       "    <tr>\n",
       "      <th>0</th>\n",
       "      <td>TESORERIA DE LA FEDERACION</td>\n",
       "      <td>122020-153002-1</td>\n",
       "      <td>NO APLICA</td>\n",
       "      <td>TR</td>\n",
       "      <td>2021-01-29</td>\n",
       "      <td>18309.00</td>\n",
       "      <td>CONTRATISTA</td>\n",
       "      <td>REINTEGRO DE INTERESES DEL MES DE DICIEMBRE FO...</td>\n",
       "    </tr>\n",
       "    <tr>\n",
       "      <th>1</th>\n",
       "      <td>TESORERIA DE LA FEDERACION</td>\n",
       "      <td>DASSPVM/5377/2021-158002-1</td>\n",
       "      <td>NO APLICA</td>\n",
       "      <td>TR</td>\n",
       "      <td>2021-01-29</td>\n",
       "      <td>1190.70</td>\n",
       "      <td>CONTRATISTA</td>\n",
       "      <td>REINTEGRO DE RECURSOS NO COMPROMETIDOS NI DEVE...</td>\n",
       "    </tr>\n",
       "    <tr>\n",
       "      <th>2</th>\n",
       "      <td>TESORERIA DE LA FEDERACION</td>\n",
       "      <td>DASSPVM/5378/2021-158002-2</td>\n",
       "      <td>NO APLICA</td>\n",
       "      <td>TR</td>\n",
       "      <td>2021-01-29</td>\n",
       "      <td>28356.00</td>\n",
       "      <td>CONTRATISTA</td>\n",
       "      <td>REINTEGRO DE RENDIMIENTOS FINANCIEROS NO UTILI...</td>\n",
       "    </tr>\n",
       "    <tr>\n",
       "      <th>3</th>\n",
       "      <td>TESORERIA DE LA FEDERACION</td>\n",
       "      <td>NO COMP-R33-2020-155002-1</td>\n",
       "      <td>NO APLICA</td>\n",
       "      <td>TR</td>\n",
       "      <td>2021-01-29</td>\n",
       "      <td>4294281.76</td>\n",
       "      <td>CONTRATISTA</td>\n",
       "      <td>REINTEGRO DE IMPORTE NO COMPROMETIDO AL 31 DE ...</td>\n",
       "    </tr>\n",
       "  </tbody>\n",
       "</table>\n",
       "</div>"
      ],
      "text/plain": [
       "                 BENEFICIARIO                 FACT-NUE-FO   CONTRATO TIPO  \\\n",
       "0  TESORERIA DE LA FEDERACION             122020-153002-1  NO APLICA   TR   \n",
       "1  TESORERIA DE LA FEDERACION  DASSPVM/5377/2021-158002-1  NO APLICA   TR   \n",
       "2  TESORERIA DE LA FEDERACION  DASSPVM/5378/2021-158002-2  NO APLICA   TR   \n",
       "3  TESORERIA DE LA FEDERACION   NO COMP-R33-2020-155002-1  NO APLICA   TR   \n",
       "\n",
       "        FECHA     IMPORTE        SHEET  \\\n",
       "0  2021-01-29    18309.00  CONTRATISTA   \n",
       "1  2021-01-29     1190.70  CONTRATISTA   \n",
       "2  2021-01-29    28356.00  CONTRATISTA   \n",
       "3  2021-01-29  4294281.76  CONTRATISTA   \n",
       "\n",
       "                                            CONCEPTO  \n",
       "0  REINTEGRO DE INTERESES DEL MES DE DICIEMBRE FO...  \n",
       "1  REINTEGRO DE RECURSOS NO COMPROMETIDOS NI DEVE...  \n",
       "2  REINTEGRO DE RENDIMIENTOS FINANCIEROS NO UTILI...  \n",
       "3  REINTEGRO DE IMPORTE NO COMPROMETIDO AL 31 DE ...  "
      ]
     },
     "execution_count": 276,
     "metadata": {},
     "output_type": "execute_result"
    }
   ],
   "source": [
    "orden=analisis[[\"BENEFICIARIO\", \"FACT-NUE-FO\", \"CONTRATO\", \"TIPO\",\"FECHA\", \"IMPORTE\",\"SHEET\",\"CONCEPTO\"]]\n",
    "orden.head(4)"
   ]
  },
  {
   "cell_type": "markdown",
   "id": "06dfd3a3-b303-42f6-a72a-0565d24b784a",
   "metadata": {},
   "source": [
    "### B : analisis unidimencional"
   ]
  },
  {
   "cell_type": "code",
   "execution_count": 279,
   "id": "4366534c-926e-4222-8ee7-500c32bce0a2",
   "metadata": {},
   "outputs": [
    {
     "data": {
      "text/plain": [
       "SHEET\n",
       "GASTOS VARIOS         5074\n",
       "CONTRATISTA           3746\n",
       "SERV PERSONALES       1396\n",
       "OBRA PUBLICA          1295\n",
       "COMUNICACION           681\n",
       "SERV PROFESIONALES     195\n",
       "REPRESENTACION          31\n",
       "Name: count, dtype: int64"
      ]
     },
     "execution_count": 279,
     "metadata": {},
     "output_type": "execute_result"
    }
   ],
   "source": [
    "orden[\"SHEET\"].value_counts()"
   ]
  },
  {
   "cell_type": "code",
   "execution_count": 281,
   "id": "4e0dfe89-4a72-401c-bacd-9b5ef7244e87",
   "metadata": {},
   "outputs": [
    {
     "data": {
      "text/plain": [
       "array(['CONTRATISTA', 'GASTOS VARIOS', 'SERV PERSONALES',\n",
       "       'SERV PROFESIONALES', 'REPRESENTACION', 'COMUNICACION',\n",
       "       'OBRA PUBLICA'], dtype=object)"
      ]
     },
     "execution_count": 281,
     "metadata": {},
     "output_type": "execute_result"
    }
   ],
   "source": [
    "orden[\"SHEET\"].unique()"
   ]
  },
  {
   "cell_type": "code",
   "execution_count": 283,
   "id": "49f29b89-2d66-4432-897d-da4aa80ca07e",
   "metadata": {},
   "outputs": [
    {
     "data": {
      "text/plain": [
       "CONCEPTO\n",
       "SERVICIOS FUNERARIOS ASISTENCIA SOCIAL DIF                                                                                    88\n",
       "SERVICIO DE COFINAMIENTO DE RESIDUOS SOLIDOS URBANOS DEL MUNICIPIO DE MONTERREY DEL PERIODO DEL 26 AL 29 DE JULIO DE 2021.    18\n",
       "SERVICIO DE ATENCION MEDICA ESPECIALIZADAY HOSPITALIZACION DEL MES DE ENERO 2021 (RAMO 28)                                    17\n",
       "DESCUENTO SOBRE NÓMINA CORRESPONDIENTE A LA PRIMERA QUINCENA DEL MES 3 Y AÑO 2021                                             12\n",
       "DESCUENTO SOBRE NÓMINA CORRESPONDIENTE A LA PRIMERA QUINCENA DEL MES 2 Y AÑO 2021                                             12\n",
       "                                                                                                                              ..\n",
       "DESPLEGADO EN EL PERIODICO MILENIO DIARIO DEL DIA 25 DE FEBRERO 2021, CAMPAÑA PREDIAL                                          1\n",
       "DESPLEGADO EN EL PERIODICO MILENIO DIARIO DEL DIA 20 DE FEBRERO 2021, CAMPAÑA FELICITACION DIA DEL EJERCITO                    1\n",
       "DESPLEGADO EN EL PERIODICO MILENIO DIARIO DEL DIA 23 DE FEBRERO 2021, CAMPAÑA PREDIAL                                          1\n",
       "TRANSMISION DE SPOT DE 30SEG, DEL 01 AL 25 DE ENERO 2021, CAMPAÑA PREDIAL                                                      1\n",
       "TRANSMISION DE SPOT DE 30SEG, DEL DIA 08 AL 28 DE ABRIL DEL 2021, CAMPAÑA EN TELEVISION, EXCURSIONES                           1\n",
       "Name: count, Length: 10775, dtype: int64"
      ]
     },
     "execution_count": 283,
     "metadata": {},
     "output_type": "execute_result"
    }
   ],
   "source": [
    "orden[\"CONCEPTO\"].value_counts()"
   ]
  },
  {
   "cell_type": "code",
   "execution_count": 285,
   "id": "e4d7b83e-6c84-43b6-b5bb-1ea900ee4fa2",
   "metadata": {},
   "outputs": [
    {
     "data": {
      "text/plain": [
       "array(['REINTEGRO DE INTERESES DEL MES DE DICIEMBRE FORTAMUN 2020',\n",
       "       'REINTEGRO DE RECURSOS NO COMPROMETIDOS NI DEVENGADOS DEL PROGRAMA FORTASEG 2020 LINEA DE CAPTURA 0021AADO303956228404',\n",
       "       'REINTEGRO DE RENDIMIENTOS FINANCIEROS NO UTILIZADOS GENERADOS EN EL EJERCIO FISCAL FORTASEG 2020 LINEA DE CAPTURA 0021AADN751056072458',\n",
       "       ...,\n",
       "       'PUBLICIDAD EN LA REVISTA PERSONAJES (PLANA) CORRESPONDIENTE AL MES DE JUNIO DEL 2021, DE LA CAMPAÑA INCENDIOS',\n",
       "       'PUBLICIDAD EN LA REVISTA PERSONAJES (PLANA) CORRESPONDIENTE AL MES DE JUNIO DEL 2021, DE LA CAMPAÑA EXCURSIONES',\n",
       "       'TRANSMISION DE SPOT DE 30SEG, DEL DIA 08 AL 28 DE ABRIL DEL 2021, CAMPAÑA EN TELEVISION, EXCURSIONES'],\n",
       "      dtype=object)"
      ]
     },
     "execution_count": 285,
     "metadata": {},
     "output_type": "execute_result"
    }
   ],
   "source": [
    "orden[\"CONCEPTO\"].unique()"
   ]
  },
  {
   "cell_type": "code",
   "execution_count": 287,
   "id": "3a0e897b-9186-4e22-98ef-52e26c2fb689",
   "metadata": {},
   "outputs": [
    {
     "name": "stdout",
     "output_type": "stream",
     "text": [
      "\n",
      "Conteo de ocurrencia de 'TIPO':\n",
      "TIPO\n",
      "TR    10124\n",
      "CH     2294\n",
      "Name: count, dtype: int64\n"
     ]
    }
   ],
   "source": [
    "tipo_count = analisis['TIPO'].value_counts()\n",
    "print(\"\\nConteo de ocurrencia de 'TIPO':\")\n",
    "print(tipo_count)\n"
   ]
  },
  {
   "cell_type": "code",
   "execution_count": 289,
   "id": "7aa894c9-0e5b-43d5-a437-f86110d1f954",
   "metadata": {},
   "outputs": [
    {
     "name": "stdout",
     "output_type": "stream",
     "text": [
      "\n",
      "Cantidad de valores únicos en cada columna:\n",
      "NUM BEN           467\n",
      "BENEFICIARIO     1837\n",
      "RFC              1836\n",
      "FACT-NUE-FO      8074\n",
      "CONTRATO         3690\n",
      "CONCEPTO        10775\n",
      "TIPO                2\n",
      "# OP             2577\n",
      "FECHA             160\n",
      "IMPORTE          8802\n",
      "SHEET               7\n",
      "MES                11\n",
      "FACT             4332\n",
      "NUM OP           1601\n",
      "FDO-#OP          1557\n",
      "dtype: int64\n"
     ]
    }
   ],
   "source": [
    "# Determinar la cantidad de valores únicos\n",
    "unique_values = analisis.nunique()\n",
    "print(\"\\nCantidad de valores únicos en cada columna:\")\n",
    "print(unique_values)"
   ]
  },
  {
   "cell_type": "code",
   "execution_count": 291,
   "id": "26f74177-fce8-4669-8e1e-c96c69ba6552",
   "metadata": {},
   "outputs": [
    {
     "name": "stdout",
     "output_type": "stream",
     "text": [
      "\n",
      "Número de pagos por proveedor:\n",
      "BENEFICIARIO\n",
      "CAMARA MEXICANA DE LA INDUSTRIA DE LA CONSTRUCCION    1428\n",
      "S.I.M.E.P.R.O.D.E.                                     542\n",
      "AUTOKAM REGIOMONTANA,S.A.DE C.V.                       499\n",
      "CAR ONE MONTERREY, S.A. DE C.V.                        432\n",
      "INTERASFALTOS, S.A. DE C.V.                            362\n",
      "                                                      ... \n",
      "REGALADO GUITRON MARCO ANTONIO                           1\n",
      "RAMOS VAZQUEZ GABRIEL                                    1\n",
      "RAMIREZ QUINTANILLA MARCO ANTONIO                        1\n",
      "RAMIREZ GIL JUAN REY                                     1\n",
      "RODRIGUEZ RAMIREZ ABEL                                   1\n",
      "Name: count, Length: 1837, dtype: int64\n"
     ]
    }
   ],
   "source": [
    "#  Número de pagos por proveedor (suponiendo que 'BENEFICIARIO' es el proveedor)\n",
    "pagos_por_proveedor = analisis['BENEFICIARIO'].value_counts()\n",
    "print(\"\\nNúmero de pagos por proveedor:\")\n",
    "print(pagos_por_proveedor)"
   ]
  },
  {
   "cell_type": "code",
   "execution_count": 293,
   "id": "286c32c5-1584-4331-b7ec-dde79a4a5954",
   "metadata": {},
   "outputs": [
    {
     "data": {
      "image/png": "[encoded data removed]",
      "text/plain": [
       "<Figure size 1000x600 with 1 Axes>"
      ]
     },
     "metadata": {},
     "output_type": "display_data"
    }
   ],
   "source": [
    "# Análisis numérico de la variable IMPORTE mediante un histograma\n",
    "import matplotlib.pyplot as plt\n",
    "import seaborn as sns\n",
    "plt.figure(figsize=(10, 6))\n",
    "sns.histplot(analisis['IMPORTE'], bins=30, kde=True)\n",
    "plt.title('Histograma de la variable IMPORTE')\n",
    "plt.xlabel('IMPORTE')\n",
    "plt.ylabel('Frecuencia')\n",
    "plt.show()\n"
   ]
  },
  {
   "cell_type": "code",
   "execution_count": 295,
   "id": "a35d597f-a497-47cd-9328-9b66a7a89d76",
   "metadata": {},
   "outputs": [
    {
     "data": {
      "image/png": "[encoded data removed]",
      "text/plain": [
       "<Figure size 1000x600 with 1 Axes>"
      ]
     },
     "metadata": {},
     "output_type": "display_data"
    }
   ],
   "source": [
    "#Filtrar valores de IMPORTE por debajo del percentil 95 y generar histograma\n",
    "percentil_95 = analisis['IMPORTE'].quantile(0.95)\n",
    "importe_filtrado = analisis[analisis['IMPORTE'] <= percentil_95]\n",
    "\n",
    "plt.figure(figsize=(10, 6))\n",
    "sns.histplot(importe_filtrado['IMPORTE'], kde=True)\n",
    "plt.title('Histograma de IMPORTE (filtrado por percentil 95)')\n",
    "plt.xlabel('IMPORTE')\n",
    "plt.ylabel('Frecuencia')\n",
    "plt.show()"
   ]
  },
  {
   "cell_type": "code",
   "execution_count": 297,
   "id": "3a609dac-bdc1-4c4c-9fac-044e962612eb",
   "metadata": {},
   "outputs": [
    {
     "data": {
      "image/png": "[encoded data removed]",
      "text/plain": [
       "<Figure size 1000x600 with 1 Axes>"
      ]
     },
     "metadata": {},
     "output_type": "display_data"
    }
   ],
   "source": [
    "#Dividir el gráfico anterior en 30 intervalos.\n",
    "\n",
    "plt.figure(figsize=(10, 6))\n",
    "sns.histplot(importe_filtrado['IMPORTE'], bins=30, kde=True)\n",
    "plt.title('Histograma de IMPORTE (filtrado por percentil 95)')\n",
    "plt.xlabel('IMPORTE')\n",
    "plt.ylabel('Frecuencia')\n",
    "plt.show()"
   ]
  },
  {
   "cell_type": "code",
   "execution_count": 299,
   "id": "6c3e58a1-3b05-4025-a9cb-17ef3cab49cb",
   "metadata": {},
   "outputs": [
    {
     "data": {
      "image/png": "[encoded data removed]",
      "text/plain": [
       "<Figure size 1000x600 with 1 Axes>"
      ]
     },
     "metadata": {},
     "output_type": "display_data"
    }
   ],
   "source": [
    "# Análisis de la relación entre IMPORTE y TIPO\n",
    "plt.figure(figsize=(10, 6))\n",
    "sns.boxplot(x='TIPO', y='IMPORTE', data=analisis)\n",
    "plt.title('Boxplot de IMPORTE por TIPO')\n",
    "plt.xlabel('TIPO')\n",
    "plt.ylabel('IMPORTE')\n",
    "plt.xticks(rotation=45)\n",
    "plt.show()\n"
   ]
  },
  {
   "cell_type": "code",
   "execution_count": 301,
   "id": "f46dec94-1957-46c5-85cb-fcd847bd2c27",
   "metadata": {},
   "outputs": [
    {
     "data": {
      "image/png": "[encoded data removed]",
      "text/plain": [
       "<Figure size 1000x600 with 1 Axes>"
      ]
     },
     "metadata": {},
     "output_type": "display_data"
    }
   ],
   "source": [
    "# Análisis de la relación entre NUM OP y IMPORTE\n",
    "plt.figure(figsize=(10, 6))\n",
    "sns.scatterplot(x='NUM OP', y='IMPORTE', data=analisis)\n",
    "plt.title('Relación entre NUM OP e IMPORTE')\n",
    "plt.xlabel('NUM OP')\n",
    "plt.ylabel('IMPORTE')\n",
    "plt.show()"
   ]
  },
  {
   "cell_type": "code",
   "execution_count": 303,
   "id": "5bfea716-e5de-4eef-8930-7a6540c2818d",
   "metadata": {},
   "outputs": [
    {
     "name": "stderr",
     "output_type": "stream",
     "text": [
      "C:\\Users\\ASUS TUF\\AppData\\Local\\Temp\\ipykernel_9496\\428747923.py:6: FutureWarning: \n",
      "\n",
      "Passing `palette` without assigning `hue` is deprecated and will be removed in v0.14.0. Assign the `x` variable to `hue` and set `legend=False` for the same effect.\n",
      "\n",
      "  sns.barplot(x=conteo_sheet.index, y=conteo_sheet.values, palette='viridis')\n"
     ]
    },
    {
     "data": {
      "image/png": "[encoded data removed]",
      "text/plain": [
       "<Figure size 1000x600 with 1 Axes>"
      ]
     },
     "metadata": {},
     "output_type": "display_data"
    }
   ],
   "source": [
    "# Contar las ocurrencias de cada categoría en la variable SHEET\n",
    "conteo_sheet = analisis['SHEET'].value_counts()\n",
    "\n",
    "# Generar el gráfico de barras\n",
    "plt.figure(figsize=(10, 6))\n",
    "sns.barplot(x=conteo_sheet.index, y=conteo_sheet.values, palette='viridis')\n",
    "plt.title('Frecuencia de la variable SHEET')\n",
    "plt.xlabel('SHEET')\n",
    "plt.ylabel('Frecuencia')\n",
    "plt.xticks(rotation=45)  # Rotar etiquetas del eje x para mejor legibilidad\n",
    "plt.show()"
   ]
  },
  {
   "cell_type": "markdown",
   "id": "8417d900-7ed4-4916-976f-e61da06b1d19",
   "metadata": {},
   "source": [
    "### C: Análisis multidimensional de las variables"
   ]
  },
  {
   "cell_type": "code",
   "execution_count": 307,
   "id": "01158904-e909-4281-92f2-3f9577000e3d",
   "metadata": {},
   "outputs": [
    {
     "name": "stdout",
     "output_type": "stream",
     "text": [
      "                                           BENEFICIARIO       IMPORTE\n",
      "1165                MUNICIPIO DE LA CIUDAD DE MONTERREY  1.297441e+09\n",
      "873                         INTERASFALTOS, S.A. DE C.V.  2.823182e+08\n",
      "1396                       RED RECOLECTOR, S.A. DE C.V.  1.998285e+08\n",
      "120                           BANCO MULTIVA, SA. G.F.M.  1.702866e+08\n",
      "279              CFE SUMINISTRADOR DE SERVICIOS BASICOS  1.521034e+08\n",
      "821                     HISA FARMACEUTICA, S.A. DE C.V.  1.330834e+08\n",
      "1631                 SERVICIOS BROXEL, S.A.P.I. DE C.V.  1.299091e+08\n",
      "1334          PROYECTOS Y DESARROLLOS SALVE, SA. DE CV.  1.231644e+08\n",
      "1640                       SI VALE MEXICO, S.A. DE C.V.  1.204407e+08\n",
      "1764  VALUE ARRENDADORA,S.A.DE C.V. SOFOM ER VALUE G...  1.161017e+08\n"
     ]
    }
   ],
   "source": [
    "#Identificar los proveedores o beneficiarios con mayor carga económica\n",
    "gasto_por_beneficiario = analisis.groupby('BENEFICIARIO')['IMPORTE'].sum().reset_index()\n",
    "gasto_por_beneficiario = gasto_por_beneficiario.sort_values(by='IMPORTE', ascending=False)\n",
    "print(gasto_por_beneficiario.head(10))"
   ]
  },
  {
   "cell_type": "code",
   "execution_count": 309,
   "id": "8e8d66ef-9336-4055-9961-e138ab557f9c",
   "metadata": {},
   "outputs": [
    {
     "name": "stdout",
     "output_type": "stream",
     "text": [
      "                SHEET        IMPORTE\n",
      "2       GASTOS VARIOS  616892.439846\n",
      "1         CONTRATISTA  404798.272627\n",
      "6  SERV PROFESIONALES  371348.080974\n",
      "3        OBRA PUBLICA  365008.631753\n",
      "0        COMUNICACION  122296.977695\n",
      "5     SERV PERSONALES   50650.343123\n",
      "4      REPRESENTACION   12262.122258\n"
     ]
    }
   ],
   "source": [
    "#Determinar el gasto promedio por cada categoría o por hoja de Excel\n",
    "gasto_promedio_por_categoria = analisis.groupby('SHEET')['IMPORTE'].mean().reset_index()\n",
    "gasto_promedio_por_categoria = gasto_promedio_por_categoria.sort_values(by='IMPORTE', ascending=False)\n",
    "print(gasto_promedio_por_categoria)\n"
   ]
  },
  {
   "cell_type": "code",
   "execution_count": 311,
   "id": "8b709e7f-84bf-41e7-be26-30cca0269099",
   "metadata": {},
   "outputs": [
    {
     "data": {
      "image/png": "[encoded data removed]",
      "text/plain": [
       "<Figure size 1200x600 with 1 Axes>"
      ]
     },
     "metadata": {},
     "output_type": "display_data"
    }
   ],
   "source": [
    "##Determinar los gastos por fecha\n",
    "# Cconvertir que  FECHA esté en formato de fecha\n",
    "analisis['FECHA'] = pd.to_datetime(analisis['FECHA'])\n",
    "# Sumar el gasto por fecha\n",
    "gasto_por_fecha = analisis.groupby('FECHA')['IMPORTE'].sum().reset_index()\n",
    "plt.figure(figsize=(12, 6))\n",
    "sns.lineplot(data=gasto_por_fecha, x='FECHA', y='IMPORTE')\n",
    "plt.title('Gastos por Fecha')\n",
    "plt.xlabel('Fecha')\n",
    "plt.ylabel('Gasto Total')\n",
    "plt.xticks(rotation=45)  \n",
    "plt.show()\n"
   ]
  },
  {
   "cell_type": "code",
   "execution_count": 313,
   "id": "29c3722f-740b-4bc0-8c24-ce7091d3f8a9",
   "metadata": {},
   "outputs": [
    {
     "name": "stderr",
     "output_type": "stream",
     "text": [
      "C:\\Users\\ASUS TUF\\AppData\\Local\\Temp\\ipykernel_9496\\808520295.py:4: FutureWarning: \n",
      "\n",
      "Passing `palette` without assigning `hue` is deprecated and will be removed in v0.14.0. Assign the `x` variable to `hue` and set `legend=False` for the same effect.\n",
      "\n",
      "  sns.barplot(data=gasto_por_tipo, x='TIPO', y='IMPORTE', palette='viridis')\n"
     ]
    },
    {
     "data": {
      "image/png": "[encoded data removed]",
      "text/plain": [
       "<Figure size 1000x600 with 1 Axes>"
      ]
     },
     "metadata": {},
     "output_type": "display_data"
    }
   ],
   "source": [
    "##análisis multidimensionales adicionales.\n",
    "gasto_por_tipo = analisis.groupby('TIPO')['IMPORTE'].sum().reset_index()\n",
    "plt.figure(figsize=(10, 6))\n",
    "sns.barplot(data=gasto_por_tipo, x='TIPO', y='IMPORTE', palette='viridis')\n",
    "plt.title('Gasto Total por Tipo de Operación')\n",
    "plt.xlabel('Tipo de Operación')\n",
    "plt.ylabel('Gasto Total')\n",
    "plt.xticks(rotation=45)  # Rotar etiquetas del eje x para mejor legibilidad\n",
    "plt.show()\n"
   ]
  },
  {
   "cell_type": "code",
   "execution_count": 315,
   "id": "9b33dd31-19be-42b7-9b26-90258841ea73",
   "metadata": {},
   "outputs": [
    {
     "name": "stderr",
     "output_type": "stream",
     "text": [
      "C:\\Users\\ASUS TUF\\AppData\\Local\\Temp\\ipykernel_9496\\2728807711.py:3: FutureWarning: \n",
      "\n",
      "Passing `palette` without assigning `hue` is deprecated and will be removed in v0.14.0. Assign the `x` variable to `hue` and set `legend=False` for the same effect.\n",
      "\n",
      "  sns.boxplot(data=analisis, x='SHEET', y='IMPORTE', palette='viridis')\n"
     ]
    },
    {
     "data": {
      "image/png": "[encoded data removed]",
      "text/plain": [
       "<Figure size 1200x600 with 1 Axes>"
      ]
     },
     "metadata": {},
     "output_type": "display_data"
    }
   ],
   "source": [
    "# Realizar dos análisis multidimensionales adicionales.\n",
    "plt.figure(figsize=(12, 6))\n",
    "sns.boxplot(data=analisis, x='SHEET', y='IMPORTE', palette='viridis')\n",
    "plt.title('Comparación de Gastos entre Diferentes Hojas')\n",
    "plt.xlabel('Hojas')\n",
    "plt.ylabel('IMPORTE')\n",
    "plt.xticks(rotation=45)  # Rotar etiquetas del eje x para mejor legibilidad\n",
    "plt.show()\n"
   ]
  },
  {
   "cell_type": "markdown",
   "id": "dd64f659-9c58-4bcc-89b5-e9faff6cd7e0",
   "metadata": {},
   "source": [
    "### D: Analisis de Texto "
   ]
  },
  {
   "cell_type": "code",
   "execution_count": 317,
   "id": "8ae21bc0-b0e1-439c-a70c-6129329c670a",
   "metadata": {},
   "outputs": [
    {
     "name": "stdout",
     "output_type": "stream",
     "text": [
      "['de', 'la', 'que', 'el', 'en', 'y', 'a', 'los', 'del', 'se', 'las', 'por', 'un', 'para', 'con', 'no', 'una', 'su', 'al', 'lo', 'como', 'más', 'pero', 'sus', 'le', 'ya', 'o', 'este', 'sí', 'porque', 'esta', 'entre', 'cuando', 'muy', 'sin', 'sobre', 'también', 'me', 'hasta', 'hay', 'donde', 'quien', 'desde', 'todo', 'nos', 'durante', 'todos', 'uno', 'les', 'ni', 'contra', 'otros', 'ese', 'eso', 'ante', 'ellos', 'e', 'esto', 'mí', 'antes', 'algunos', 'qué', 'unos', 'yo', 'otro', 'otras', 'otra', 'él', 'tanto', 'esa', 'estos', 'mucho', 'quienes', 'nada', 'muchos', 'cual', 'poco', 'ella', 'estar', 'estas', 'algunas', 'algo', 'nosotros', 'mi', 'mis', 'tú', 'te', 'ti', 'tu', 'tus', 'ellas', 'nosotras', 'vosotros', 'vosotras', 'os', 'mío', 'mía', 'míos', 'mías', 'tuyo', 'tuya', 'tuyos', 'tuyas', 'suyo', 'suya', 'suyos', 'suyas', 'nuestro', 'nuestra', 'nuestros', 'nuestras', 'vuestro', 'vuestra', 'vuestros', 'vuestras', 'esos', 'esas', 'estoy', 'estás', 'está', 'estamos', 'estáis', 'están', 'esté', 'estés', 'estemos', 'estéis', 'estén', 'estaré', 'estarás', 'estará', 'estaremos', 'estaréis', 'estarán', 'estaría', 'estarías', 'estaríamos', 'estaríais', 'estarían', 'estaba', 'estabas', 'estábamos', 'estabais', 'estaban', 'estuve', 'estuviste', 'estuvo', 'estuvimos', 'estuvisteis', 'estuvieron', 'estuviera', 'estuvieras', 'estuviéramos', 'estuvierais', 'estuvieran', 'estuviese', 'estuvieses', 'estuviésemos', 'estuvieseis', 'estuviesen', 'estando', 'estado', 'estada', 'estados', 'estadas', 'estad', 'he', 'has', 'ha', 'hemos', 'habéis', 'han', 'haya', 'hayas', 'hayamos', 'hayáis', 'hayan', 'habré', 'habrás', 'habrá', 'habremos', 'habréis', 'habrán', 'habría', 'habrías', 'habríamos', 'habríais', 'habrían', 'había', 'habías', 'habíamos', 'habíais', 'habían', 'hube', 'hubiste', 'hubo', 'hubimos', 'hubisteis', 'hubieron', 'hubiera', 'hubieras', 'hubiéramos', 'hubierais', 'hubieran', 'hubiese', 'hubieses', 'hubiésemos', 'hubieseis', 'hubiesen', 'habiendo', 'habido', 'habida', 'habidos', 'habidas', 'soy', 'eres', 'es', 'somos', 'sois', 'son', 'sea', 'seas', 'seamos', 'seáis', 'sean', 'seré', 'serás', 'será', 'seremos', 'seréis', 'serán', 'sería', 'serías', 'seríamos', 'seríais', 'serían', 'era', 'eras', 'éramos', 'erais', 'eran', 'fui', 'fuiste', 'fue', 'fuimos', 'fuisteis', 'fueron', 'fuera', 'fueras', 'fuéramos', 'fuerais', 'fueran', 'fuese', 'fueses', 'fuésemos', 'fueseis', 'fuesen', 'sintiendo', 'sentido', 'sentida', 'sentidos', 'sentidas', 'siente', 'sentid', 'tengo', 'tienes', 'tiene', 'tenemos', 'tenéis', 'tienen', 'tenga', 'tengas', 'tengamos', 'tengáis', 'tengan', 'tendré', 'tendrás', 'tendrá', 'tendremos', 'tendréis', 'tendrán', 'tendría', 'tendrías', 'tendríamos', 'tendríais', 'tendrían', 'tenía', 'tenías', 'teníamos', 'teníais', 'tenían', 'tuve', 'tuviste', 'tuvo', 'tuvimos', 'tuvisteis', 'tuvieron', 'tuviera', 'tuvieras', 'tuviéramos', 'tuvierais', 'tuvieran', 'tuviese', 'tuvieses', 'tuviésemos', 'tuvieseis', 'tuviesen', 'teniendo', 'tenido', 'tenida', 'tenidos', 'tenidas', 'tened']\n"
     ]
    },
    {
     "name": "stderr",
     "output_type": "stream",
     "text": [
      "[nltk_data] Downloading package stopwords to C:\\Users\\ASUS\n",
      "[nltk_data]     TUF\\AppData\\Roaming\\nltk_data...\n",
      "[nltk_data]   Package stopwords is already up-to-date!\n"
     ]
    }
   ],
   "source": [
    "## Análisis de texto\n",
    "import nltk\n",
    "from nltk.corpus import stopwords\n",
    "from wordcloud import WordCloud \n",
    "import matplotlib.pyplot as plt \n",
    "# Descargamos los stopwords si no los tienes descargados aún\n",
    "nltk.download('stopwords')\n",
    "# Imprimimos los stopwords en español\n",
    "print(stopwords.words('spanish'))\n"
   ]
  },
  {
   "cell_type": "code",
   "execution_count": 319,
   "id": "a015c97d-b7be-47c4-b0a0-4e9fbe0eb450",
   "metadata": {},
   "outputs": [
    {
     "data": {
      "image/png": "[encoded data removed]",
      "text/plain": [
       "<Figure size 1000x500 with 1 Axes>"
      ]
     },
     "metadata": {},
     "output_type": "display_data"
    }
   ],
   "source": [
    "# Concatenar el texto de la columna 'BENEFICIARIO'\n",
    "texto_beneficiario = \"\"\n",
    "for row in analisis[\"BENEFICIARIO\"]:\n",
    "    texto_beneficiario += \" \" + row \n",
    "\n",
    "# Filtrar las palabras vacías y palabras específicas\n",
    "texto_beneficiario = \"\".join([x for x in texto_beneficiario.strip().lower().split(\" \") \n",
    "                              if x not in stopwords_list and len(x) > 4])\n",
    "\n",
    "# Crear el objeto WordCloud para BENEFICIARIO\n",
    "wc_beneficiario = WordCloud(background_color=\"white\").generate(texto_beneficiario)\n",
    "\n",
    "# Mostrar la nube de palabras para BENEFICIARIO\n",
    "plt.figure(figsize=(10, 5))\n",
    "plt.imshow(wc_beneficiario, interpolation='bilinear')\n",
    "plt.axis('off')  # Oculta los ejes\n",
    "plt.title('Nube de Palabras para BENEFICIARIO')\n",
    "plt.show()\n"
   ]
  },
  {
   "cell_type": "markdown",
   "id": "5ca96254-b8ff-42e5-90c7-2a17477554d2",
   "metadata": {},
   "source": [
    "## 4: Enriquecimiento de la dataset"
   ]
  },
  {
   "cell_type": "markdown",
   "id": "5992b92a-a4c1-4da6-b476-3fe1ca76ee5a",
   "metadata": {},
   "source": [
    "### A: Expansión de la fecha"
   ]
  },
  {
   "cell_type": "code",
   "execution_count": 323,
   "id": "2258c3fb-9545-462f-9c9f-35832d78d126",
   "metadata": {},
   "outputs": [
    {
     "data": {
      "text/html": [
       "<div>\n",
       "<style scoped>\n",
       "    .dataframe tbody tr th:only-of-type {\n",
       "        vertical-align: middle;\n",
       "    }\n",
       "\n",
       "    .dataframe tbody tr th {\n",
       "        vertical-align: top;\n",
       "    }\n",
       "\n",
       "    .dataframe thead th {\n",
       "        text-align: right;\n",
       "    }\n",
       "</style>\n",
       "<table border=\"1\" class=\"dataframe\">\n",
       "  <thead>\n",
       "    <tr style=\"text-align: right;\">\n",
       "      <th></th>\n",
       "      <th>NUM BEN</th>\n",
       "      <th>BENEFICIARIO</th>\n",
       "      <th>RFC</th>\n",
       "      <th>FACT-NUE-FO</th>\n",
       "      <th>CONTRATO</th>\n",
       "      <th>CONCEPTO</th>\n",
       "      <th>TIPO</th>\n",
       "      <th># OP</th>\n",
       "      <th>FECHA</th>\n",
       "      <th>IMPORTE</th>\n",
       "      <th>SHEET</th>\n",
       "      <th>MES</th>\n",
       "      <th>FACT</th>\n",
       "      <th>NUM OP</th>\n",
       "      <th>FDO-#OP</th>\n",
       "    </tr>\n",
       "  </thead>\n",
       "  <tbody>\n",
       "    <tr>\n",
       "      <th>0</th>\n",
       "      <td>206273</td>\n",
       "      <td>TESORERIA DE LA FEDERACION</td>\n",
       "      <td>SAT970701NN3</td>\n",
       "      <td>122020-153002-1</td>\n",
       "      <td>NO APLICA</td>\n",
       "      <td>REINTEGRO DE INTERESES DEL MES DE DICIEMBRE FO...</td>\n",
       "      <td>TR</td>\n",
       "      <td>297000067.0</td>\n",
       "      <td>2021-01-29</td>\n",
       "      <td>18309.00</td>\n",
       "      <td>CONTRATISTA</td>\n",
       "      <td>ENERO</td>\n",
       "      <td>CC25551-158008-278</td>\n",
       "      <td>1020984.0</td>\n",
       "      <td>319000731.0</td>\n",
       "    </tr>\n",
       "    <tr>\n",
       "      <th>1</th>\n",
       "      <td>206273</td>\n",
       "      <td>TESORERIA DE LA FEDERACION</td>\n",
       "      <td>SAT970701NN3</td>\n",
       "      <td>DASSPVM/5377/2021-158002-1</td>\n",
       "      <td>NO APLICA</td>\n",
       "      <td>REINTEGRO DE RECURSOS NO COMPROMETIDOS NI DEVE...</td>\n",
       "      <td>TR</td>\n",
       "      <td>303000013.0</td>\n",
       "      <td>2021-01-29</td>\n",
       "      <td>1190.70</td>\n",
       "      <td>CONTRATISTA</td>\n",
       "      <td>ENERO</td>\n",
       "      <td>CC25550-158008-279</td>\n",
       "      <td>1020984.0</td>\n",
       "      <td>319000399.0</td>\n",
       "    </tr>\n",
       "    <tr>\n",
       "      <th>2</th>\n",
       "      <td>206273</td>\n",
       "      <td>TESORERIA DE LA FEDERACION</td>\n",
       "      <td>SAT970701NN3</td>\n",
       "      <td>DASSPVM/5378/2021-158002-2</td>\n",
       "      <td>NO APLICA</td>\n",
       "      <td>REINTEGRO DE RENDIMIENTOS FINANCIEROS NO UTILI...</td>\n",
       "      <td>TR</td>\n",
       "      <td>303000012.0</td>\n",
       "      <td>2021-01-29</td>\n",
       "      <td>28356.00</td>\n",
       "      <td>CONTRATISTA</td>\n",
       "      <td>ENERO</td>\n",
       "      <td>CC25549-158008-287</td>\n",
       "      <td>1021054.0</td>\n",
       "      <td>319000414.0</td>\n",
       "    </tr>\n",
       "    <tr>\n",
       "      <th>3</th>\n",
       "      <td>206273</td>\n",
       "      <td>TESORERIA DE LA FEDERACION</td>\n",
       "      <td>SAT970701NN3</td>\n",
       "      <td>NO COMP-R33-2020-155002-1</td>\n",
       "      <td>NO APLICA</td>\n",
       "      <td>REINTEGRO DE IMPORTE NO COMPROMETIDO AL 31 DE ...</td>\n",
       "      <td>TR</td>\n",
       "      <td>298000071.0</td>\n",
       "      <td>2021-01-29</td>\n",
       "      <td>4294281.76</td>\n",
       "      <td>CONTRATISTA</td>\n",
       "      <td>ENERO</td>\n",
       "      <td>CC25548-158008-284</td>\n",
       "      <td>1020999.0</td>\n",
       "      <td>319000453.0</td>\n",
       "    </tr>\n",
       "    <tr>\n",
       "      <th>4</th>\n",
       "      <td>206273</td>\n",
       "      <td>TESORERIA DE LA FEDERACION</td>\n",
       "      <td>SAT970701NN3</td>\n",
       "      <td>PROD-FIN-PROAGUA-2020-155002-3</td>\n",
       "      <td>NO APLICA</td>\n",
       "      <td>REINTEGRO DE PRODUCTOS FINANCIEROS GENERADOS D...</td>\n",
       "      <td>TR</td>\n",
       "      <td>310000026.0</td>\n",
       "      <td>2021-01-29</td>\n",
       "      <td>59267.00</td>\n",
       "      <td>CONTRATISTA</td>\n",
       "      <td>ENERO</td>\n",
       "      <td>CC25547-158008-285</td>\n",
       "      <td>314000022.0</td>\n",
       "      <td>1106699.0</td>\n",
       "    </tr>\n",
       "    <tr>\n",
       "      <th>...</th>\n",
       "      <td>...</td>\n",
       "      <td>...</td>\n",
       "      <td>...</td>\n",
       "      <td>...</td>\n",
       "      <td>...</td>\n",
       "      <td>...</td>\n",
       "      <td>...</td>\n",
       "      <td>...</td>\n",
       "      <td>...</td>\n",
       "      <td>...</td>\n",
       "      <td>...</td>\n",
       "      <td>...</td>\n",
       "      <td>...</td>\n",
       "      <td>...</td>\n",
       "      <td>...</td>\n",
       "    </tr>\n",
       "    <tr>\n",
       "      <th>12413</th>\n",
       "      <td>116161</td>\n",
       "      <td>PUBLICACIONES METROPOLITANAS, S.A. DE C.V.</td>\n",
       "      <td>PME051206NG5</td>\n",
       "      <td>M 2309-158003-3471</td>\n",
       "      <td>OEP-302-2021</td>\n",
       "      <td>DESPLEGADO (1/2 PLANA HORIZONTAL) EN EL PERIOD...</td>\n",
       "      <td>TR</td>\n",
       "      <td>317000091.0</td>\n",
       "      <td>2021-12-03</td>\n",
       "      <td>215579.04</td>\n",
       "      <td>COMUNICACION</td>\n",
       "      <td>DICIEMBRE</td>\n",
       "      <td>F-196-155002-475</td>\n",
       "      <td>1020978.0</td>\n",
       "      <td>1021431.0</td>\n",
       "    </tr>\n",
       "    <tr>\n",
       "      <th>12414</th>\n",
       "      <td>116161</td>\n",
       "      <td>PUBLICACIONES METROPOLITANAS, S.A. DE C.V.</td>\n",
       "      <td>PME051206NG5</td>\n",
       "      <td>O 3410-158003-4447</td>\n",
       "      <td>OEP-302-2021</td>\n",
       "      <td>BOX BANNER EN LA PAGINA WWW.PUBLIMETRO.COM.MX ...</td>\n",
       "      <td>TR</td>\n",
       "      <td>1019982.0</td>\n",
       "      <td>2021-12-03</td>\n",
       "      <td>206231.76</td>\n",
       "      <td>COMUNICACION</td>\n",
       "      <td>DICIEMBRE</td>\n",
       "      <td>40346-158004-1896</td>\n",
       "      <td>1021143.0</td>\n",
       "      <td>1021431.0</td>\n",
       "    </tr>\n",
       "    <tr>\n",
       "      <th>12415</th>\n",
       "      <td>116271</td>\n",
       "      <td>QUINTERO PEREZ SOCORRO GUADALUPE</td>\n",
       "      <td>QUPS670627MR1</td>\n",
       "      <td>1268-158003-4358</td>\n",
       "      <td>SADA/CC/261.3/2020</td>\n",
       "      <td>PUBLICIDAD EN LA REVISTA PERSONAJES (PLANA) CO...</td>\n",
       "      <td>TR</td>\n",
       "      <td>1019973.0</td>\n",
       "      <td>2021-12-03</td>\n",
       "      <td>15000.00</td>\n",
       "      <td>COMUNICACION</td>\n",
       "      <td>DICIEMBRE</td>\n",
       "      <td>KTM1827-158008-2860</td>\n",
       "      <td>319000610.0</td>\n",
       "      <td>1021435.0</td>\n",
       "    </tr>\n",
       "    <tr>\n",
       "      <th>12416</th>\n",
       "      <td>116271</td>\n",
       "      <td>QUINTERO PEREZ SOCORRO GUADALUPE</td>\n",
       "      <td>QUPS670627MR1</td>\n",
       "      <td>1269-158003-4359</td>\n",
       "      <td>SADA/CC/261.3/2020</td>\n",
       "      <td>PUBLICIDAD EN LA REVISTA PERSONAJES (PLANA) CO...</td>\n",
       "      <td>TR</td>\n",
       "      <td>1019973.0</td>\n",
       "      <td>2021-12-03</td>\n",
       "      <td>15000.00</td>\n",
       "      <td>COMUNICACION</td>\n",
       "      <td>DICIEMBRE</td>\n",
       "      <td>KTM1827-158008-2860</td>\n",
       "      <td>319000610.0</td>\n",
       "      <td>1021435.0</td>\n",
       "    </tr>\n",
       "    <tr>\n",
       "      <th>12417</th>\n",
       "      <td>116439</td>\n",
       "      <td>MULTIMEDIOS, S.A. DE C.V.</td>\n",
       "      <td>MUL0711147NA</td>\n",
       "      <td>MYA 93692-158003-4724</td>\n",
       "      <td>OEP-293-2021</td>\n",
       "      <td>TRANSMISION DE SPOT DE 30SEG, DEL DIA 08 AL 28...</td>\n",
       "      <td>TR</td>\n",
       "      <td>1019590.0</td>\n",
       "      <td>2021-12-03</td>\n",
       "      <td>434137.66</td>\n",
       "      <td>COMUNICACION</td>\n",
       "      <td>DICIEMBRE</td>\n",
       "      <td>OFR2229-158003-4311</td>\n",
       "      <td>319000577.0</td>\n",
       "      <td>1021441.0</td>\n",
       "    </tr>\n",
       "  </tbody>\n",
       "</table>\n",
       "<p>12418 rows × 15 columns</p>\n",
       "</div>"
      ],
      "text/plain": [
       "       NUM BEN                                BENEFICIARIO            RFC  \\\n",
       "0       206273                  TESORERIA DE LA FEDERACION   SAT970701NN3   \n",
       "1       206273                  TESORERIA DE LA FEDERACION   SAT970701NN3   \n",
       "2       206273                  TESORERIA DE LA FEDERACION   SAT970701NN3   \n",
       "3       206273                  TESORERIA DE LA FEDERACION   SAT970701NN3   \n",
       "4       206273                  TESORERIA DE LA FEDERACION   SAT970701NN3   \n",
       "...        ...                                         ...            ...   \n",
       "12413   116161  PUBLICACIONES METROPOLITANAS, S.A. DE C.V.   PME051206NG5   \n",
       "12414   116161  PUBLICACIONES METROPOLITANAS, S.A. DE C.V.   PME051206NG5   \n",
       "12415   116271            QUINTERO PEREZ SOCORRO GUADALUPE  QUPS670627MR1   \n",
       "12416   116271            QUINTERO PEREZ SOCORRO GUADALUPE  QUPS670627MR1   \n",
       "12417   116439                   MULTIMEDIOS, S.A. DE C.V.   MUL0711147NA   \n",
       "\n",
       "                          FACT-NUE-FO            CONTRATO  \\\n",
       "0                     122020-153002-1           NO APLICA   \n",
       "1          DASSPVM/5377/2021-158002-1           NO APLICA   \n",
       "2          DASSPVM/5378/2021-158002-2           NO APLICA   \n",
       "3           NO COMP-R33-2020-155002-1           NO APLICA   \n",
       "4      PROD-FIN-PROAGUA-2020-155002-3           NO APLICA   \n",
       "...                               ...                 ...   \n",
       "12413              M 2309-158003-3471        OEP-302-2021   \n",
       "12414              O 3410-158003-4447        OEP-302-2021   \n",
       "12415                1268-158003-4358  SADA/CC/261.3/2020   \n",
       "12416                1269-158003-4359  SADA/CC/261.3/2020   \n",
       "12417           MYA 93692-158003-4724        OEP-293-2021   \n",
       "\n",
       "                                                CONCEPTO TIPO         # OP  \\\n",
       "0      REINTEGRO DE INTERESES DEL MES DE DICIEMBRE FO...   TR  297000067.0   \n",
       "1      REINTEGRO DE RECURSOS NO COMPROMETIDOS NI DEVE...   TR  303000013.0   \n",
       "2      REINTEGRO DE RENDIMIENTOS FINANCIEROS NO UTILI...   TR  303000012.0   \n",
       "3      REINTEGRO DE IMPORTE NO COMPROMETIDO AL 31 DE ...   TR  298000071.0   \n",
       "4      REINTEGRO DE PRODUCTOS FINANCIEROS GENERADOS D...   TR  310000026.0   \n",
       "...                                                  ...  ...          ...   \n",
       "12413  DESPLEGADO (1/2 PLANA HORIZONTAL) EN EL PERIOD...   TR  317000091.0   \n",
       "12414  BOX BANNER EN LA PAGINA WWW.PUBLIMETRO.COM.MX ...   TR    1019982.0   \n",
       "12415  PUBLICIDAD EN LA REVISTA PERSONAJES (PLANA) CO...   TR    1019973.0   \n",
       "12416  PUBLICIDAD EN LA REVISTA PERSONAJES (PLANA) CO...   TR    1019973.0   \n",
       "12417  TRANSMISION DE SPOT DE 30SEG, DEL DIA 08 AL 28...   TR    1019590.0   \n",
       "\n",
       "           FECHA     IMPORTE         SHEET        MES                 FACT  \\\n",
       "0     2021-01-29    18309.00   CONTRATISTA      ENERO   CC25551-158008-278   \n",
       "1     2021-01-29     1190.70   CONTRATISTA      ENERO   CC25550-158008-279   \n",
       "2     2021-01-29    28356.00   CONTRATISTA      ENERO   CC25549-158008-287   \n",
       "3     2021-01-29  4294281.76   CONTRATISTA      ENERO   CC25548-158008-284   \n",
       "4     2021-01-29    59267.00   CONTRATISTA      ENERO   CC25547-158008-285   \n",
       "...          ...         ...           ...        ...                  ...   \n",
       "12413 2021-12-03   215579.04  COMUNICACION  DICIEMBRE     F-196-155002-475   \n",
       "12414 2021-12-03   206231.76  COMUNICACION  DICIEMBRE    40346-158004-1896   \n",
       "12415 2021-12-03    15000.00  COMUNICACION  DICIEMBRE  KTM1827-158008-2860   \n",
       "12416 2021-12-03    15000.00  COMUNICACION  DICIEMBRE  KTM1827-158008-2860   \n",
       "12417 2021-12-03   434137.66  COMUNICACION  DICIEMBRE  OFR2229-158003-4311   \n",
       "\n",
       "            NUM OP      FDO-#OP  \n",
       "0        1020984.0  319000731.0  \n",
       "1        1020984.0  319000399.0  \n",
       "2        1021054.0  319000414.0  \n",
       "3        1020999.0  319000453.0  \n",
       "4      314000022.0    1106699.0  \n",
       "...            ...          ...  \n",
       "12413    1020978.0    1021431.0  \n",
       "12414    1021143.0    1021431.0  \n",
       "12415  319000610.0    1021435.0  \n",
       "12416  319000610.0    1021435.0  \n",
       "12417  319000577.0    1021441.0  \n",
       "\n",
       "[12418 rows x 15 columns]"
      ]
     },
     "execution_count": 323,
     "metadata": {},
     "output_type": "execute_result"
    }
   ],
   "source": [
    "analisis.dtypes\n",
    "#### convertir en fechas horas \n",
    "analisis[\"FECHA\"]=pd.to_datetime(analisis[\"FECHA\"])\n",
    "analisis"
   ]
  },
  {
   "cell_type": "code",
   "execution_count": 325,
   "id": "bf60884f-709a-4dab-adb6-d0cce572aa21",
   "metadata": {},
   "outputs": [],
   "source": [
    "analisis[\"DIA\"]=analisis[\"FECHA\"].apply(lambda x: x.day)\n",
    "analisis[\"MES\"]=analisis[\"FECHA\"].apply(lambda x: x.month)\n",
    "analisis[\"AÑO\"]=analisis[\"FECHA\"].apply(lambda x: x.year)"
   ]
  },
  {
   "cell_type": "code",
   "execution_count": 327,
   "id": "0fc652a5-3165-4c86-8862-24557b178a2e",
   "metadata": {},
   "outputs": [
    {
     "data": {
      "text/plain": [
       "Index(['NUM BEN', 'BENEFICIARIO', 'RFC', 'FACT-NUE-FO', 'CONTRATO', 'CONCEPTO',\n",
       "       'TIPO', '# OP', 'FECHA', 'IMPORTE', 'SHEET', 'MES', 'FACT', 'NUM OP',\n",
       "       'FDO-#OP', 'DIA', 'AÑO'],\n",
       "      dtype='object')"
      ]
     },
     "execution_count": 327,
     "metadata": {},
     "output_type": "execute_result"
    }
   ],
   "source": [
    "analisis.columns"
   ]
  },
  {
   "cell_type": "markdown",
   "id": "6a24d9ef-eba5-4aca-b2ac-439575b32d4e",
   "metadata": {},
   "source": [
    "### B: Proyección de una variable"
   ]
  },
  {
   "cell_type": "code",
   "execution_count": 473,
   "id": "acf8275e-34b6-4492-98de-85f39ca0cbce",
   "metadata": {},
   "outputs": [
    {
     "name": "stdout",
     "output_type": "stream",
     "text": [
      "   NUM BEN                BENEFICIARIO           RFC  \\\n",
      "0   206273  TESORERIA DE LA FEDERACION  SAT970701NN3   \n",
      "1   206273  TESORERIA DE LA FEDERACION  SAT970701NN3   \n",
      "2   206273  TESORERIA DE LA FEDERACION  SAT970701NN3   \n",
      "3   206273  TESORERIA DE LA FEDERACION  SAT970701NN3   \n",
      "4   206273  TESORERIA DE LA FEDERACION  SAT970701NN3   \n",
      "\n",
      "                      FACT-NUE-FO   CONTRATO  \\\n",
      "0                 122020-153002-1  NO APLICA   \n",
      "1      DASSPVM/5377/2021-158002-1  NO APLICA   \n",
      "2      DASSPVM/5378/2021-158002-2  NO APLICA   \n",
      "3       NO COMP-R33-2020-155002-1  NO APLICA   \n",
      "4  PROD-FIN-PROAGUA-2020-155002-3  NO APLICA   \n",
      "\n",
      "                                            CONCEPTO TIPO         # OP  \\\n",
      "0  REINTEGRO DE INTERESES DEL MES DE DICIEMBRE FO...   TR  297000067.0   \n",
      "1  REINTEGRO DE RECURSOS NO COMPROMETIDOS NI DEVE...   TR  303000013.0   \n",
      "2  REINTEGRO DE RENDIMIENTOS FINANCIEROS NO UTILI...   TR  303000012.0   \n",
      "3  REINTEGRO DE IMPORTE NO COMPROMETIDO AL 31 DE ...   TR  298000071.0   \n",
      "4  REINTEGRO DE PRODUCTOS FINANCIEROS GENERADOS D...   TR  310000026.0   \n",
      "\n",
      "       FECHA     IMPORTE        SHEET  MES                FACT       NUM OP  \\\n",
      "0 2021-01-29    18309.00  CONTRATISTA    1  CC25551-158008-278    1020984.0   \n",
      "1 2021-01-29     1190.70  CONTRATISTA    1  CC25550-158008-279    1020984.0   \n",
      "2 2021-01-29    28356.00  CONTRATISTA    1  CC25549-158008-287    1021054.0   \n",
      "3 2021-01-29  4294281.76  CONTRATISTA    1  CC25548-158008-284    1020999.0   \n",
      "4 2021-01-29    59267.00  CONTRATISTA    1  CC25547-158008-285  314000022.0   \n",
      "\n",
      "       FDO-#OP  DIA   AÑO  BENEFICIARIO_SALES  IMPORTE_GASTO_PROMEDIO  \n",
      "0  319000731.0   29  2021                  26           404798.272627  \n",
      "1  319000399.0   29  2021                  26           404798.272627  \n",
      "2  319000414.0   29  2021                  26           404798.272627  \n",
      "3  319000453.0   29  2021                  26           404798.272627  \n",
      "4    1106699.0   29  2021                  26           404798.272627  \n"
     ]
    }
   ],
   "source": [
    "\n",
    "# Limpiar nombres de columnas\n",
    "analisis.columns = analisis.columns.str.strip()  # Eliminar espacios en blanco\n",
    "\n",
    "# Calcular el gasto promedio por hoja\n",
    "sheet_mean_compras = analisis.groupby(\"SHEET\")[\"IMPORTE\"].mean()\n",
    "\n",
    "# Convertir el gasto promedio por hoja en un diccionario\n",
    "sheet_mean_compras_dict = sheet_mean_compras.to_dict()\n",
    "\n",
    "# Agregar la columna de gasto promedio al DataFrame original\n",
    "analisis[\"IMPORTE_GASTO_PROMEDIO\"] = analisis[\"SHEET\"].apply(lambda x: sheet_mean_compras_dict.get(x, 0))\n",
    "\n",
    "# Mostrar las primeras filas del DataFrame actualizado\n",
    "print(analisis.head(5))\n",
    " "
   ]
  },
  {
   "cell_type": "code",
   "execution_count": 218,
   "id": "ea3d1db4-f120-4046-953a-39cbb6c0b2d6",
   "metadata": {},
   "outputs": [
    {
     "name": "stdout",
     "output_type": "stream",
     "text": [
      "   BENEFICIARIO_GASTO_TOTAL  IMPORTE_GASTO_PROMEDIO\n",
      "0               13020010.53           404798.272627\n",
      "1               13020010.53           404798.272627\n",
      "2               13020010.53           404798.272627\n",
      "3               13020010.53           404798.272627\n",
      "4               13020010.53           404798.272627\n"
     ]
    }
   ],
   "source": [
    "\n"
   ]
  },
  {
   "cell_type": "code",
   "execution_count": 339,
   "id": "0f3e6e26-c207-4db9-b1a3-f2d141da9c9d",
   "metadata": {},
   "outputs": [],
   "source": [
    "analisis.to_csv(\"C:/Users/ASUS TUF/Documents/Maestria/INTELIGENCIA ARTIFICIAL/trabajo grupal 1/clean_enriquecer.csv\", index=None)"
   ]
  },
  {
   "cell_type": "markdown",
   "id": "52d05ba5-5b91-4f1a-aa31-7762ff00d163",
   "metadata": {},
   "source": [
    "# 5 Modelación"
   ]
  },
  {
   "cell_type": "code",
   "execution_count": 342,
   "id": "6e324a94-3161-4986-990e-a44442f3c572",
   "metadata": {},
   "outputs": [
    {
     "data": {
      "text/html": [
       "<div>\n",
       "<style scoped>\n",
       "    .dataframe tbody tr th:only-of-type {\n",
       "        vertical-align: middle;\n",
       "    }\n",
       "\n",
       "    .dataframe tbody tr th {\n",
       "        vertical-align: top;\n",
       "    }\n",
       "\n",
       "    .dataframe thead th {\n",
       "        text-align: right;\n",
       "    }\n",
       "</style>\n",
       "<table border=\"1\" class=\"dataframe\">\n",
       "  <thead>\n",
       "    <tr style=\"text-align: right;\">\n",
       "      <th></th>\n",
       "      <th>NUM BEN</th>\n",
       "      <th>BENEFICIARIO</th>\n",
       "      <th>RFC</th>\n",
       "      <th>FACT-NUE-FO</th>\n",
       "      <th>CONTRATO</th>\n",
       "      <th>CONCEPTO</th>\n",
       "      <th>TIPO</th>\n",
       "      <th># OP</th>\n",
       "      <th>FECHA</th>\n",
       "      <th>IMPORTE</th>\n",
       "      <th>SHEET</th>\n",
       "      <th>MES</th>\n",
       "      <th>FACT</th>\n",
       "      <th>NUM OP</th>\n",
       "      <th>FDO-#OP</th>\n",
       "      <th>DIA</th>\n",
       "      <th>AÑO</th>\n",
       "      <th>BENEFICIARIO_SALES</th>\n",
       "      <th>IMPORTE_GASTO_PROMEDIO</th>\n",
       "    </tr>\n",
       "  </thead>\n",
       "  <tbody>\n",
       "    <tr>\n",
       "      <th>0</th>\n",
       "      <td>206273</td>\n",
       "      <td>TESORERIA DE LA FEDERACION</td>\n",
       "      <td>SAT970701NN3</td>\n",
       "      <td>122020-153002-1</td>\n",
       "      <td>NO APLICA</td>\n",
       "      <td>REINTEGRO DE INTERESES DEL MES DE DICIEMBRE FO...</td>\n",
       "      <td>TR</td>\n",
       "      <td>297000067.0</td>\n",
       "      <td>2021-01-29</td>\n",
       "      <td>18309.00</td>\n",
       "      <td>CONTRATISTA</td>\n",
       "      <td>1</td>\n",
       "      <td>CC25551-158008-278</td>\n",
       "      <td>1020984.0</td>\n",
       "      <td>319000731.0</td>\n",
       "      <td>29</td>\n",
       "      <td>2021</td>\n",
       "      <td>26</td>\n",
       "      <td>404798.272627</td>\n",
       "    </tr>\n",
       "    <tr>\n",
       "      <th>1</th>\n",
       "      <td>206273</td>\n",
       "      <td>TESORERIA DE LA FEDERACION</td>\n",
       "      <td>SAT970701NN3</td>\n",
       "      <td>DASSPVM/5377/2021-158002-1</td>\n",
       "      <td>NO APLICA</td>\n",
       "      <td>REINTEGRO DE RECURSOS NO COMPROMETIDOS NI DEVE...</td>\n",
       "      <td>TR</td>\n",
       "      <td>303000013.0</td>\n",
       "      <td>2021-01-29</td>\n",
       "      <td>1190.70</td>\n",
       "      <td>CONTRATISTA</td>\n",
       "      <td>1</td>\n",
       "      <td>CC25550-158008-279</td>\n",
       "      <td>1020984.0</td>\n",
       "      <td>319000399.0</td>\n",
       "      <td>29</td>\n",
       "      <td>2021</td>\n",
       "      <td>26</td>\n",
       "      <td>404798.272627</td>\n",
       "    </tr>\n",
       "    <tr>\n",
       "      <th>2</th>\n",
       "      <td>206273</td>\n",
       "      <td>TESORERIA DE LA FEDERACION</td>\n",
       "      <td>SAT970701NN3</td>\n",
       "      <td>DASSPVM/5378/2021-158002-2</td>\n",
       "      <td>NO APLICA</td>\n",
       "      <td>REINTEGRO DE RENDIMIENTOS FINANCIEROS NO UTILI...</td>\n",
       "      <td>TR</td>\n",
       "      <td>303000012.0</td>\n",
       "      <td>2021-01-29</td>\n",
       "      <td>28356.00</td>\n",
       "      <td>CONTRATISTA</td>\n",
       "      <td>1</td>\n",
       "      <td>CC25549-158008-287</td>\n",
       "      <td>1021054.0</td>\n",
       "      <td>319000414.0</td>\n",
       "      <td>29</td>\n",
       "      <td>2021</td>\n",
       "      <td>26</td>\n",
       "      <td>404798.272627</td>\n",
       "    </tr>\n",
       "    <tr>\n",
       "      <th>3</th>\n",
       "      <td>206273</td>\n",
       "      <td>TESORERIA DE LA FEDERACION</td>\n",
       "      <td>SAT970701NN3</td>\n",
       "      <td>NO COMP-R33-2020-155002-1</td>\n",
       "      <td>NO APLICA</td>\n",
       "      <td>REINTEGRO DE IMPORTE NO COMPROMETIDO AL 31 DE ...</td>\n",
       "      <td>TR</td>\n",
       "      <td>298000071.0</td>\n",
       "      <td>2021-01-29</td>\n",
       "      <td>4294281.76</td>\n",
       "      <td>CONTRATISTA</td>\n",
       "      <td>1</td>\n",
       "      <td>CC25548-158008-284</td>\n",
       "      <td>1020999.0</td>\n",
       "      <td>319000453.0</td>\n",
       "      <td>29</td>\n",
       "      <td>2021</td>\n",
       "      <td>26</td>\n",
       "      <td>404798.272627</td>\n",
       "    </tr>\n",
       "    <tr>\n",
       "      <th>4</th>\n",
       "      <td>206273</td>\n",
       "      <td>TESORERIA DE LA FEDERACION</td>\n",
       "      <td>SAT970701NN3</td>\n",
       "      <td>PROD-FIN-PROAGUA-2020-155002-3</td>\n",
       "      <td>NO APLICA</td>\n",
       "      <td>REINTEGRO DE PRODUCTOS FINANCIEROS GENERADOS D...</td>\n",
       "      <td>TR</td>\n",
       "      <td>310000026.0</td>\n",
       "      <td>2021-01-29</td>\n",
       "      <td>59267.00</td>\n",
       "      <td>CONTRATISTA</td>\n",
       "      <td>1</td>\n",
       "      <td>CC25547-158008-285</td>\n",
       "      <td>314000022.0</td>\n",
       "      <td>1106699.0</td>\n",
       "      <td>29</td>\n",
       "      <td>2021</td>\n",
       "      <td>26</td>\n",
       "      <td>404798.272627</td>\n",
       "    </tr>\n",
       "  </tbody>\n",
       "</table>\n",
       "</div>"
      ],
      "text/plain": [
       "   NUM BEN                BENEFICIARIO           RFC  \\\n",
       "0   206273  TESORERIA DE LA FEDERACION  SAT970701NN3   \n",
       "1   206273  TESORERIA DE LA FEDERACION  SAT970701NN3   \n",
       "2   206273  TESORERIA DE LA FEDERACION  SAT970701NN3   \n",
       "3   206273  TESORERIA DE LA FEDERACION  SAT970701NN3   \n",
       "4   206273  TESORERIA DE LA FEDERACION  SAT970701NN3   \n",
       "\n",
       "                      FACT-NUE-FO   CONTRATO  \\\n",
       "0                 122020-153002-1  NO APLICA   \n",
       "1      DASSPVM/5377/2021-158002-1  NO APLICA   \n",
       "2      DASSPVM/5378/2021-158002-2  NO APLICA   \n",
       "3       NO COMP-R33-2020-155002-1  NO APLICA   \n",
       "4  PROD-FIN-PROAGUA-2020-155002-3  NO APLICA   \n",
       "\n",
       "                                            CONCEPTO TIPO         # OP  \\\n",
       "0  REINTEGRO DE INTERESES DEL MES DE DICIEMBRE FO...   TR  297000067.0   \n",
       "1  REINTEGRO DE RECURSOS NO COMPROMETIDOS NI DEVE...   TR  303000013.0   \n",
       "2  REINTEGRO DE RENDIMIENTOS FINANCIEROS NO UTILI...   TR  303000012.0   \n",
       "3  REINTEGRO DE IMPORTE NO COMPROMETIDO AL 31 DE ...   TR  298000071.0   \n",
       "4  REINTEGRO DE PRODUCTOS FINANCIEROS GENERADOS D...   TR  310000026.0   \n",
       "\n",
       "        FECHA     IMPORTE        SHEET  MES                FACT       NUM OP  \\\n",
       "0  2021-01-29    18309.00  CONTRATISTA    1  CC25551-158008-278    1020984.0   \n",
       "1  2021-01-29     1190.70  CONTRATISTA    1  CC25550-158008-279    1020984.0   \n",
       "2  2021-01-29    28356.00  CONTRATISTA    1  CC25549-158008-287    1021054.0   \n",
       "3  2021-01-29  4294281.76  CONTRATISTA    1  CC25548-158008-284    1020999.0   \n",
       "4  2021-01-29    59267.00  CONTRATISTA    1  CC25547-158008-285  314000022.0   \n",
       "\n",
       "       FDO-#OP  DIA   AÑO  BENEFICIARIO_SALES  IMPORTE_GASTO_PROMEDIO  \n",
       "0  319000731.0   29  2021                  26           404798.272627  \n",
       "1  319000399.0   29  2021                  26           404798.272627  \n",
       "2  319000414.0   29  2021                  26           404798.272627  \n",
       "3  319000453.0   29  2021                  26           404798.272627  \n",
       "4    1106699.0   29  2021                  26           404798.272627  "
      ]
     },
     "execution_count": 342,
     "metadata": {},
     "output_type": "execute_result"
    }
   ],
   "source": [
    "import pandas as pd\n",
    "modelacion=pd.read_csv(\"C:/Users/ASUS TUF/Documents/Maestria/INTELIGENCIA ARTIFICIAL/trabajo grupal 1/clean_enriquecer.csv\")\n",
    "modelacion.head(5)"
   ]
  },
  {
   "cell_type": "code",
   "execution_count": 344,
   "id": "c0075440-d16b-46d8-9c31-f64910a1a3ac",
   "metadata": {},
   "outputs": [
    {
     "data": {
      "text/plain": [
       "Index(['NUM BEN', 'BENEFICIARIO', 'RFC', 'FACT-NUE-FO', 'CONTRATO', 'CONCEPTO',\n",
       "       'TIPO', '# OP', 'FECHA', 'IMPORTE', 'SHEET', 'MES', 'FACT', 'NUM OP',\n",
       "       'FDO-#OP', 'DIA', 'AÑO', 'BENEFICIARIO_SALES',\n",
       "       'IMPORTE_GASTO_PROMEDIO'],\n",
       "      dtype='object')"
      ]
     },
     "execution_count": 344,
     "metadata": {},
     "output_type": "execute_result"
    }
   ],
   "source": [
    "modelacion.columns"
   ]
  },
  {
   "cell_type": "markdown",
   "id": "4ddaffc5-b5b9-4208-a6ba-beaf2d075e0b",
   "metadata": {},
   "source": [
    "## MODÉLO SUPERVISADO-RANDOM FOREST "
   ]
  },
  {
   "cell_type": "code",
   "execution_count": 356,
   "id": "80031258-81cd-44f5-b8fb-1ec07f29519d",
   "metadata": {},
   "outputs": [],
   "source": [
    "## pip install pandas scikit-learn \n",
    "### intalar esta libreria sino la tiene\n",
    "import pandas as pd\n",
    "from sklearn.model_selection import train_test_split\n",
    "from sklearn.ensemble import RandomForestClassifier\n",
    "from sklearn.metrics import classification_report, confusion_matrix, accuracy_score\n",
    " "
   ]
  },
  {
   "cell_type": "code",
   "execution_count": 357,
   "id": "34816e57-52d9-470c-b859-c0c78808479a",
   "metadata": {},
   "outputs": [
    {
     "name": "stdout",
     "output_type": "stream",
     "text": [
      "   NUM BEN                BENEFICIARIO           RFC  \\\n",
      "0   206273  TESORERIA DE LA FEDERACION  SAT970701NN3   \n",
      "1   206273  TESORERIA DE LA FEDERACION  SAT970701NN3   \n",
      "2   206273  TESORERIA DE LA FEDERACION  SAT970701NN3   \n",
      "3   206273  TESORERIA DE LA FEDERACION  SAT970701NN3   \n",
      "4   206273  TESORERIA DE LA FEDERACION  SAT970701NN3   \n",
      "\n",
      "                      FACT-NUE-FO   CONTRATO  \\\n",
      "0                 122020-153002-1  NO APLICA   \n",
      "1      DASSPVM/5377/2021-158002-1  NO APLICA   \n",
      "2      DASSPVM/5378/2021-158002-2  NO APLICA   \n",
      "3       NO COMP-R33-2020-155002-1  NO APLICA   \n",
      "4  PROD-FIN-PROAGUA-2020-155002-3  NO APLICA   \n",
      "\n",
      "                                            CONCEPTO TIPO         # OP  \\\n",
      "0  REINTEGRO DE INTERESES DEL MES DE DICIEMBRE FO...   TR  297000067.0   \n",
      "1  REINTEGRO DE RECURSOS NO COMPROMETIDOS NI DEVE...   TR  303000013.0   \n",
      "2  REINTEGRO DE RENDIMIENTOS FINANCIEROS NO UTILI...   TR  303000012.0   \n",
      "3  REINTEGRO DE IMPORTE NO COMPROMETIDO AL 31 DE ...   TR  298000071.0   \n",
      "4  REINTEGRO DE PRODUCTOS FINANCIEROS GENERADOS D...   TR  310000026.0   \n",
      "\n",
      "        FECHA     IMPORTE        SHEET  MES                FACT       NUM OP  \\\n",
      "0  2021-01-29    18309.00  CONTRATISTA    1  CC25551-158008-278    1020984.0   \n",
      "1  2021-01-29     1190.70  CONTRATISTA    1  CC25550-158008-279    1020984.0   \n",
      "2  2021-01-29    28356.00  CONTRATISTA    1  CC25549-158008-287    1021054.0   \n",
      "3  2021-01-29  4294281.76  CONTRATISTA    1  CC25548-158008-284    1020999.0   \n",
      "4  2021-01-29    59267.00  CONTRATISTA    1  CC25547-158008-285  314000022.0   \n",
      "\n",
      "       FDO-#OP  DIA   AÑO  BENEFICIARIO_SALES  IMPORTE_GASTO_PROMEDIO  \n",
      "0  319000731.0   29  2021                  26           404798.272627  \n",
      "1  319000399.0   29  2021                  26           404798.272627  \n",
      "2  319000414.0   29  2021                  26           404798.272627  \n",
      "3  319000453.0   29  2021                  26           404798.272627  \n",
      "4    1106699.0   29  2021                  26           404798.272627  \n"
     ]
    }
   ],
   "source": [
    "\n",
    "print(modelacion.head())\n",
    "\n",
    "# Seleccionar características y variable objetivo 'TIPO' es nuestra variable objetivo y el resto son características\n",
    "X = modelacion.drop('TIPO', axis=1)  # Eliminar la columna de destino\n",
    "y = modelacion['TIPO']  # Variable objetivo\n"
   ]
  },
  {
   "cell_type": "code",
   "execution_count": 358,
   "id": "dcc2529b-6a33-4815-a50a-ff4419c255da",
   "metadata": {},
   "outputs": [],
   "source": [
    "# Convertir variables categóricas a numéricas\n",
    "X = pd.get_dummies(X, drop_first=True)  # One-hot encoding\n"
   ]
  },
  {
   "cell_type": "code",
   "execution_count": 359,
   "id": "529f5125-45e5-4e08-a7e2-8952d6158813",
   "metadata": {},
   "outputs": [],
   "source": [
    "# Dividir el conjunto de datos\n",
    "X_train, X_test, y_train, y_test = train_test_split(X, y, test_size=0.2, random_state=42)\n"
   ]
  },
  {
   "cell_type": "code",
   "execution_count": 360,
   "id": "2b683dd6-375e-4aa2-9842-d83e6e9df5f3",
   "metadata": {},
   "outputs": [
    {
     "data": {
      "text/html": [
       "<style>#sk-container-id-2 {\n",
       "  /* Definition of color scheme common for light and dark mode */\n",
       "  --sklearn-color-text: black;\n",
       "  --sklearn-color-line: gray;\n",
       "  /* Definition of color scheme for unfitted estimators */\n",
       "  --sklearn-color-unfitted-level-0: #fff5e6;\n",
       "  --sklearn-color-unfitted-level-1: #f6e4d2;\n",
       "  --sklearn-color-unfitted-level-2: #ffe0b3;\n",
       "  --sklearn-color-unfitted-level-3: chocolate;\n",
       "  /* Definition of color scheme for fitted estimators */\n",
       "  --sklearn-color-fitted-level-0: #f0f8ff;\n",
       "  --sklearn-color-fitted-level-1: #d4ebff;\n",
       "  --sklearn-color-fitted-level-2: #b3dbfd;\n",
       "  --sklearn-color-fitted-level-3: cornflowerblue;\n",
       "\n",
       "  /* Specific color for light theme */\n",
       "  --sklearn-color-text-on-default-background: var(--sg-text-color, var(--theme-code-foreground, var(--jp-content-font-color1, black)));\n",
       "  --sklearn-color-background: var(--sg-background-color, var(--theme-background, var(--jp-layout-color0, white)));\n",
       "  --sklearn-color-border-box: var(--sg-text-color, var(--theme-code-foreground, var(--jp-content-font-color1, black)));\n",
       "  --sklearn-color-icon: #696969;\n",
       "\n",
       "  @media (prefers-color-scheme: dark) {\n",
       "    /* Redefinition of color scheme for dark theme */\n",
       "    --sklearn-color-text-on-default-background: var(--sg-text-color, var(--theme-code-foreground, var(--jp-content-font-color1, white)));\n",
       "    --sklearn-color-background: var(--sg-background-color, var(--theme-background, var(--jp-layout-color0, #111)));\n",
       "    --sklearn-color-border-box: var(--sg-text-color, var(--theme-code-foreground, var(--jp-content-font-color1, white)));\n",
       "    --sklearn-color-icon: #878787;\n",
       "  }\n",
       "}\n",
       "\n",
       "#sk-container-id-2 {\n",
       "  color: var(--sklearn-color-text);\n",
       "}\n",
       "\n",
       "#sk-container-id-2 pre {\n",
       "  padding: 0;\n",
       "}\n",
       "\n",
       "#sk-container-id-2 input.sk-hidden--visually {\n",
       "  border: 0;\n",
       "  clip: rect(1px 1px 1px 1px);\n",
       "  clip: rect(1px, 1px, 1px, 1px);\n",
       "  height: 1px;\n",
       "  margin: -1px;\n",
       "  overflow: hidden;\n",
       "  padding: 0;\n",
       "  position: absolute;\n",
       "  width: 1px;\n",
       "}\n",
       "\n",
       "#sk-container-id-2 div.sk-dashed-wrapped {\n",
       "  border: 1px dashed var(--sklearn-color-line);\n",
       "  margin: 0 0.4em 0.5em 0.4em;\n",
       "  box-sizing: border-box;\n",
       "  padding-bottom: 0.4em;\n",
       "  background-color: var(--sklearn-color-background);\n",
       "}\n",
       "\n",
       "#sk-container-id-2 div.sk-container {\n",
       "  /* jupyter's `normalize.less` sets `[hidden] { display: none; }`\n",
       "     but bootstrap.min.css set `[hidden] { display: none !important; }`\n",
       "     so we also need the `!important` here to be able to override the\n",
       "     default hidden behavior on the sphinx rendered scikit-learn.org.\n",
       "     See: https://github.com/scikit-learn/scikit-learn/issues/21755 */\n",
       "  display: inline-block !important;\n",
       "  position: relative;\n",
       "}\n",
       "\n",
       "#sk-container-id-2 div.sk-text-repr-fallback {\n",
       "  display: none;\n",
       "}\n",
       "\n",
       "div.sk-parallel-item,\n",
       "div.sk-serial,\n",
       "div.sk-item {\n",
       "  /* draw centered vertical line to link estimators */\n",
       "  background-image: linear-gradient(var(--sklearn-color-text-on-default-background), var(--sklearn-color-text-on-default-background));\n",
       "  background-size: 2px 100%;\n",
       "  background-repeat: no-repeat;\n",
       "  background-position: center center;\n",
       "}\n",
       "\n",
       "/* Parallel-specific style estimator block */\n",
       "\n",
       "#sk-container-id-2 div.sk-parallel-item::after {\n",
       "  content: \"\";\n",
       "  width: 100%;\n",
       "  border-bottom: 2px solid var(--sklearn-color-text-on-default-background);\n",
       "  flex-grow: 1;\n",
       "}\n",
       "\n",
       "#sk-container-id-2 div.sk-parallel {\n",
       "  display: flex;\n",
       "  align-items: stretch;\n",
       "  justify-content: center;\n",
       "  background-color: var(--sklearn-color-background);\n",
       "  position: relative;\n",
       "}\n",
       "\n",
       "#sk-container-id-2 div.sk-parallel-item {\n",
       "  display: flex;\n",
       "  flex-direction: column;\n",
       "}\n",
       "\n",
       "#sk-container-id-2 div.sk-parallel-item:first-child::after {\n",
       "  align-self: flex-end;\n",
       "  width: 50%;\n",
       "}\n",
       "\n",
       "#sk-container-id-2 div.sk-parallel-item:last-child::after {\n",
       "  align-self: flex-start;\n",
       "  width: 50%;\n",
       "}\n",
       "\n",
       "#sk-container-id-2 div.sk-parallel-item:only-child::after {\n",
       "  width: 0;\n",
       "}\n",
       "\n",
       "/* Serial-specific style estimator block */\n",
       "\n",
       "#sk-container-id-2 div.sk-serial {\n",
       "  display: flex;\n",
       "  flex-direction: column;\n",
       "  align-items: center;\n",
       "  background-color: var(--sklearn-color-background);\n",
       "  padding-right: 1em;\n",
       "  padding-left: 1em;\n",
       "}\n",
       "\n",
       "\n",
       "/* Toggleable style: style used for estimator/Pipeline/ColumnTransformer box that is\n",
       "clickable and can be expanded/collapsed.\n",
       "- Pipeline and ColumnTransformer use this feature and define the default style\n",
       "- Estimators will overwrite some part of the style using the `sk-estimator` class\n",
       "*/\n",
       "\n",
       "/* Pipeline and ColumnTransformer style (default) */\n",
       "\n",
       "#sk-container-id-2 div.sk-toggleable {\n",
       "  /* Default theme specific background. It is overwritten whether we have a\n",
       "  specific estimator or a Pipeline/ColumnTransformer */\n",
       "  background-color: var(--sklearn-color-background);\n",
       "}\n",
       "\n",
       "/* Toggleable label */\n",
       "#sk-container-id-2 label.sk-toggleable__label {\n",
       "  cursor: pointer;\n",
       "  display: block;\n",
       "  width: 100%;\n",
       "  margin-bottom: 0;\n",
       "  padding: 0.5em;\n",
       "  box-sizing: border-box;\n",
       "  text-align: center;\n",
       "}\n",
       "\n",
       "#sk-container-id-2 label.sk-toggleable__label-arrow:before {\n",
       "  /* Arrow on the left of the label */\n",
       "  content: \"▸\";\n",
       "  float: left;\n",
       "  margin-right: 0.25em;\n",
       "  color: var(--sklearn-color-icon);\n",
       "}\n",
       "\n",
       "#sk-container-id-2 label.sk-toggleable__label-arrow:hover:before {\n",
       "  color: var(--sklearn-color-text);\n",
       "}\n",
       "\n",
       "/* Toggleable content - dropdown */\n",
       "\n",
       "#sk-container-id-2 div.sk-toggleable__content {\n",
       "  max-height: 0;\n",
       "  max-width: 0;\n",
       "  overflow: hidden;\n",
       "  text-align: left;\n",
       "  /* unfitted */\n",
       "  background-color: var(--sklearn-color-unfitted-level-0);\n",
       "}\n",
       "\n",
       "#sk-container-id-2 div.sk-toggleable__content.fitted {\n",
       "  /* fitted */\n",
       "  background-color: var(--sklearn-color-fitted-level-0);\n",
       "}\n",
       "\n",
       "#sk-container-id-2 div.sk-toggleable__content pre {\n",
       "  margin: 0.2em;\n",
       "  border-radius: 0.25em;\n",
       "  color: var(--sklearn-color-text);\n",
       "  /* unfitted */\n",
       "  background-color: var(--sklearn-color-unfitted-level-0);\n",
       "}\n",
       "\n",
       "#sk-container-id-2 div.sk-toggleable__content.fitted pre {\n",
       "  /* unfitted */\n",
       "  background-color: var(--sklearn-color-fitted-level-0);\n",
       "}\n",
       "\n",
       "#sk-container-id-2 input.sk-toggleable__control:checked~div.sk-toggleable__content {\n",
       "  /* Expand drop-down */\n",
       "  max-height: 200px;\n",
       "  max-width: 100%;\n",
       "  overflow: auto;\n",
       "}\n",
       "\n",
       "#sk-container-id-2 input.sk-toggleable__control:checked~label.sk-toggleable__label-arrow:before {\n",
       "  content: \"▾\";\n",
       "}\n",
       "\n",
       "/* Pipeline/ColumnTransformer-specific style */\n",
       "\n",
       "#sk-container-id-2 div.sk-label input.sk-toggleable__control:checked~label.sk-toggleable__label {\n",
       "  color: var(--sklearn-color-text);\n",
       "  background-color: var(--sklearn-color-unfitted-level-2);\n",
       "}\n",
       "\n",
       "#sk-container-id-2 div.sk-label.fitted input.sk-toggleable__control:checked~label.sk-toggleable__label {\n",
       "  background-color: var(--sklearn-color-fitted-level-2);\n",
       "}\n",
       "\n",
       "/* Estimator-specific style */\n",
       "\n",
       "/* Colorize estimator box */\n",
       "#sk-container-id-2 div.sk-estimator input.sk-toggleable__control:checked~label.sk-toggleable__label {\n",
       "  /* unfitted */\n",
       "  background-color: var(--sklearn-color-unfitted-level-2);\n",
       "}\n",
       "\n",
       "#sk-container-id-2 div.sk-estimator.fitted input.sk-toggleable__control:checked~label.sk-toggleable__label {\n",
       "  /* fitted */\n",
       "  background-color: var(--sklearn-color-fitted-level-2);\n",
       "}\n",
       "\n",
       "#sk-container-id-2 div.sk-label label.sk-toggleable__label,\n",
       "#sk-container-id-2 div.sk-label label {\n",
       "  /* The background is the default theme color */\n",
       "  color: var(--sklearn-color-text-on-default-background);\n",
       "}\n",
       "\n",
       "/* On hover, darken the color of the background */\n",
       "#sk-container-id-2 div.sk-label:hover label.sk-toggleable__label {\n",
       "  color: var(--sklearn-color-text);\n",
       "  background-color: var(--sklearn-color-unfitted-level-2);\n",
       "}\n",
       "\n",
       "/* Label box, darken color on hover, fitted */\n",
       "#sk-container-id-2 div.sk-label.fitted:hover label.sk-toggleable__label.fitted {\n",
       "  color: var(--sklearn-color-text);\n",
       "  background-color: var(--sklearn-color-fitted-level-2);\n",
       "}\n",
       "\n",
       "/* Estimator label */\n",
       "\n",
       "#sk-container-id-2 div.sk-label label {\n",
       "  font-family: monospace;\n",
       "  font-weight: bold;\n",
       "  display: inline-block;\n",
       "  line-height: 1.2em;\n",
       "}\n",
       "\n",
       "#sk-container-id-2 div.sk-label-container {\n",
       "  text-align: center;\n",
       "}\n",
       "\n",
       "/* Estimator-specific */\n",
       "#sk-container-id-2 div.sk-estimator {\n",
       "  font-family: monospace;\n",
       "  border: 1px dotted var(--sklearn-color-border-box);\n",
       "  border-radius: 0.25em;\n",
       "  box-sizing: border-box;\n",
       "  margin-bottom: 0.5em;\n",
       "  /* unfitted */\n",
       "  background-color: var(--sklearn-color-unfitted-level-0);\n",
       "}\n",
       "\n",
       "#sk-container-id-2 div.sk-estimator.fitted {\n",
       "  /* fitted */\n",
       "  background-color: var(--sklearn-color-fitted-level-0);\n",
       "}\n",
       "\n",
       "/* on hover */\n",
       "#sk-container-id-2 div.sk-estimator:hover {\n",
       "  /* unfitted */\n",
       "  background-color: var(--sklearn-color-unfitted-level-2);\n",
       "}\n",
       "\n",
       "#sk-container-id-2 div.sk-estimator.fitted:hover {\n",
       "  /* fitted */\n",
       "  background-color: var(--sklearn-color-fitted-level-2);\n",
       "}\n",
       "\n",
       "/* Specification for estimator info (e.g. \"i\" and \"?\") */\n",
       "\n",
       "/* Common style for \"i\" and \"?\" */\n",
       "\n",
       ".sk-estimator-doc-link,\n",
       "a:link.sk-estimator-doc-link,\n",
       "a:visited.sk-estimator-doc-link {\n",
       "  float: right;\n",
       "  font-size: smaller;\n",
       "  line-height: 1em;\n",
       "  font-family: monospace;\n",
       "  background-color: var(--sklearn-color-background);\n",
       "  border-radius: 1em;\n",
       "  height: 1em;\n",
       "  width: 1em;\n",
       "  text-decoration: none !important;\n",
       "  margin-left: 1ex;\n",
       "  /* unfitted */\n",
       "  border: var(--sklearn-color-unfitted-level-1) 1pt solid;\n",
       "  color: var(--sklearn-color-unfitted-level-1);\n",
       "}\n",
       "\n",
       ".sk-estimator-doc-link.fitted,\n",
       "a:link.sk-estimator-doc-link.fitted,\n",
       "a:visited.sk-estimator-doc-link.fitted {\n",
       "  /* fitted */\n",
       "  border: var(--sklearn-color-fitted-level-1) 1pt solid;\n",
       "  color: var(--sklearn-color-fitted-level-1);\n",
       "}\n",
       "\n",
       "/* On hover */\n",
       "div.sk-estimator:hover .sk-estimator-doc-link:hover,\n",
       ".sk-estimator-doc-link:hover,\n",
       "div.sk-label-container:hover .sk-estimator-doc-link:hover,\n",
       ".sk-estimator-doc-link:hover {\n",
       "  /* unfitted */\n",
       "  background-color: var(--sklearn-color-unfitted-level-3);\n",
       "  color: var(--sklearn-color-background);\n",
       "  text-decoration: none;\n",
       "}\n",
       "\n",
       "div.sk-estimator.fitted:hover .sk-estimator-doc-link.fitted:hover,\n",
       ".sk-estimator-doc-link.fitted:hover,\n",
       "div.sk-label-container:hover .sk-estimator-doc-link.fitted:hover,\n",
       ".sk-estimator-doc-link.fitted:hover {\n",
       "  /* fitted */\n",
       "  background-color: var(--sklearn-color-fitted-level-3);\n",
       "  color: var(--sklearn-color-background);\n",
       "  text-decoration: none;\n",
       "}\n",
       "\n",
       "/* Span, style for the box shown on hovering the info icon */\n",
       ".sk-estimator-doc-link span {\n",
       "  display: none;\n",
       "  z-index: 9999;\n",
       "  position: relative;\n",
       "  font-weight: normal;\n",
       "  right: .2ex;\n",
       "  padding: .5ex;\n",
       "  margin: .5ex;\n",
       "  width: min-content;\n",
       "  min-width: 20ex;\n",
       "  max-width: 50ex;\n",
       "  color: var(--sklearn-color-text);\n",
       "  box-shadow: 2pt 2pt 4pt #999;\n",
       "  /* unfitted */\n",
       "  background: var(--sklearn-color-unfitted-level-0);\n",
       "  border: .5pt solid var(--sklearn-color-unfitted-level-3);\n",
       "}\n",
       "\n",
       ".sk-estimator-doc-link.fitted span {\n",
       "  /* fitted */\n",
       "  background: var(--sklearn-color-fitted-level-0);\n",
       "  border: var(--sklearn-color-fitted-level-3);\n",
       "}\n",
       "\n",
       ".sk-estimator-doc-link:hover span {\n",
       "  display: block;\n",
       "}\n",
       "\n",
       "/* \"?\"-specific style due to the `<a>` HTML tag */\n",
       "\n",
       "#sk-container-id-2 a.estimator_doc_link {\n",
       "  float: right;\n",
       "  font-size: 1rem;\n",
       "  line-height: 1em;\n",
       "  font-family: monospace;\n",
       "  background-color: var(--sklearn-color-background);\n",
       "  border-radius: 1rem;\n",
       "  height: 1rem;\n",
       "  width: 1rem;\n",
       "  text-decoration: none;\n",
       "  /* unfitted */\n",
       "  color: var(--sklearn-color-unfitted-level-1);\n",
       "  border: var(--sklearn-color-unfitted-level-1) 1pt solid;\n",
       "}\n",
       "\n",
       "#sk-container-id-2 a.estimator_doc_link.fitted {\n",
       "  /* fitted */\n",
       "  border: var(--sklearn-color-fitted-level-1) 1pt solid;\n",
       "  color: var(--sklearn-color-fitted-level-1);\n",
       "}\n",
       "\n",
       "/* On hover */\n",
       "#sk-container-id-2 a.estimator_doc_link:hover {\n",
       "  /* unfitted */\n",
       "  background-color: var(--sklearn-color-unfitted-level-3);\n",
       "  color: var(--sklearn-color-background);\n",
       "  text-decoration: none;\n",
       "}\n",
       "\n",
       "#sk-container-id-2 a.estimator_doc_link.fitted:hover {\n",
       "  /* fitted */\n",
       "  background-color: var(--sklearn-color-fitted-level-3);\n",
       "}\n",
       "</style><div id=\"sk-container-id-2\" class=\"sk-top-container\"><div class=\"sk-text-repr-fallback\"><pre>RandomForestClassifier(random_state=42)</pre><b>In a Jupyter environment, please rerun this cell to show the HTML representation or trust the notebook. <br />On GitHub, the HTML representation is unable to render, please try loading this page with nbviewer.org.</b></div><div class=\"sk-container\" hidden><div class=\"sk-item\"><div class=\"sk-estimator fitted sk-toggleable\"><input class=\"sk-toggleable__control sk-hidden--visually\" id=\"sk-estimator-id-2\" type=\"checkbox\" checked><label for=\"sk-estimator-id-2\" class=\"sk-toggleable__label fitted sk-toggleable__label-arrow fitted\">&nbsp;&nbsp;RandomForestClassifier<a class=\"sk-estimator-doc-link fitted\" rel=\"noreferrer\" target=\"_blank\" href=\"https://scikit-learn.org/1.4/modules/generated/sklearn.ensemble.RandomForestClassifier.html\">?<span>Documentation for RandomForestClassifier</span></a><span class=\"sk-estimator-doc-link fitted\">i<span>Fitted</span></span></label><div class=\"sk-toggleable__content fitted\"><pre>RandomForestClassifier(random_state=42)</pre></div> </div></div></div></div>"
      ],
      "text/plain": [
       "RandomForestClassifier(random_state=42)"
      ]
     },
     "execution_count": 360,
     "metadata": {},
     "output_type": "execute_result"
    }
   ],
   "source": [
    "# Crear el modelo\n",
    "rf_model = RandomForestClassifier(n_estimators=100, random_state=42)\n",
    "\n",
    "# Entrenar el modelo\n",
    "rf_model.fit(X_train, y_train)\n"
   ]
  },
  {
   "cell_type": "code",
   "execution_count": 476,
   "id": "e07838a8-0333-4961-9cdd-01d7af670a5d",
   "metadata": {},
   "outputs": [],
   "source": [
    "### Evaluacion del modelo"
   ]
  },
  {
   "cell_type": "code",
   "execution_count": 366,
   "id": "f3db87be-d9e2-48b0-9969-6c3db8ad143e",
   "metadata": {},
   "outputs": [
    {
     "name": "stdout",
     "output_type": "stream",
     "text": [
      "Confusion Matrix:\n",
      "[[ 459    3]\n",
      " [   6 2016]]\n",
      "\n",
      "Classification Report:\n",
      "              precision    recall  f1-score   support\n",
      "\n",
      "          CH       0.99      0.99      0.99       462\n",
      "          TR       1.00      1.00      1.00      2022\n",
      "\n",
      "    accuracy                           1.00      2484\n",
      "   macro avg       0.99      1.00      0.99      2484\n",
      "weighted avg       1.00      1.00      1.00      2484\n",
      "\n",
      "Accuracy: 1.00\n"
     ]
    }
   ],
   "source": [
    "# Hacer predicciones\n",
    "y_pred = rf_model.predict(X_test)\n",
    "\n",
    "# Evaluar el modelo\n",
    "print(\"Confusion Matrix:\")\n",
    "print(confusion_matrix(y_test, y_pred))\n",
    "\n",
    "print(\"\\nClassification Report:\")\n",
    "print(classification_report(y_test, y_pred))\n",
    "\n",
    "accuracy = accuracy_score(y_test, y_pred)\n",
    "print(f\"Accuracy: {accuracy:.2f}\")\n"
   ]
  },
  {
   "cell_type": "raw",
   "id": "717146b3-4057-4ccd-b877-4f3ec1135340",
   "metadata": {},
   "source": [
    "El modelo es muy efectivo para clasificar correctamente las instancias de ambas clases (CH y TR).\n",
    "La cantidad de falsos positivos y negativos es muy baja, lo que indica que el modelo no confunde las clases a menudo.\n",
    "Tiene un acccuracy de un porcentaje super alto lo que nos indica que es un buen modelo para este tipo de datos "
   ]
  },
  {
   "cell_type": "markdown",
   "id": "aefcffe5-d44a-41a0-921f-35ae85b15321",
   "metadata": {},
   "source": [
    "# Modelo no supervisado"
   ]
  },
  {
   "cell_type": "code",
   "execution_count": null,
   "id": "4c0232be-bf53-4fb6-8c72-1e7a624bad30",
   "metadata": {},
   "outputs": [],
   "source": [
    "### pip install pandas scikit-learn matplotlib\n",
    "## instalar esta libreria sino la tiene "
   ]
  },
  {
   "cell_type": "code",
   "execution_count": 370,
   "id": "ca4da17a-9f72-468a-9a55-f8cf24327092",
   "metadata": {},
   "outputs": [],
   "source": [
    "import pandas as pd\n",
    "import numpy as np\n",
    "import matplotlib.pyplot as plt\n",
    "from sklearn.cluster import KMeans\n",
    "from sklearn.decomposition import PCA\n",
    "from sklearn.preprocessing import StandardScaler\n"
   ]
  },
  {
   "cell_type": "code",
   "execution_count": 372,
   "id": "e62b919c-2113-44af-b886-40de796d12ec",
   "metadata": {},
   "outputs": [],
   "source": [
    "# Variables de entrada\n",
    "# Suponiendo que 'CONTRATO' es el número de contratos y 'IMPORTE' es el importe\n",
    "\n",
    "# Crear un DataFrame con las variables necesarias\n",
    "input_data = modelacion.groupby('BENEFICIARIO').agg({\n",
    "    'CONTRATO': 'count',        # Número de contratos\n",
    "    'IMPORTE': 'sum',          # Suma del importe\n",
    "    'FACT': 'count',           # Número de facturas\n",
    "    'MES': 'first'             # Variable adicional (especificar en comentarios)\n",
    "}).reset_index()\n",
    "\n",
    "# Renombrar columnas para mayor claridad\n",
    "input_data.columns = ['BENEFICIARIO', 'NUM_CONTRATOS', 'SUM_IMPORTE', 'NUM_FACTURAS', 'MES']\n"
   ]
  },
  {
   "cell_type": "markdown",
   "id": "109c80cc-eda6-4341-94d4-616fd7362859",
   "metadata": {},
   "source": [
    "### K-MEANS y PCA"
   ]
  },
  {
   "cell_type": "code",
   "execution_count": 434,
   "id": "c402e05f-7719-4f36-828f-45388ffdca4f",
   "metadata": {},
   "outputs": [],
   "source": [
    "# Estandarizar los datos\n",
    "scaler = StandardScaler()\n",
    "scaled_data = scaler.fit_transform(input_data[['NUM_CONTRATOS', 'SUM_IMPORTE', 'NUM_FACTURAS']])\n"
   ]
  },
  {
   "cell_type": "markdown",
   "id": "4b33ff48-9628-44b3-b7be-d8a2ec890d8b",
   "metadata": {},
   "source": [
    "### Grafico de codo"
   ]
  },
  {
   "cell_type": "code",
   "execution_count": 436,
   "id": "67b84141-8f68-4121-aa88-38be96d53775",
   "metadata": {},
   "outputs": [
    {
     "data": {
      "image/png": "[encoded data removed]",
      "text/plain": [
       "<Figure size 1000x600 with 1 Axes>"
      ]
     },
     "metadata": {},
     "output_type": "display_data"
    }
   ],
   "source": [
    "# Lista para almacenar la suma de errores cuadráticos (SSE)\n",
    "sse = []\n",
    "\n",
    "# Probar diferentes números de clusters\n",
    "k_range = range(1, 11)  # Cambia el rango según sea necesario\n",
    "for k in k_range:\n",
    "    kmeans = KMeans(n_clusters=k, random_state=42)\n",
    "    kmeans.fit(scaled_data)\n",
    "    sse.append(kmeans.inertia_)  # Inertia es la suma de errores cuadráticos\n",
    "\n",
    "# Graficar el método del codo\n",
    "plt.figure(figsize=(10, 6))\n",
    "plt.plot(k_range, sse, marker='o')\n",
    "plt.title('Método del Codo de Jambú')\n",
    "plt.xlabel('Número de Clusters')\n",
    "plt.ylabel('Suma de Errores Cuadráticos (SSE)')\n",
    "plt.xticks(k_range)\n",
    "plt.grid()\n",
    "plt.show()\n"
   ]
  },
  {
   "cell_type": "markdown",
   "id": "b2689184-cd72-4b0b-ac91-8bd79e24b43c",
   "metadata": {},
   "source": [
    "###  K-means"
   ]
  },
  {
   "cell_type": "code",
   "execution_count": 437,
   "id": "dab0a282-6bab-4e25-82f1-045a21ebe12f",
   "metadata": {},
   "outputs": [],
   "source": [
    "# Implementar K-means\n",
    "kmeans = KMeans(n_clusters=4, random_state=42)  # Cambia el número de clusters según tus necesidades\n",
    "kmeans.fit(scaled_data)\n",
    "\n",
    "# Agregar la etiqueta de cluster al DataFrame\n",
    "input_data['CLUSTER'] = kmeans.labels_\n"
   ]
  },
  {
   "cell_type": "markdown",
   "id": "05063e30-40a4-4ec8-ad15-78effdce8d99",
   "metadata": {},
   "source": [
    "### PCA"
   ]
  },
  {
   "cell_type": "code",
   "execution_count": 438,
   "id": "7ae81bb1-f106-47b6-bc0e-7738bd4bd88f",
   "metadata": {},
   "outputs": [
    {
     "data": {
      "image/png": "[encoded data removed]",
      "text/plain": [
       "<Figure size 1000x600 with 2 Axes>"
      ]
     },
     "metadata": {},
     "output_type": "display_data"
    }
   ],
   "source": [
    "# Aplicar PCA\n",
    "pca = PCA(n_components=2)\n",
    "pca_result = pca.fit_transform(scaled_data)\n",
    "\n",
    "# Agregar resultados de PCA al DataFrame\n",
    "input_data['PCA1'] = pca_result[:, 0]\n",
    "input_data['PCA2'] = pca_result[:, 1]\n",
    "\n",
    "# Visualizar los clusters\n",
    "plt.figure(figsize=(10, 6))\n",
    "plt.scatter(input_data['PCA1'], input_data['PCA2'], c=input_data['CLUSTER'], cmap='viridis', alpha=0.6)\n",
    "plt.title('K-means Clustering with PCA')\n",
    "plt.xlabel('PCA Component 1')\n",
    "plt.ylabel('PCA Component 2')\n",
    "plt.colorbar(label='Cluster')\n",
    "plt.show()\n"
   ]
  },
  {
   "cell_type": "code",
   "execution_count": 440,
   "id": "5fd14f0a-b08d-473f-b739-abb408c375da",
   "metadata": {},
   "outputs": [
    {
     "name": "stdout",
     "output_type": "stream",
     "text": [
      "Silhouette Score: 0.98\n"
     ]
    }
   ],
   "source": [
    "from sklearn.metrics import silhouette_score\n",
    "\n",
    "# Calcular el Silhouette Score\n",
    "silhouette_avg = silhouette_score(scaled_data, kmeans.labels_)\n",
    "print(f\"Silhouette Score: {silhouette_avg:.2f}\")\n"
   ]
  },
  {
   "cell_type": "raw",
   "id": "a75a81a3-e7f2-4d01-9213-f9bae55c260c",
   "metadata": {},
   "source": [
    "El valor de 0.98 indica que casi todos los puntos están bien agrupados en su respectivo cluster.\n"
   ]
  }
 ],
 "metadata": {
  "kernelspec": {
   "display_name": "Python 3 (ipykernel)",
   "language": "python",
   "name": "python3"
  },
  "language_info": {
   "codemirror_mode": {
    "name": "ipython",
    "version": 3
   },
   "file_extension": ".py",
   "mimetype": "text/x-python",
   "name": "python",
   "nbconvert_exporter": "python",
   "pygments_lexer": "ipython3",
   "version": "3.12.4"
  }
 },
 "nbformat": 4,
 "nbformat_minor": 5
}
